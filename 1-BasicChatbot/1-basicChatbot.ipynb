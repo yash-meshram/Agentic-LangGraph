{
 "cells": [
  {
   "cell_type": "markdown",
   "id": "3ca2c998",
   "metadata": {},
   "source": [
    "## Build a basic chatbot with 'LangGraph' using 'Graph API'"
   ]
  },
  {
   "cell_type": "markdown",
   "id": "4c3d3da7",
   "metadata": {},
   "source": [
    "Components of LangGraph\n",
    "- Edge = arow in graph\n",
    "- Nodes = box in graph\n",
    "- State = variable that can be access by any Node\n",
    "\n",
    "\"State Graph\""
   ]
  },
  {
   "cell_type": "markdown",
   "id": "2e296e68",
   "metadata": {},
   "source": [
    "input ---> NODE(\"ChatBot\") ---> output\n",
    "\n",
    "NODE(\"ChatBot) => LLM + Prompt"
   ]
  },
  {
   "cell_type": "code",
   "execution_count": null,
   "id": "0121a523",
   "metadata": {},
   "outputs": [],
   "source": [
    "from typing import Annotated\n",
    "\n",
    "from typing_extensions import TypedDict             # dict type\n",
    "\n",
    "from langgraph.graph import (\n",
    "    StateGraph,                                     # whole graph\n",
    "    START,                                          # start node\n",
    "    END                                             # end node\n",
    ")\n",
    "\n",
    "from langgraph.graph.message import add_messages    # reducers"
   ]
  },
  {
   "cell_type": "markdown",
   "id": "72de4871",
   "metadata": {},
   "source": [
    "state_varaiable = {\n",
    "    messages = [list of all the messages any new message will be appended here]\n",
    "}\n",
    "\n",
    "to append the message in messages list we can use \"Reducers\". 'add_messages' is one of the reducers.\n",
    "\n",
    "mesages have type list.\n",
    "the add_messages annotation defines how the 'State' should be updated.\n",
    "in this case (when we are using add_messages), it appends the message to the list rather than overwriting them"
   ]
  },
  {
   "cell_type": "code",
   "execution_count": 63,
   "id": "80f6d617",
   "metadata": {},
   "outputs": [],
   "source": [
    "class State(TypedDict):\n",
    "    messages: Annotated[list, add_messages]\n",
    "    \n",
    "graph_builder = StateGraph(State)"
   ]
  },
  {
   "cell_type": "code",
   "execution_count": 64,
   "id": "22344f4b",
   "metadata": {},
   "outputs": [
    {
     "data": {
      "text/plain": [
       "<langgraph.graph.state.StateGraph at 0x7c0ed28c6420>"
      ]
     },
     "execution_count": 64,
     "metadata": {},
     "output_type": "execute_result"
    }
   ],
   "source": [
    "graph_builder"
   ]
  },
  {
   "cell_type": "code",
   "execution_count": 65,
   "id": "de424359",
   "metadata": {},
   "outputs": [
    {
     "data": {
      "text/plain": [
       "True"
      ]
     },
     "execution_count": 65,
     "metadata": {},
     "output_type": "execute_result"
    }
   ],
   "source": [
    "import os\n",
    "from dotenv import load_dotenv\n",
    "load_dotenv()"
   ]
  },
  {
   "cell_type": "markdown",
   "id": "8c6614df",
   "metadata": {},
   "source": [
    "### LLM"
   ]
  },
  {
   "cell_type": "code",
   "execution_count": 66,
   "id": "ee70daad",
   "metadata": {},
   "outputs": [
    {
     "data": {
      "text/plain": [
       "ChatGroq(client=<groq.resources.chat.completions.Completions object at 0x7c0ed27cb3e0>, async_client=<groq.resources.chat.completions.AsyncCompletions object at 0x7c0ed27cbe90>, model_name='llama3-8b-8192', model_kwargs={}, groq_api_key=SecretStr('**********'))"
      ]
     },
     "execution_count": 66,
     "metadata": {},
     "output_type": "execute_result"
    }
   ],
   "source": [
    "# defining LLM\n",
    "\n",
    "from langchain_groq import ChatGroq\n",
    "from langchain.chat_models import init_chat_model\n",
    "\n",
    "llm = ChatGroq(model = \"llama3-8b-8192\")\n",
    "llm"
   ]
  },
  {
   "cell_type": "code",
   "execution_count": 67,
   "id": "1d6b9270",
   "metadata": {},
   "outputs": [
    {
     "data": {
      "text/plain": [
       "ChatGroq(client=<groq.resources.chat.completions.Completions object at 0x7c0ed27c96a0>, async_client=<groq.resources.chat.completions.AsyncCompletions object at 0x7c0ed260da60>, model_name='llama3-8b-8192', model_kwargs={}, groq_api_key=SecretStr('**********'))"
      ]
     },
     "execution_count": 67,
     "metadata": {},
     "output_type": "execute_result"
    }
   ],
   "source": [
    "llm = init_chat_model(\"groq:llama3-8b-8192\")\n",
    "llm"
   ]
  },
  {
   "cell_type": "markdown",
   "id": "02ec8ce8",
   "metadata": {},
   "source": [
    "### Node"
   ]
  },
  {
   "cell_type": "code",
   "execution_count": 68,
   "id": "9b9905b8",
   "metadata": {},
   "outputs": [],
   "source": [
    "def chatbot(state: State):\n",
    "    return {\n",
    "        \"messages\": [llm.invoke(state['messages'])]\n",
    "    }"
   ]
  },
  {
   "cell_type": "markdown",
   "id": "cdb90232",
   "metadata": {},
   "source": [
    "### Building Graph"
   ]
  },
  {
   "cell_type": "markdown",
   "id": "a9d27fd2",
   "metadata": {},
   "source": [
    "we have\n",
    "- 1 input\n",
    "- 1 output\n",
    "- 1 Node\n",
    "- 2 Edge\n",
    "- 1 State"
   ]
  },
  {
   "cell_type": "code",
   "execution_count": 69,
   "id": "1db1d00c",
   "metadata": {},
   "outputs": [
    {
     "data": {
      "image/png": "[encoded data removed]",
      "text/plain": [
       "<langgraph.graph.state.CompiledStateGraph object at 0x7c0ed27c97c0>"
      ]
     },
     "execution_count": 69,
     "metadata": {},
     "output_type": "execute_result"
    }
   ],
   "source": [
    "graph_builder = StateGraph(State)\n",
    "\n",
    "# adding node\n",
    "graph_builder.add_node(\"ChatBot\", chatbot)\n",
    "\n",
    "# adding Edge\n",
    "graph_builder.add_edge(START, \"ChatBot\")\n",
    "graph_builder.add_edge(\"ChatBot\", END)\n",
    "\n",
    "# Compile the Graph\n",
    "graph = graph_builder.compile()\n",
    "graph"
   ]
  },
  {
   "cell_type": "markdown",
   "id": "4d9ce86b",
   "metadata": {},
   "source": [
    "### Visualize the Graph"
   ]
  },
  {
   "cell_type": "code",
   "execution_count": 70,
   "id": "2357f7fd",
   "metadata": {},
   "outputs": [
    {
     "data": {
      "image/png": "[encoded data removed]",
      "text/plain": [
       "<IPython.core.display.Image object>"
      ]
     },
     "metadata": {},
     "output_type": "display_data"
    }
   ],
   "source": [
    "from IPython.display import Image, display\n",
    "\n",
    "try:\n",
    "    display(\n",
    "        Image(\n",
    "            graph.get_graph().draw_mermaid_png()\n",
    "        )\n",
    "    )\n",
    "except Exception:\n",
    "    pass"
   ]
  },
  {
   "cell_type": "markdown",
   "id": "fc196241",
   "metadata": {},
   "source": [
    "## Running this Graph"
   ]
  },
  {
   "cell_type": "code",
   "execution_count": 71,
   "id": "9242258e",
   "metadata": {},
   "outputs": [],
   "source": [
    "response = graph.invoke({\"messages\": \"Hi, how are you? Tell me your model name.\"})"
   ]
  },
  {
   "cell_type": "code",
   "execution_count": 72,
   "id": "93b15de6",
   "metadata": {},
   "outputs": [
    {
     "data": {
      "text/plain": [
       "{'messages': [HumanMessage(content='Hi, how are you? Tell me your model name.', additional_kwargs={}, response_metadata={}, id='0fad2ead-ec33-4da2-8d7a-0f22d53f5617'),\n",
       "  AIMessage(content=\"I'm doing well, thanks for asking! I'm LLaMA, an AI assistant developed by Meta AI that can understand and respond to human input in a conversational manner. I'm a large language model trained on a massive dataset of text from the internet and can generate human-like responses to a wide range of topics and questions. I'm here to help answer your questions, provide information, or simply chat with you if you'd like!\", additional_kwargs={}, response_metadata={'token_usage': {'completion_tokens': 90, 'prompt_tokens': 22, 'total_tokens': 112, 'completion_time': 0.144415615, 'prompt_time': 0.003894961, 'queue_time': 0.26963816300000004, 'total_time': 0.148310576}, 'model_name': 'llama3-8b-8192', 'system_fingerprint': 'fp_8af39bf2ae', 'finish_reason': 'stop', 'logprobs': None}, id='run--6c10a335-7f34-42b6-a5d8-95c05fbd8da9-0', usage_metadata={'input_tokens': 22, 'output_tokens': 90, 'total_tokens': 112})]}"
      ]
     },
     "execution_count": 72,
     "metadata": {},
     "output_type": "execute_result"
    }
   ],
   "source": [
    "response"
   ]
  },
  {
   "cell_type": "code",
   "execution_count": 73,
   "id": "9db813a5",
   "metadata": {},
   "outputs": [
    {
     "data": {
      "text/plain": [
       "[HumanMessage(content='Hi, how are you? Tell me your model name.', additional_kwargs={}, response_metadata={}, id='0fad2ead-ec33-4da2-8d7a-0f22d53f5617'),\n",
       " AIMessage(content=\"I'm doing well, thanks for asking! I'm LLaMA, an AI assistant developed by Meta AI that can understand and respond to human input in a conversational manner. I'm a large language model trained on a massive dataset of text from the internet and can generate human-like responses to a wide range of topics and questions. I'm here to help answer your questions, provide information, or simply chat with you if you'd like!\", additional_kwargs={}, response_metadata={'token_usage': {'completion_tokens': 90, 'prompt_tokens': 22, 'total_tokens': 112, 'completion_time': 0.144415615, 'prompt_time': 0.003894961, 'queue_time': 0.26963816300000004, 'total_time': 0.148310576}, 'model_name': 'llama3-8b-8192', 'system_fingerprint': 'fp_8af39bf2ae', 'finish_reason': 'stop', 'logprobs': None}, id='run--6c10a335-7f34-42b6-a5d8-95c05fbd8da9-0', usage_metadata={'input_tokens': 22, 'output_tokens': 90, 'total_tokens': 112})]"
      ]
     },
     "execution_count": 73,
     "metadata": {},
     "output_type": "execute_result"
    }
   ],
   "source": [
    "response[\"messages\"]"
   ]
  },
  {
   "cell_type": "code",
   "execution_count": 74,
   "id": "0bcc408e",
   "metadata": {},
   "outputs": [
    {
     "data": {
      "text/plain": [
       "{'messages': [HumanMessage(content='what is todays date?', additional_kwargs={}, response_metadata={}, id='b635ca69-bd64-4a43-b2b6-a7a2c318b2ad'),\n",
       "  AIMessage(content=\"I'm just an AI, I don't have have access to real-time information, so I don't know the current date. However, I can suggest some ways for you to find out today's date:\\n\\n1. Check your phone or computer's calendar app.\\n2. Look at a newspaper or news website.\\n3. Check the date on a clock or watch.\\n4. Ask a friend or family member what today's date is.\\n\\nAlternatively, if you're looking for a specific date in the past or future, I can help you with that. Just let me know what date you're interested in, and I'll do my best to provide the information you need.\", additional_kwargs={}, response_metadata={'token_usage': {'completion_tokens': 136, 'prompt_tokens': 16, 'total_tokens': 152, 'completion_time': 0.183675917, 'prompt_time': 0.003661288, 'queue_time': 0.270998901, 'total_time': 0.187337205}, 'model_name': 'llama3-8b-8192', 'system_fingerprint': 'fp_8b7c3a83f7', 'finish_reason': 'stop', 'logprobs': None}, id='run--f6dab653-a825-4008-a9f3-e1d7491275bf-0', usage_metadata={'input_tokens': 16, 'output_tokens': 136, 'total_tokens': 152})]}"
      ]
     },
     "execution_count": 74,
     "metadata": {},
     "output_type": "execute_result"
    }
   ],
   "source": [
    "graph.invoke({\"messages\": \"what is todays date?\"})"
   ]
  },
  {
   "cell_type": "code",
   "execution_count": 80,
   "id": "105ca5d3",
   "metadata": {},
   "outputs": [
    {
     "data": {
      "text/plain": [
       "\"I'm doing well, thanks for asking! I'm LLaMA, an AI assistant developed by Meta AI that can understand and respond to human input in a conversational manner. I'm a large language model trained on a massive dataset of text from the internet and can generate human-like responses to a wide range of topics and questions. I'm here to help answer your questions, provide information, or simply chat with you if you'd like!\""
      ]
     },
     "execution_count": 80,
     "metadata": {},
     "output_type": "execute_result"
    }
   ],
   "source": [
    "response[\"messages\"][-1].content"
   ]
  },
  {
   "cell_type": "code",
   "execution_count": null,
   "id": "a3b1bc84",
   "metadata": {},
   "outputs": [],
   "source": []
  }
 ],
 "metadata": {
  "kernelspec": {
   "display_name": "myenv",
   "language": "python",
   "name": "python3"
  },
  "language_info": {
   "codemirror_mode": {
    "name": "ipython",
    "version": 3
   },
   "file_extension": ".py",
   "mimetype": "text/x-python",
   "name": "python",
   "nbconvert_exporter": "python",
   "pygments_lexer": "ipython3",
   "version": "3.12.3"
  }
 },
 "nbformat": 4,
 "nbformat_minor": 5
}
