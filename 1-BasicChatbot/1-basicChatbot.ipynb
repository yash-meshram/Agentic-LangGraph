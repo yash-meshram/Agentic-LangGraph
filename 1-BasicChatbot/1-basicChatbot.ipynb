{
 "cells": [
  {
   "cell_type": "markdown",
   "id": "3ca2c998",
   "metadata": {},
   "source": [
    "## Build a basic chatbot with 'LangGraph' using 'Graph API'"
   ]
  },
  {
   "cell_type": "markdown",
   "id": "4c3d3da7",
   "metadata": {},
   "source": [
    "Components of LangGraph\n",
    "- Edge = arow in graph\n",
    "- Nodes = box in graph\n",
    "- State = variable that can be access by any Node\n",
    "\n",
    "\"State Graph\""
   ]
  },
  {
   "cell_type": "markdown",
   "id": "2e296e68",
   "metadata": {},
   "source": [
    "input ---> NODE(\"ChatBot\") ---> output\n",
    "\n",
    "NODE(\"ChatBot) => LLM + Prompt"
   ]
  },
  {
   "cell_type": "code",
   "execution_count": 43,
   "id": "0121a523",
   "metadata": {},
   "outputs": [],
   "source": [
    "from typing import Annotated\n",
    "\n",
    "from typing_extensions import TypedDict             # dict type\n",
    "\n",
    "from langgraph.graph import (\n",
    "    StateGraph,                                     # whole graph\n",
    "    START,                                          # start node\n",
    "    END                                             # end node\n",
    ")\n",
    "\n",
    "from langgraph.graph.message import add_messages    # reducers"
   ]
  },
  {
   "cell_type": "markdown",
   "id": "72de4871",
   "metadata": {},
   "source": [
    "state_varaiable = {\n",
    "    messages = [list of all the messages any new message will be appended here]\n",
    "}\n",
    "\n",
    "to append the message in messages list we can use \"Reducers\". 'add_messages' is one of the reducers.\n",
    "\n",
    "mesages have type list.\n",
    "the add_messages annotation defines how the 'State' should be updated.\n",
    "in this case (when we are using add_messages), it appends the message to the list rather than overwriting them"
   ]
  },
  {
   "cell_type": "code",
   "execution_count": 44,
   "id": "80f6d617",
   "metadata": {},
   "outputs": [],
   "source": [
    "class State(TypedDict):\n",
    "    messages: Annotated[list, add_messages]\n",
    "    \n",
    "graph_builder = StateGraph(State)"
   ]
  },
  {
   "cell_type": "code",
   "execution_count": 45,
   "id": "22344f4b",
   "metadata": {},
   "outputs": [
    {
     "data": {
      "text/plain": [
       "<langgraph.graph.state.StateGraph at 0x7b5f916d2090>"
      ]
     },
     "execution_count": 45,
     "metadata": {},
     "output_type": "execute_result"
    }
   ],
   "source": [
    "graph_builder"
   ]
  },
  {
   "cell_type": "code",
   "execution_count": 46,
   "id": "de424359",
   "metadata": {},
   "outputs": [
    {
     "data": {
      "text/plain": [
       "True"
      ]
     },
     "execution_count": 46,
     "metadata": {},
     "output_type": "execute_result"
    }
   ],
   "source": [
    "import os\n",
    "from dotenv import load_dotenv\n",
    "load_dotenv()"
   ]
  },
  {
   "cell_type": "markdown",
   "id": "8c6614df",
   "metadata": {},
   "source": [
    "### LLM"
   ]
  },
  {
   "cell_type": "code",
   "execution_count": 47,
   "id": "ee70daad",
   "metadata": {},
   "outputs": [
    {
     "data": {
      "text/plain": [
       "ChatGroq(client=<groq.resources.chat.completions.Completions object at 0x7b5f914f27e0>, async_client=<groq.resources.chat.completions.AsyncCompletions object at 0x7b5f914f3320>, model_name='llama3-8b-8192', model_kwargs={}, groq_api_key=SecretStr('**********'))"
      ]
     },
     "execution_count": 47,
     "metadata": {},
     "output_type": "execute_result"
    }
   ],
   "source": [
    "# defining LLM\n",
    "\n",
    "from langchain_groq import ChatGroq\n",
    "from langchain.chat_models import init_chat_model\n",
    "\n",
    "llm = ChatGroq(model = \"llama3-8b-8192\")\n",
    "llm"
   ]
  },
  {
   "cell_type": "code",
   "execution_count": 48,
   "id": "1d6b9270",
   "metadata": {},
   "outputs": [
    {
     "data": {
      "text/plain": [
       "ChatGroq(client=<groq.resources.chat.completions.Completions object at 0x7b5f91618740>, async_client=<groq.resources.chat.completions.AsyncCompletions object at 0x7b5f916cda60>, model_name='llama3-8b-8192', model_kwargs={}, groq_api_key=SecretStr('**********'))"
      ]
     },
     "execution_count": 48,
     "metadata": {},
     "output_type": "execute_result"
    }
   ],
   "source": [
    "llm = init_chat_model(\"groq:llama3-8b-8192\")\n",
    "llm"
   ]
  },
  {
   "cell_type": "markdown",
   "id": "02ec8ce8",
   "metadata": {},
   "source": [
    "### Node"
   ]
  },
  {
   "cell_type": "code",
   "execution_count": 49,
   "id": "9b9905b8",
   "metadata": {},
   "outputs": [],
   "source": [
    "def chatbot(state: State):\n",
    "    return {\n",
    "        \"messages\": [llm.invoke(state['messages'])]\n",
    "    }"
   ]
  },
  {
   "cell_type": "markdown",
   "id": "cdb90232",
   "metadata": {},
   "source": [
    "### Building Graph"
   ]
  },
  {
   "cell_type": "markdown",
   "id": "a9d27fd2",
   "metadata": {},
   "source": [
    "we have\n",
    "- 1 input\n",
    "- 1 output\n",
    "- 1 Node\n",
    "- 2 Edge\n",
    "- 1 State"
   ]
  },
  {
   "cell_type": "code",
   "execution_count": 50,
   "id": "1db1d00c",
   "metadata": {},
   "outputs": [
    {
     "data": {
      "image/png": "[encoded data removed]",
      "text/plain": [
       "<langgraph.graph.state.CompiledStateGraph object at 0x7b5f9161b230>"
      ]
     },
     "execution_count": 50,
     "metadata": {},
     "output_type": "execute_result"
    }
   ],
   "source": [
    "graph_builder = StateGraph(State)\n",
    "\n",
    "# adding node\n",
    "graph_builder.add_node(\"ChatBot\", chatbot)\n",
    "\n",
    "# adding Edge\n",
    "graph_builder.add_edge(START, \"ChatBot\")\n",
    "graph_builder.add_edge(\"ChatBot\", END)\n",
    "\n",
    "# Compile the Graph\n",
    "graph = graph_builder.compile()\n",
    "graph"
   ]
  },
  {
   "cell_type": "markdown",
   "id": "4d9ce86b",
   "metadata": {},
   "source": [
    "### Visualize the Graph"
   ]
  },
  {
   "cell_type": "code",
   "execution_count": 51,
   "id": "2357f7fd",
   "metadata": {},
   "outputs": [
    {
     "data": {
      "image/png": "[encoded data removed]",
      "text/plain": [
       "<IPython.core.display.Image object>"
      ]
     },
     "metadata": {},
     "output_type": "display_data"
    }
   ],
   "source": [
    "from IPython.display import Image, display\n",
    "\n",
    "try:\n",
    "    display(\n",
    "        Image(\n",
    "            graph.get_graph().draw_mermaid_png()\n",
    "        )\n",
    "    )\n",
    "except Exception:\n",
    "    pass"
   ]
  },
  {
   "cell_type": "markdown",
   "id": "fc196241",
   "metadata": {},
   "source": [
    "## Running this Graph"
   ]
  },
  {
   "cell_type": "code",
   "execution_count": 52,
   "id": "9242258e",
   "metadata": {},
   "outputs": [],
   "source": [
    "response = graph.invoke({\"messages\": \"Hi, how are you? Tell me your model name.\"})"
   ]
  },
  {
   "cell_type": "code",
   "execution_count": 53,
   "id": "93b15de6",
   "metadata": {},
   "outputs": [
    {
     "data": {
      "text/plain": [
       "{'messages': [HumanMessage(content='Hi, how are you? Tell me your model name.', additional_kwargs={}, response_metadata={}, id='5b31ed52-5773-4f76-97c8-9a7e1fe8c5ad'),\n",
       "  AIMessage(content=\"Hi! I'm happy to chat with you. I'm LLaMA, an AI assistant developed by Meta AI that can understand and respond to human input in a conversational manner. I'm not a human, but a computer program designed to simulate conversation and answer questions to the best of my knowledge. I don't have feelings or emotions like humans do, but I'm designed to be friendly and helpful!\", additional_kwargs={}, response_metadata={'token_usage': {'completion_tokens': 83, 'prompt_tokens': 22, 'total_tokens': 105, 'completion_time': 0.083156937, 'prompt_time': 0.003434576, 'queue_time': 0.288004363, 'total_time': 0.086591513}, 'model_name': 'llama3-8b-8192', 'system_fingerprint': 'fp_8dc6ecaf8e', 'finish_reason': 'stop', 'logprobs': None}, id='run--c08d9e2e-ecd0-46f7-8e91-73233ba82883-0', usage_metadata={'input_tokens': 22, 'output_tokens': 83, 'total_tokens': 105})]}"
      ]
     },
     "execution_count": 53,
     "metadata": {},
     "output_type": "execute_result"
    }
   ],
   "source": [
    "response"
   ]
  },
  {
   "cell_type": "code",
   "execution_count": 54,
   "id": "9db813a5",
   "metadata": {},
   "outputs": [
    {
     "data": {
      "text/plain": [
       "[HumanMessage(content='Hi, how are you? Tell me your model name.', additional_kwargs={}, response_metadata={}, id='5b31ed52-5773-4f76-97c8-9a7e1fe8c5ad'),\n",
       " AIMessage(content=\"Hi! I'm happy to chat with you. I'm LLaMA, an AI assistant developed by Meta AI that can understand and respond to human input in a conversational manner. I'm not a human, but a computer program designed to simulate conversation and answer questions to the best of my knowledge. I don't have feelings or emotions like humans do, but I'm designed to be friendly and helpful!\", additional_kwargs={}, response_metadata={'token_usage': {'completion_tokens': 83, 'prompt_tokens': 22, 'total_tokens': 105, 'completion_time': 0.083156937, 'prompt_time': 0.003434576, 'queue_time': 0.288004363, 'total_time': 0.086591513}, 'model_name': 'llama3-8b-8192', 'system_fingerprint': 'fp_8dc6ecaf8e', 'finish_reason': 'stop', 'logprobs': None}, id='run--c08d9e2e-ecd0-46f7-8e91-73233ba82883-0', usage_metadata={'input_tokens': 22, 'output_tokens': 83, 'total_tokens': 105})]"
      ]
     },
     "execution_count": 54,
     "metadata": {},
     "output_type": "execute_result"
    }
   ],
   "source": [
    "response[\"messages\"]"
   ]
  },
  {
   "cell_type": "code",
   "execution_count": 55,
   "id": "0bcc408e",
   "metadata": {},
   "outputs": [
    {
     "data": {
      "text/plain": [
       "{'messages': [HumanMessage(content='what is todays date?', additional_kwargs={}, response_metadata={}, id='d40ee1ab-4d24-4f15-bab4-3b35e4171588'),\n",
       "  AIMessage(content=\"I'm just an AI, I don't have have access to real-time information, including the current date. However, I can tell you the current date in a simulated conversation.\", additional_kwargs={}, response_metadata={'token_usage': {'completion_tokens': 37, 'prompt_tokens': 16, 'total_tokens': 53, 'completion_time': 0.05057985, 'prompt_time': 0.005455477, 'queue_time': 0.288265104, 'total_time': 0.056035327}, 'model_name': 'llama3-8b-8192', 'system_fingerprint': 'fp_8b7c3a83f7', 'finish_reason': 'stop', 'logprobs': None}, id='run--571d73e1-dd84-491f-bfe7-a002139a7a46-0', usage_metadata={'input_tokens': 16, 'output_tokens': 37, 'total_tokens': 53})]}"
      ]
     },
     "execution_count": 55,
     "metadata": {},
     "output_type": "execute_result"
    }
   ],
   "source": [
    "graph.invoke({\"messages\": \"what is todays date?\"})"
   ]
  },
  {
   "cell_type": "code",
   "execution_count": 56,
   "id": "105ca5d3",
   "metadata": {},
   "outputs": [
    {
     "data": {
      "text/plain": [
       "\"Hi! I'm happy to chat with you. I'm LLaMA, an AI assistant developed by Meta AI that can understand and respond to human input in a conversational manner. I'm not a human, but a computer program designed to simulate conversation and answer questions to the best of my knowledge. I don't have feelings or emotions like humans do, but I'm designed to be friendly and helpful!\""
      ]
     },
     "execution_count": 56,
     "metadata": {},
     "output_type": "execute_result"
    }
   ],
   "source": [
    "response[\"messages\"][-1].content"
   ]
  },
  {
   "cell_type": "markdown",
   "id": "aaee71cc",
   "metadata": {},
   "source": [
    "Streaming the specific data.\n",
    "\n",
    "running the entire graph and displaying the information"
   ]
  },
  {
   "cell_type": "code",
   "execution_count": 57,
   "id": "a3b1bc84",
   "metadata": {},
   "outputs": [
    {
     "name": "stdout",
     "output_type": "stream",
     "text": [
      "{'ChatBot': {'messages': [AIMessage(content='Nice to meet you! I\\'m an AI, so I don\\'t have a personal name, but I\\'m often referred to as a \"language model\" or a \"chatbot.\" I\\'m a type of artificial intelligence designed to understand and respond to human language, so I can have conversations with users like you! I\\'m constantly learning and improving my abilities, so I\\'m excited to chat with you and see how I can help. What\\'s on your mind?', additional_kwargs={}, response_metadata={'token_usage': {'completion_tokens': 94, 'prompt_tokens': 22, 'total_tokens': 116, 'completion_time': 0.138438199, 'prompt_time': 0.006063214, 'queue_time': 0.284889608, 'total_time': 0.144501413}, 'model_name': 'llama3-8b-8192', 'system_fingerprint': 'fp_8b7c3a83f7', 'finish_reason': 'stop', 'logprobs': None}, id='run--977e16c9-49bb-4cd9-be9c-68bfad09262c-0', usage_metadata={'input_tokens': 22, 'output_tokens': 94, 'total_tokens': 116})]}}\n"
     ]
    }
   ],
   "source": [
    "for event in graph.stream({'messages': 'Hi, how are you, what is your model name?'}):\n",
    "    print(event)"
   ]
  },
  {
   "cell_type": "code",
   "execution_count": 58,
   "id": "18cdadc6",
   "metadata": {},
   "outputs": [
    {
     "name": "stdout",
     "output_type": "stream",
     "text": [
      "{'messages': [AIMessage(content='I\\'m just an AI, I don\\'t have a personal name or a physical body, so I don\\'t have a \"model name\" in the classical sense. I\\'m just a computer program designed to understand and generate human-like text. I\\'m here to help answer your questions and provide information on a wide range of topics, so feel free to ask me anything!', additional_kwargs={}, response_metadata={'token_usage': {'completion_tokens': 75, 'prompt_tokens': 22, 'total_tokens': 97, 'completion_time': 0.075410544, 'prompt_time': 0.003734322, 'queue_time': 0.280884988, 'total_time': 0.079144866}, 'model_name': 'llama3-8b-8192', 'system_fingerprint': 'fp_8dc6ecaf8e', 'finish_reason': 'stop', 'logprobs': None}, id='run--6081d78e-520c-44bf-b6d4-41d80e0c386f-0', usage_metadata={'input_tokens': 22, 'output_tokens': 75, 'total_tokens': 97})]}\n",
      "I'm just an AI, I don't have a personal name or a physical body, so I don't have a \"model name\" in the classical sense. I'm just a computer program designed to understand and generate human-like text. I'm here to help answer your questions and provide information on a wide range of topics, so feel free to ask me anything!\n"
     ]
    }
   ],
   "source": [
    "for event in graph.stream({'messages': 'Hi, how are you, what is your model name?'}):\n",
    "    for value in event.values():\n",
    "        print(value)\n",
    "        print(value['messages'][-1].content)"
   ]
  },
  {
   "cell_type": "code",
   "execution_count": 59,
   "id": "668e30ad",
   "metadata": {},
   "outputs": [
    {
     "data": {
      "text/plain": [
       "{'messages': [HumanMessage(content='Provide me the recent AI news with date', additional_kwargs={}, response_metadata={}, id='dc021cc6-10b8-4617-ae9b-290a6ac56e7a'),\n",
       "  AIMessage(content='Here are some recent AI news updates with dates:\\n\\n**March 2023**\\n\\n1. **Google announces AI-powered breast cancer detection tool** (March 15, 2023): Google has developed an AI-powered tool that can detect breast cancer from mammography images with high accuracy, according to a study published in the journal Nature Medicine. [Source: The Verge]\\n2. **Microsoft announces AI-powered chatbot for customer service** (March 14, 2023): Microsoft has launched an AI-powered chatbot called \"Pittsburgh\" that can help businesses provide customer service to their clients. [Source: CNET]\\n\\n**February 2023**\\n\\n1. **OpenAI releases AI-powered text-to-image generation model** (February 22, 2023): OpenAI has released a new AI model called \"DALL-E 2\" that can generate realistic images from text prompts. [Source: The Verge]\\n2. **Amazon announces AI-powered virtual event platform** (February 16, 2023): Amazon has launched an AI-powered virtual event platform called \"Amazon Chime Virtual Events\" that allows users to host virtual conferences and events. [Source: TechCrunch]\\n\\n**January 2023**\\n\\n1. **Meta announces AI-powered virtual try-on feature for Facebook and Instagram** (January 25, 2023): Meta has launched an AI-powered virtual try-on feature for Facebook and Instagram that allows users to try on virtual makeup and accessories. [Source: The Verge]\\n2. **Baidu announces AI-powered autonomous driving technology** (January 19, 2023): Baidu has announced an AI-powered autonomous driving technology that can be used in self-driving cars and other applications. [Source: CNET]\\n\\n**December 2022**\\n\\n1. **Google announces AI-powered language translation feature for Google Translate** (December 14, 2022): Google has announced an AI-powered language translation feature for Google Translate that can translate languages in real-time. [Source: The Verge]\\n2. **IBM announces AI-powered supply chain management platform** (December 7, 2022): IBM has launched an AI-powered supply chain management platform that uses blockchain and AI to optimize supply chain operations. [Source: CNET]\\n\\n**November 2022**\\n\\n1. **Microsoft announces AI-powered virtual assistant for Windows** (November 30, 2022): Microsoft has announced an AI-powered virtual assistant for Windows that allows users to control their PCs with voice commands. [Source: CNET]\\n2. **Alibaba announces AI-powered e-commerce platform** (November 16, 2022): Alibaba has launched an AI-powered e-commerce platform that uses machine learning to personalize shopping experiences for customers. [Source: TechCrunch]\\n\\nThese are just a few examples of recent AI news updates. If you\\'d like me to provide more, feel free to ask!', additional_kwargs={}, response_metadata={'token_usage': {'completion_tokens': 588, 'prompt_tokens': 18, 'total_tokens': 606, 'completion_time': 0.585569143, 'prompt_time': 0.00503799, 'queue_time': 0.33256588, 'total_time': 0.590607133}, 'model_name': 'llama3-8b-8192', 'system_fingerprint': 'fp_8dc6ecaf8e', 'finish_reason': 'stop', 'logprobs': None}, id='run--0027ee14-9bf8-41a7-be45-7f7b968e3e61-0', usage_metadata={'input_tokens': 18, 'output_tokens': 588, 'total_tokens': 606})]}"
      ]
     },
     "execution_count": 59,
     "metadata": {},
     "output_type": "execute_result"
    }
   ],
   "source": [
    "graph.invoke({\"messages\": \"Provide me the recent AI news with date\"})"
   ]
  },
  {
   "cell_type": "markdown",
   "id": "ec48ce24",
   "metadata": {},
   "source": [
    "# ChatBot with Tool"
   ]
  },
  {
   "cell_type": "code",
   "execution_count": 60,
   "id": "7c5ce157",
   "metadata": {},
   "outputs": [],
   "source": [
    "diagram = '''\n",
    "                                 ---> NODE(tools) --->\n",
    "                                /                     \\\n",
    "input ---> NODE(ToolCallingLLM) --------------------> output\n",
    "\n",
    "Tools => Tavily Search (web search) + Custom Tool\n",
    "\n",
    "'''"
   ]
  },
  {
   "cell_type": "code",
   "execution_count": 61,
   "id": "1e20961c",
   "metadata": {},
   "outputs": [
    {
     "data": {
      "text/plain": [
       "{'query': 'What is langGraph?',\n",
       " 'follow_up_questions': None,\n",
       " 'answer': None,\n",
       " 'images': [],\n",
       " 'results': [{'title': 'What is LangGraph? - IBM',\n",
       "   'url': 'https://www.ibm.com/think/topics/langgraph',\n",
       "   'content': 'LangGraph, created by LangChain, is an open source AI agent framework designed to build, deploy and manage complex generative AI agent workflows. At its core, LangGraph uses the power of graph-based architectures to model and manage the intricate relationships between various components of an AI agent workflow. LangGraph illuminates the processes within an AI workflow, allowing full transparency of the agent’s state. By combining these technologies with a set of APIs and tools, LangGraph provides users with a versatile platform for developing AI solutions and workflows including chatbots, state graphs and other agent-based systems. Nodes: In LangGraph, nodes represent individual components or agents within an AI workflow. LangGraph uses enhanced decision-making by modeling complex relationships between nodes, which means it uses AI agents to analyze their past actions and feedback.',\n",
       "   'score': 0.94956195,\n",
       "   'raw_content': None},\n",
       "  {'title': 'What is LangGraph? - GeeksforGeeks',\n",
       "   'url': 'https://www.geeksforgeeks.org/machine-learning/what-is-langgraph/',\n",
       "   'content': 'LangGraph is a Python library that helps you build applications like chatbots or AI agents by organizing their logic step-by-step using state machine model. This step configures your Gemini API key and then we create a simple function ask_gemini that takes user input, sends it to the Gemini model and returns the AI-generated response. Creates a state structure with three fields: question, classification and response which flows through the LangGraph. import matplotlib.pyplot as plt from langgraph.graph import StateGraph\\u200bbuilder = StateGraph(GraphState)builder.add_node(\"classify\", classify)builder.add_node(\"respond\", respond)builder.set_entry_point(\"classify\")builder.add_edge(\"classify\", \"respond\")builder.set_finish_point(\"respond\")app = builder.compile()\\u200bdef visualize_workflow(builder): G = nx.DiGraph()\\u200b for node in builder.nodes: G.add_node(node) for edge in builder.edges: G.add_edge(edge[0], edge[1])\\u200b pos = nx.spring_layout(G) nx.draw(G, pos, with_labels=True, node_size=3000, node_color=\"skyblue\", font_size=12, font_weight=\"bold\", arrows=True)  plt.title(\"Langchain Workflow Visualization\") plt.show()\\u200bvisualize_workflow(builder)',\n",
       "   'score': 0.9197076,\n",
       "   'raw_content': None}],\n",
       " 'response_time': 1.01}"
      ]
     },
     "execution_count": 61,
     "metadata": {},
     "output_type": "execute_result"
    }
   ],
   "source": [
    "from langchain_tavily import TavilySearch\n",
    "\n",
    "tool = TavilySearch(max_results = 2)\n",
    "tool.invoke(\"What is langGraph?\")"
   ]
  },
  {
   "cell_type": "code",
   "execution_count": 62,
   "id": "4395d643",
   "metadata": {},
   "outputs": [],
   "source": [
    "# creating custom function\n",
    "\n",
    "def multiply(a: int, b: int) -> int:\n",
    "    \"\"\"Multiply a and b\n",
    "\n",
    "    Args:\n",
    "        a (int): first int\n",
    "        b (int): second int\n",
    "\n",
    "    Returns:\n",
    "        int: output int\n",
    "    \"\"\"\n",
    "    # this is called doc string\n",
    "    return a*b"
   ]
  },
  {
   "cell_type": "code",
   "execution_count": 63,
   "id": "144b26b4",
   "metadata": {},
   "outputs": [
    {
     "data": {
      "text/plain": [
       "[TavilySearch(max_results=2, api_wrapper=TavilySearchAPIWrapper(tavily_api_key=SecretStr('**********'))),\n",
       " <function __main__.multiply(a: int, b: int) -> int>]"
      ]
     },
     "execution_count": 63,
     "metadata": {},
     "output_type": "execute_result"
    }
   ],
   "source": [
    "# creating tools\n",
    "tools = [tool, multiply]\n",
    "tools"
   ]
  },
  {
   "cell_type": "code",
   "execution_count": 64,
   "id": "87531f12",
   "metadata": {},
   "outputs": [
    {
     "data": {
      "text/plain": [
       "RunnableBinding(bound=ChatGroq(client=<groq.resources.chat.completions.Completions object at 0x7b5f91618740>, async_client=<groq.resources.chat.completions.AsyncCompletions object at 0x7b5f916cda60>, model_name='llama3-8b-8192', model_kwargs={}, groq_api_key=SecretStr('**********')), kwargs={'tools': [{'type': 'function', 'function': {'name': 'tavily_search', 'description': 'A search engine optimized for comprehensive, accurate, and trusted results. Useful for when you need to answer questions about current events. It not only retrieves URLs and snippets, but offers advanced search depths, domain management, time range filters, and image search, this tool delivers real-time, accurate, and citation-backed results.Input should be a search query.', 'parameters': {'properties': {'query': {'description': 'Search query to look up', 'type': 'string'}, 'include_domains': {'anyOf': [{'items': {'type': 'string'}, 'type': 'array'}, {'type': 'null'}], 'default': [], 'description': 'A list of domains to restrict search results to.\\n\\n        Use this parameter when:\\n        1. The user explicitly requests information from specific websites (e.g., \"Find climate data from nasa.gov\")\\n        2. The user mentions an organization or company without specifying the domain (e.g., \"Find information about iPhones from Apple\")\\n\\n        In both cases, you should determine the appropriate domains (e.g., [\"nasa.gov\"] or [\"apple.com\"]) and set this parameter.\\n\\n        Results will ONLY come from the specified domains - no other sources will be included.\\n        Default is None (no domain restriction).\\n        '}, 'exclude_domains': {'anyOf': [{'items': {'type': 'string'}, 'type': 'array'}, {'type': 'null'}], 'default': [], 'description': 'A list of domains to exclude from search results.\\n\\n        Use this parameter when:\\n        1. The user explicitly requests to avoid certain websites (e.g., \"Find information about climate change but not from twitter.com\")\\n        2. The user mentions not wanting results from specific organizations without naming the domain (e.g., \"Find phone reviews but nothing from Apple\")\\n\\n        In both cases, you should determine the appropriate domains to exclude (e.g., [\"twitter.com\"] or [\"apple.com\"]) and set this parameter.\\n\\n        Results will filter out all content from the specified domains.\\n        Default is None (no domain exclusion).\\n        '}, 'search_depth': {'anyOf': [{'enum': ['basic', 'advanced'], 'type': 'string'}, {'type': 'null'}], 'default': 'basic', 'description': 'Controls search thoroughness and result comprehensiveness.\\n    \\n        Use \"basic\" for simple queries requiring quick, straightforward answers.\\n        \\n        Use \"advanced\" (default) for complex queries, specialized topics, \\n        rare information, or when in-depth analysis is needed.\\n        '}, 'include_images': {'anyOf': [{'type': 'boolean'}, {'type': 'null'}], 'default': False, 'description': 'Determines if the search returns relevant images along with text results.\\n   \\n        Set to True when the user explicitly requests visuals or when images would \\n        significantly enhance understanding (e.g., \"Show me what black holes look like,\" \\n        \"Find pictures of Renaissance art\").\\n        \\n        Leave as False (default) for most informational queries where text is sufficient.\\n        '}, 'time_range': {'anyOf': [{'enum': ['day', 'week', 'month', 'year'], 'type': 'string'}, {'type': 'null'}], 'default': None, 'description': 'Limits results to content published within a specific timeframe.\\n        \\n        ONLY set this when the user explicitly mentions a time period \\n        (e.g., \"latest AI news,\" \"articles from last week\").\\n        \\n        For less popular or niche topics, use broader time ranges \\n        (\"month\" or \"year\") to ensure sufficient relevant results.\\n   \\n        Options: \"day\" (24h), \"week\" (7d), \"month\" (30d), \"year\" (365d).\\n        \\n        Default is None.\\n        '}, 'topic': {'anyOf': [{'enum': ['general', 'news', 'finance'], 'type': 'string'}, {'type': 'null'}], 'default': 'general', 'description': 'Specifies search category for optimized results.\\n   \\n        Use \"general\" (default) for most queries, INCLUDING those with terms like \\n        \"latest,\" \"newest,\" or \"recent\" when referring to general information.\\n\\n        Use \"finance\" for markets, investments, economic data, or financial news.\\n\\n        Use \"news\" ONLY for politics, sports, or major current events covered by \\n        mainstream media - NOT simply because a query asks for \"new\" information.\\n        '}}, 'required': ['query'], 'type': 'object'}}}, {'type': 'function', 'function': {'name': 'multiply', 'description': 'Multiply a and b', 'parameters': {'properties': {'a': {'description': 'first int', 'type': 'integer'}, 'b': {'description': 'second int', 'type': 'integer'}}, 'required': ['a', 'b'], 'type': 'object'}}}]}, config={}, config_factories=[])"
      ]
     },
     "execution_count": 64,
     "metadata": {},
     "output_type": "execute_result"
    }
   ],
   "source": [
    "# binding tools with llm\n",
    "llm_with_tools = llm.bind_tools(tools = tools)\n",
    "llm_with_tools"
   ]
  },
  {
   "cell_type": "markdown",
   "id": "a2e0af35",
   "metadata": {},
   "source": [
    "Binding ==> LLM + Tools    \n",
    "[helps LLM to know which ara all the tools it has]"
   ]
  },
  {
   "cell_type": "code",
   "execution_count": 65,
   "id": "56a29374",
   "metadata": {},
   "outputs": [
    {
     "data": {
      "image/png": "[encoded data removed]",
      "text/plain": [
       "<langgraph.graph.state.CompiledStateGraph object at 0x7b5f914ded50>"
      ]
     },
     "execution_count": 65,
     "metadata": {},
     "output_type": "execute_result"
    }
   ],
   "source": [
    "# State Graph\n",
    "from langgraph.graph import StateGraph, START, END\n",
    "from langgraph.prebuilt import ToolNode\n",
    "from langgraph.prebuilt import tools_condition\n",
    "\n",
    "# Node definition\n",
    "def tool_calling_llm(state: State):\n",
    "    return {\n",
    "        'messages': [llm_with_tools.invoke(state['messages'])]\n",
    "    }\n",
    "\n",
    "# building graph\n",
    "builder = StateGraph(State)\n",
    "builder.add_node(\"tool_calling_llm\",tool_calling_llm)\n",
    "builder.add_node(\"tools\", ToolNode(tools = tools))\n",
    "\n",
    "# adding edges\n",
    "builder.add_edge(START, \"tool_calling_llm\")\n",
    "# from tool_calling_llm there are 2 edges one give output and other call tools - this type of edges are called conditional edges\n",
    "builder.add_conditional_edges(\n",
    "    \"tool_calling_llm\",\n",
    "    tools_condition\n",
    "    # What is this tools_condition\n",
    "    # if the latest message (result) from the assistant is a tool call -- tools_condition routes to tools (tools=[], you have to use teh same name)\n",
    "    # if the latest message (result) from the assistant is not a tool call -- tools_condition routes to END\n",
    ")\n",
    "builder.add_edge(\"tools\", END)\n",
    "\n",
    "# compile graph\n",
    "graph = builder.compile()\n",
    "graph"
   ]
  },
  {
   "cell_type": "code",
   "execution_count": 66,
   "id": "4219c5f8",
   "metadata": {},
   "outputs": [
    {
     "data": {
      "text/plain": [
       "{'messages': [HumanMessage(content='WHat is the latest AI news?', additional_kwargs={}, response_metadata={}, id='e78fa5dd-5046-4086-8d99-bf0487b7e47a'),\n",
       "  AIMessage(content='', additional_kwargs={'tool_calls': [{'id': '9st3azk9r', 'function': {'arguments': '{\"query\":\"latest AI news\",\"search_depth\":\"advanced\",\"topic\":\"news\"}', 'name': 'tavily_search'}, 'type': 'function'}]}, response_metadata={'token_usage': {'completion_tokens': 85, 'prompt_tokens': 2196, 'total_tokens': 2281, 'completion_time': 0.11844079, 'prompt_time': 0.244537038, 'queue_time': 0.28723992099999995, 'total_time': 0.362977828}, 'model_name': 'llama3-8b-8192', 'system_fingerprint': 'fp_8b7c3a83f7', 'finish_reason': 'tool_calls', 'logprobs': None}, id='run--71b1d7c8-6648-4735-880b-bf859cff0cab-0', tool_calls=[{'name': 'tavily_search', 'args': {'query': 'latest AI news', 'search_depth': 'advanced', 'topic': 'news'}, 'id': '9st3azk9r', 'type': 'tool_call'}], usage_metadata={'input_tokens': 2196, 'output_tokens': 85, 'total_tokens': 2281}),\n",
       "  ToolMessage(content='{\"query\": \"latest AI news\", \"follow_up_questions\": null, \"answer\": null, \"images\": [], \"results\": [{\"url\": \"http://www.sciencedaily.com/releases/2025/06/250622225921.htm\", \"title\": \"Affordances in the brain: The human superpower AI hasn’t mastered - ScienceDaily\", \"score\": 0.7361925, \"published_date\": \"Mon, 23 Jun 2025 08:56:12 GMT\", \"content\": \"Date:June 23, 2025 Source:Universiteit van Amsterdam Summary:Scientists at the University of Amsterdam discovered that our brains automatically understand how we can move through different environments—whether it\\'s swimming in a lake or walking a path—without conscious thought. These \\\\\"action possibilities,\\\\\" or affordances, light up specific brain regions independently of what’s visually present. In contrast, AI models like ChatGPT still struggle with these intuitive judgments, missing the [...] Universiteit van Amsterdam. \\\\\"Affordances in the brain: The human superpower AI hasn’t mastered.\\\\\" ScienceDaily. ScienceDaily, 23 June 2025. <www.sciencedaily.com/releases/2025/06/250622225921.htm>.\\\\n\\\\nUniversiteit van Amsterdam. (2025, June 23). Affordances in the brain: The human superpower AI hasn’t mastered. _ScienceDaily_. Retrieved June 23, 2025 from www.sciencedaily.com/releases/2025/06/250622225921.htm [...] Universiteit van Amsterdam. \\\\\"Affordances in the brain: The human superpower AI hasn’t mastered.\\\\\" ScienceDaily. www.sciencedaily.com/releases/2025/06/250622225921.htm (accessed June 23, 2025).\\\\n\\\\nExplore More\\\\n------------\\\\n\\\\nfrom ScienceDaily\\\\n\\\\n  \\\\n\\\\nRELATED STORIES\\\\n\\\\n  \\\\n\\\\nChatGPT Is Still No Match for Humans When It Comes to Accounting\", \"raw_content\": null}, {\"url\": \"https://www.investopedia.com/amazon-s-ceo-tells-staff-ai-could-lead-to-a-smaller-corporate-workforce-11756555\", \"title\": \"Amazon\\'s CEO Tells Staff AI Could Lead to a Smaller Corporate Workforce - Investopedia\", \"score\": 0.59796065, \"published_date\": \"Tue, 17 Jun 2025 21:29:00 GMT\", \"content\": \"conference.:max_bytes(150000):strip_icc():format(webp)/GettyImages-2215577822-47a75431e5254defb1dd57019a2c8389.jpg) Google Buyouts Could Point to More Tech Layoffs, as Sector Faces Heavy Job LossesImage 9: AMD\\'s \\\\\"Advancing AI\\\\\" event:max_bytes(150000):strip_icc():format(webp)/Screenshot2025-06-12at4.58.35PM-2a3e218f561c45d09abce715571008a6.jpeg) AMD Unveils Its Latest Chips, With ChatGPT Maker OpenAI Among Its CustomersImage 11: Nvidia CEO Jensen Huang meets German Chancellor Friedrich [...] Merz.:max_bytes(150000):strip_icc():format(webp)/GettyImages-2219239037-f48729853bf84914aced2538b5e029a3.jpg) Why Oppenheimer Is Excited About Nvidia\\'s Potential Gains From Sovereign AI DemandImage 13: Open AI CEO Sam Altman speaks during Snowflake Summit 2025.:max_bytes(150000):strip_icc():format(webp)/GettyImages-2218344211-86cd046e842a44d0a4e33bd185d837b3.jpg) \\'ChatGPT Is Already More Powerful Than Any Human,\\' OpenAI CEO Sam Altman SaysImage 15: Scale AI\", \"raw_content\": null}], \"response_time\": 1.41}', name='tavily_search', id='3af1448b-6d46-49f2-9ee7-a9a4d49b6e85', tool_call_id='9st3azk9r')]}"
      ]
     },
     "execution_count": 66,
     "metadata": {},
     "output_type": "execute_result"
    }
   ],
   "source": [
    "response = graph.invoke({'messages': 'WHat is the latest AI news?'})\n",
    "response"
   ]
  },
  {
   "cell_type": "code",
   "execution_count": 67,
   "id": "c5d14c73",
   "metadata": {},
   "outputs": [
    {
     "data": {
      "text/plain": [
       "'{\"query\": \"latest AI news\", \"follow_up_questions\": null, \"answer\": null, \"images\": [], \"results\": [{\"url\": \"http://www.sciencedaily.com/releases/2025/06/250622225921.htm\", \"title\": \"Affordances in the brain: The human superpower AI hasn’t mastered - ScienceDaily\", \"score\": 0.7361925, \"published_date\": \"Mon, 23 Jun 2025 08:56:12 GMT\", \"content\": \"Date:June 23, 2025 Source:Universiteit van Amsterdam Summary:Scientists at the University of Amsterdam discovered that our brains automatically understand how we can move through different environments—whether it\\'s swimming in a lake or walking a path—without conscious thought. These \\\\\"action possibilities,\\\\\" or affordances, light up specific brain regions independently of what’s visually present. In contrast, AI models like ChatGPT still struggle with these intuitive judgments, missing the [...] Universiteit van Amsterdam. \\\\\"Affordances in the brain: The human superpower AI hasn’t mastered.\\\\\" ScienceDaily. ScienceDaily, 23 June 2025. <www.sciencedaily.com/releases/2025/06/250622225921.htm>.\\\\n\\\\nUniversiteit van Amsterdam. (2025, June 23). Affordances in the brain: The human superpower AI hasn’t mastered. _ScienceDaily_. Retrieved June 23, 2025 from www.sciencedaily.com/releases/2025/06/250622225921.htm [...] Universiteit van Amsterdam. \\\\\"Affordances in the brain: The human superpower AI hasn’t mastered.\\\\\" ScienceDaily. www.sciencedaily.com/releases/2025/06/250622225921.htm (accessed June 23, 2025).\\\\n\\\\nExplore More\\\\n------------\\\\n\\\\nfrom ScienceDaily\\\\n\\\\n  \\\\n\\\\nRELATED STORIES\\\\n\\\\n  \\\\n\\\\nChatGPT Is Still No Match for Humans When It Comes to Accounting\", \"raw_content\": null}, {\"url\": \"https://www.investopedia.com/amazon-s-ceo-tells-staff-ai-could-lead-to-a-smaller-corporate-workforce-11756555\", \"title\": \"Amazon\\'s CEO Tells Staff AI Could Lead to a Smaller Corporate Workforce - Investopedia\", \"score\": 0.59796065, \"published_date\": \"Tue, 17 Jun 2025 21:29:00 GMT\", \"content\": \"conference.:max_bytes(150000):strip_icc():format(webp)/GettyImages-2215577822-47a75431e5254defb1dd57019a2c8389.jpg) Google Buyouts Could Point to More Tech Layoffs, as Sector Faces Heavy Job LossesImage 9: AMD\\'s \\\\\"Advancing AI\\\\\" event:max_bytes(150000):strip_icc():format(webp)/Screenshot2025-06-12at4.58.35PM-2a3e218f561c45d09abce715571008a6.jpeg) AMD Unveils Its Latest Chips, With ChatGPT Maker OpenAI Among Its CustomersImage 11: Nvidia CEO Jensen Huang meets German Chancellor Friedrich [...] Merz.:max_bytes(150000):strip_icc():format(webp)/GettyImages-2219239037-f48729853bf84914aced2538b5e029a3.jpg) Why Oppenheimer Is Excited About Nvidia\\'s Potential Gains From Sovereign AI DemandImage 13: Open AI CEO Sam Altman speaks during Snowflake Summit 2025.:max_bytes(150000):strip_icc():format(webp)/GettyImages-2218344211-86cd046e842a44d0a4e33bd185d837b3.jpg) \\'ChatGPT Is Already More Powerful Than Any Human,\\' OpenAI CEO Sam Altman SaysImage 15: Scale AI\", \"raw_content\": null}], \"response_time\": 1.41}'"
      ]
     },
     "execution_count": 67,
     "metadata": {},
     "output_type": "execute_result"
    }
   ],
   "source": [
    "response['messages'][-1].content"
   ]
  },
  {
   "cell_type": "code",
   "execution_count": 68,
   "id": "76407ec2",
   "metadata": {},
   "outputs": [
    {
     "name": "stdout",
     "output_type": "stream",
     "text": [
      "================================\u001b[1m Human Message \u001b[0m=================================\n",
      "\n",
      "WHat is the latest AI news?\n",
      "==================================\u001b[1m Ai Message \u001b[0m==================================\n",
      "Tool Calls:\n",
      "  tavily_search (9st3azk9r)\n",
      " Call ID: 9st3azk9r\n",
      "  Args:\n",
      "    query: latest AI news\n",
      "    search_depth: advanced\n",
      "    topic: news\n",
      "=================================\u001b[1m Tool Message \u001b[0m=================================\n",
      "Name: tavily_search\n",
      "\n",
      "{\"query\": \"latest AI news\", \"follow_up_questions\": null, \"answer\": null, \"images\": [], \"results\": [{\"url\": \"http://www.sciencedaily.com/releases/2025/06/250622225921.htm\", \"title\": \"Affordances in the brain: The human superpower AI hasn’t mastered - ScienceDaily\", \"score\": 0.7361925, \"published_date\": \"Mon, 23 Jun 2025 08:56:12 GMT\", \"content\": \"Date:June 23, 2025 Source:Universiteit van Amsterdam Summary:Scientists at the University of Amsterdam discovered that our brains automatically understand how we can move through different environments—whether it's swimming in a lake or walking a path—without conscious thought. These \\\"action possibilities,\\\" or affordances, light up specific brain regions independently of what’s visually present. In contrast, AI models like ChatGPT still struggle with these intuitive judgments, missing the [...] Universiteit van Amsterdam. \\\"Affordances in the brain: The human superpower AI hasn’t mastered.\\\" ScienceDaily. ScienceDaily, 23 June 2025. <www.sciencedaily.com/releases/2025/06/250622225921.htm>.\\n\\nUniversiteit van Amsterdam. (2025, June 23). Affordances in the brain: The human superpower AI hasn’t mastered. _ScienceDaily_. Retrieved June 23, 2025 from www.sciencedaily.com/releases/2025/06/250622225921.htm [...] Universiteit van Amsterdam. \\\"Affordances in the brain: The human superpower AI hasn’t mastered.\\\" ScienceDaily. www.sciencedaily.com/releases/2025/06/250622225921.htm (accessed June 23, 2025).\\n\\nExplore More\\n------------\\n\\nfrom ScienceDaily\\n\\n  \\n\\nRELATED STORIES\\n\\n  \\n\\nChatGPT Is Still No Match for Humans When It Comes to Accounting\", \"raw_content\": null}, {\"url\": \"https://www.investopedia.com/amazon-s-ceo-tells-staff-ai-could-lead-to-a-smaller-corporate-workforce-11756555\", \"title\": \"Amazon's CEO Tells Staff AI Could Lead to a Smaller Corporate Workforce - Investopedia\", \"score\": 0.59796065, \"published_date\": \"Tue, 17 Jun 2025 21:29:00 GMT\", \"content\": \"conference.:max_bytes(150000):strip_icc():format(webp)/GettyImages-2215577822-47a75431e5254defb1dd57019a2c8389.jpg) Google Buyouts Could Point to More Tech Layoffs, as Sector Faces Heavy Job LossesImage 9: AMD's \\\"Advancing AI\\\" event:max_bytes(150000):strip_icc():format(webp)/Screenshot2025-06-12at4.58.35PM-2a3e218f561c45d09abce715571008a6.jpeg) AMD Unveils Its Latest Chips, With ChatGPT Maker OpenAI Among Its CustomersImage 11: Nvidia CEO Jensen Huang meets German Chancellor Friedrich [...] Merz.:max_bytes(150000):strip_icc():format(webp)/GettyImages-2219239037-f48729853bf84914aced2538b5e029a3.jpg) Why Oppenheimer Is Excited About Nvidia's Potential Gains From Sovereign AI DemandImage 13: Open AI CEO Sam Altman speaks during Snowflake Summit 2025.:max_bytes(150000):strip_icc():format(webp)/GettyImages-2218344211-86cd046e842a44d0a4e33bd185d837b3.jpg) 'ChatGPT Is Already More Powerful Than Any Human,' OpenAI CEO Sam Altman SaysImage 15: Scale AI\", \"raw_content\": null}], \"response_time\": 1.41}\n"
     ]
    }
   ],
   "source": [
    "for m in response['messages']:\n",
    "    m.pretty_print()"
   ]
  },
  {
   "cell_type": "code",
   "execution_count": 69,
   "id": "4f8737a2",
   "metadata": {},
   "outputs": [
    {
     "name": "stdout",
     "output_type": "stream",
     "text": [
      "================================\u001b[1m Human Message \u001b[0m=================================\n",
      "\n",
      "WHat is 9 multiply by 5?\n",
      "==================================\u001b[1m Ai Message \u001b[0m==================================\n",
      "Tool Calls:\n",
      "  multiply (ze0j44jbm)\n",
      " Call ID: ze0j44jbm\n",
      "  Args:\n",
      "    a: 9\n",
      "    b: 5\n",
      "=================================\u001b[1m Tool Message \u001b[0m=================================\n",
      "Name: multiply\n",
      "\n",
      "45\n"
     ]
    }
   ],
   "source": [
    "response = graph.invoke({'messages': 'WHat is 9 multiply by 5?'})\n",
    "for m in response['messages']:\n",
    "    m.pretty_print()"
   ]
  },
  {
   "cell_type": "code",
   "execution_count": 70,
   "id": "cd415ca0",
   "metadata": {},
   "outputs": [
    {
     "name": "stdout",
     "output_type": "stream",
     "text": [
      "================================\u001b[1m Human Message \u001b[0m=================================\n",
      "\n",
      "WHat is 9 multiply by 5 then nultiply 2?\n",
      "==================================\u001b[1m Ai Message \u001b[0m==================================\n",
      "Tool Calls:\n",
      "  multiply (p0q91xqh9)\n",
      " Call ID: p0q91xqh9\n",
      "  Args:\n",
      "    a: 9\n",
      "    b: 5\n",
      "  multiply (stscpcgx0)\n",
      " Call ID: stscpcgx0\n",
      "  Args:\n",
      "    a: 45\n",
      "    b: 2\n",
      "=================================\u001b[1m Tool Message \u001b[0m=================================\n",
      "Name: multiply\n",
      "\n",
      "45\n",
      "=================================\u001b[1m Tool Message \u001b[0m=================================\n",
      "Name: multiply\n",
      "\n",
      "90\n"
     ]
    }
   ],
   "source": [
    "response = graph.invoke({'messages': 'WHat is 9 multiply by 5 then nultiply 2?'})\n",
    "for m in response['messages']:\n",
    "    m.pretty_print()"
   ]
  },
  {
   "cell_type": "code",
   "execution_count": 72,
   "id": "4d060b60",
   "metadata": {},
   "outputs": [
    {
     "name": "stdout",
     "output_type": "stream",
     "text": [
      "================================\u001b[1m Human Message \u001b[0m=================================\n",
      "\n",
      "Give me recent ai new by apple and what is multiply 9 and 7\n",
      "==================================\u001b[1m Ai Message \u001b[0m==================================\n",
      "Tool Calls:\n",
      "  tavily_search (fpyhdb7kk)\n",
      " Call ID: fpyhdb7kk\n",
      "  Args:\n",
      "    query: Apple AI news\n",
      "  multiply (kmcb8cyk4)\n",
      " Call ID: kmcb8cyk4\n",
      "  Args:\n",
      "    a: 9\n",
      "    b: 7\n",
      "=================================\u001b[1m Tool Message \u001b[0m=================================\n",
      "Name: tavily_search\n",
      "\n",
      "{\"query\": \"Apple AI news\", \"follow_up_questions\": null, \"answer\": null, \"images\": [], \"results\": [{\"title\": \"Here are Apple's top AI announcements from WWDC 2025\", \"url\": \"https://techcrunch.com/2025/06/12/here-are-apples-top-ai-announcements-from-wwdc-2025/\", \"content\": \"Here are Apple's top AI announcements from WWDC 2025 | TechCrunch Here are Apple's top AI announcements from WWDC 2025 | TechCrunch Nevertheless, Apple still attempted to appease the crowd with a few AI-related announcements, such as an image analysis tool, a workout coach, a live translation feature, and more. Visual Intelligence is Apple’s AI-powered image analysis technology that allows you to gather information about your surroundings. Image 4: Apple's Visual Intelligence feature demoed at WWDC 2025 Apple integrated ChatGPT into Image Playground, its AI-powered image generation tool. Apple Intelligence is powering a new live translation feature for Messages, FaceTime, and phone calls. Apple has introduced two new AI-powered features for phone calls. AI, Apple, Apple Intelligence, Apps, evergreens, wwdc\", \"score\": 0.81097376, \"raw_content\": null}, {\"title\": \"Apple Intelligence gets even more powerful with new capabilities across ...\", \"url\": \"https://www.apple.com/newsroom/2025/06/apple-intelligence-gets-even-more-powerful-with-new-capabilities-across-apple-devices/\", \"content\": \"**CUPERTINO, CALIFORNIA**Apple today announced new Apple Intelligence features that elevate the user experience across iPhone, iPad, Mac, Apple Watch, and Apple Vision Pro. Apple Intelligence unlocks new ways for users to communicate with features like Live Translation; do more with what’s on their screen with updates to visual intelligence; and express themselves with enhancements to Image Playground and Genmoji.1 Additionally, Shortcuts can now tap into Apple Intelligence directly, and developers will be able to access the on-device large language model at the core of Apple Intelligence, giving them direct access to intelligence that is powerful, fast, built with privacy, and available even when users are offline.\", \"score\": 0.7686816, \"raw_content\": null}], \"response_time\": 1.5}\n",
      "=================================\u001b[1m Tool Message \u001b[0m=================================\n",
      "Name: multiply\n",
      "\n",
      "63\n"
     ]
    }
   ],
   "source": [
    "response = graph.invoke({'messages': 'Give me recent ai new by apple and what is multiply 9 and 7'})\n",
    "for m in response['messages']:\n",
    "    m.pretty_print()"
   ]
  },
  {
   "cell_type": "code",
   "execution_count": null,
   "id": "277f492a",
   "metadata": {},
   "outputs": [],
   "source": []
  }
 ],
 "metadata": {
  "kernelspec": {
   "display_name": "myenv",
   "language": "python",
   "name": "python3"
  },
  "language_info": {
   "codemirror_mode": {
    "name": "ipython",
    "version": 3
   },
   "file_extension": ".py",
   "mimetype": "text/x-python",
   "name": "python",
   "nbconvert_exporter": "python",
   "pygments_lexer": "ipython3",
   "version": "3.12.3"
  }
 },
 "nbformat": 4,
 "nbformat_minor": 5
}
