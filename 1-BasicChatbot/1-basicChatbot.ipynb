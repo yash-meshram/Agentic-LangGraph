{
 "cells": [
  {
   "cell_type": "markdown",
   "id": "3ca2c998",
   "metadata": {},
   "source": [
    "## Build a basic chatbot with 'LangGraph' using 'Graph API'"
   ]
  },
  {
   "cell_type": "markdown",
   "id": "4c3d3da7",
   "metadata": {},
   "source": [
    "Components of LangGraph\n",
    "- Edge = arow in graph\n",
    "- Nodes = box in graph\n",
    "- State = variable that can be access by any Node\n",
    "\n",
    "\"State Graph\""
   ]
  },
  {
   "cell_type": "markdown",
   "id": "2e296e68",
   "metadata": {},
   "source": [
    "input ---> NODE(\"ChatBot\") ---> output\n",
    "\n",
    "NODE(\"ChatBot) => LLM + Prompt"
   ]
  },
  {
   "cell_type": "code",
   "execution_count": 1,
   "id": "0121a523",
   "metadata": {},
   "outputs": [],
   "source": [
    "from typing import Annotated\n",
    "\n",
    "from typing_extensions import TypedDict             # dict type\n",
    "\n",
    "from langgraph.graph import (\n",
    "    StateGraph,                                     # whole graph\n",
    "    START,                                          # start node\n",
    "    END                                             # end node\n",
    ")\n",
    "\n",
    "from langgraph.graph.message import add_messages    # reducers"
   ]
  },
  {
   "cell_type": "markdown",
   "id": "72de4871",
   "metadata": {},
   "source": [
    "state_varaiable = {\n",
    "    messages = [list of all the messages any new message will be appended here]\n",
    "}\n",
    "\n",
    "to append the message in messages list we can use \"Reducers\". 'add_messages' is one of the reducers.\n",
    "\n",
    "mesages have type list.\n",
    "the add_messages annotation defines how the 'State' should be updated.\n",
    "in this case (when we are using add_messages), it appends the message to the list rather than overwriting them"
   ]
  },
  {
   "cell_type": "code",
   "execution_count": 2,
   "id": "80f6d617",
   "metadata": {},
   "outputs": [],
   "source": [
    "class State(TypedDict):\n",
    "    messages: Annotated[list, add_messages]\n",
    "    \n",
    "graph_builder = StateGraph(State)"
   ]
  },
  {
   "cell_type": "code",
   "execution_count": 3,
   "id": "22344f4b",
   "metadata": {},
   "outputs": [
    {
     "data": {
      "text/plain": [
       "<langgraph.graph.state.StateGraph at 0x75a9fd314f50>"
      ]
     },
     "execution_count": 3,
     "metadata": {},
     "output_type": "execute_result"
    }
   ],
   "source": [
    "graph_builder"
   ]
  },
  {
   "cell_type": "code",
   "execution_count": 4,
   "id": "de424359",
   "metadata": {},
   "outputs": [
    {
     "data": {
      "text/plain": [
       "True"
      ]
     },
     "execution_count": 4,
     "metadata": {},
     "output_type": "execute_result"
    }
   ],
   "source": [
    "import os\n",
    "from dotenv import load_dotenv\n",
    "load_dotenv()"
   ]
  },
  {
   "cell_type": "markdown",
   "id": "8c6614df",
   "metadata": {},
   "source": [
    "### LLM"
   ]
  },
  {
   "cell_type": "code",
   "execution_count": 5,
   "id": "ee70daad",
   "metadata": {},
   "outputs": [
    {
     "data": {
      "text/plain": [
       "ChatGroq(client=<groq.resources.chat.completions.Completions object at 0x75a9fcd571a0>, async_client=<groq.resources.chat.completions.AsyncCompletions object at 0x75a9fd317bf0>, model_name='llama3-8b-8192', model_kwargs={}, groq_api_key=SecretStr('**********'))"
      ]
     },
     "execution_count": 5,
     "metadata": {},
     "output_type": "execute_result"
    }
   ],
   "source": [
    "# defining LLM\n",
    "\n",
    "from langchain_groq import ChatGroq\n",
    "from langchain.chat_models import init_chat_model\n",
    "\n",
    "llm = ChatGroq(model = \"llama3-8b-8192\")\n",
    "llm"
   ]
  },
  {
   "cell_type": "code",
   "execution_count": 6,
   "id": "1d6b9270",
   "metadata": {},
   "outputs": [
    {
     "data": {
      "text/plain": [
       "ChatGroq(client=<groq.resources.chat.completions.Completions object at 0x75a9fcd858e0>, async_client=<groq.resources.chat.completions.AsyncCompletions object at 0x75a9fcd86ae0>, model_name='llama3-8b-8192', model_kwargs={}, groq_api_key=SecretStr('**********'))"
      ]
     },
     "execution_count": 6,
     "metadata": {},
     "output_type": "execute_result"
    }
   ],
   "source": [
    "llm = init_chat_model(\"groq:llama3-8b-8192\")\n",
    "llm"
   ]
  },
  {
   "cell_type": "markdown",
   "id": "02ec8ce8",
   "metadata": {},
   "source": [
    "### Node"
   ]
  },
  {
   "cell_type": "code",
   "execution_count": 7,
   "id": "9b9905b8",
   "metadata": {},
   "outputs": [],
   "source": [
    "def chatbot(state: State):\n",
    "    return {\n",
    "        \"messages\": [llm.invoke(state['messages'])]\n",
    "    }"
   ]
  },
  {
   "cell_type": "markdown",
   "id": "cdb90232",
   "metadata": {},
   "source": [
    "### Building Graph"
   ]
  },
  {
   "cell_type": "markdown",
   "id": "a9d27fd2",
   "metadata": {},
   "source": [
    "we have\n",
    "- 1 input\n",
    "- 1 output\n",
    "- 1 Node\n",
    "- 2 Edge\n",
    "- 1 State"
   ]
  },
  {
   "cell_type": "code",
   "execution_count": 8,
   "id": "1db1d00c",
   "metadata": {},
   "outputs": [
    {
     "data": {
      "image/png": "[encoded data removed]",
      "text/plain": [
       "<langgraph.graph.state.CompiledStateGraph object at 0x75a9fcd57440>"
      ]
     },
     "execution_count": 8,
     "metadata": {},
     "output_type": "execute_result"
    }
   ],
   "source": [
    "graph_builder = StateGraph(State)\n",
    "\n",
    "# adding node\n",
    "graph_builder.add_node(\"ChatBot\", chatbot)\n",
    "\n",
    "# adding Edge\n",
    "graph_builder.add_edge(START, \"ChatBot\")\n",
    "graph_builder.add_edge(\"ChatBot\", END)\n",
    "\n",
    "# Compile the Graph\n",
    "graph = graph_builder.compile()\n",
    "graph"
   ]
  },
  {
   "cell_type": "markdown",
   "id": "4d9ce86b",
   "metadata": {},
   "source": [
    "### Visualize the Graph"
   ]
  },
  {
   "cell_type": "code",
   "execution_count": 9,
   "id": "2357f7fd",
   "metadata": {},
   "outputs": [
    {
     "data": {
      "image/png": "[encoded data removed]",
      "text/plain": [
       "<IPython.core.display.Image object>"
      ]
     },
     "metadata": {},
     "output_type": "display_data"
    }
   ],
   "source": [
    "from IPython.display import Image, display\n",
    "\n",
    "try:\n",
    "    display(\n",
    "        Image(\n",
    "            graph.get_graph().draw_mermaid_png()\n",
    "        )\n",
    "    )\n",
    "except Exception:\n",
    "    pass"
   ]
  },
  {
   "cell_type": "markdown",
   "id": "fc196241",
   "metadata": {},
   "source": [
    "## Running this Graph"
   ]
  },
  {
   "cell_type": "code",
   "execution_count": 10,
   "id": "9242258e",
   "metadata": {},
   "outputs": [],
   "source": [
    "response = graph.invoke({\"messages\": \"Hi, how are you? Tell me your model name.\"})"
   ]
  },
  {
   "cell_type": "code",
   "execution_count": 11,
   "id": "93b15de6",
   "metadata": {},
   "outputs": [
    {
     "data": {
      "text/plain": [
       "{'messages': [HumanMessage(content='Hi, how are you? Tell me your model name.', additional_kwargs={}, response_metadata={}, id='0543ec48-a652-42be-abd6-432359a46f92'),\n",
       "  AIMessage(content=\"I'm doing well, thanks for asking! I'm LLaMA, a large language model trained by Meta AI that can understand and respond to human input in a conversational manner. I'm here to chat with you, answer your questions, and provide information on a wide range of topics. What's on your mind?\", additional_kwargs={}, response_metadata={'token_usage': {'completion_tokens': 66, 'prompt_tokens': 22, 'total_tokens': 88, 'completion_time': 0.101669788, 'prompt_time': 0.008828433, 'queue_time': 1.5055410100000002, 'total_time': 0.110498221}, 'model_name': 'llama3-8b-8192', 'system_fingerprint': 'fp_6d1c2b0784', 'finish_reason': 'stop', 'logprobs': None}, id='run--1a511fb4-3eb3-4907-9ad0-97c9ff4acc83-0', usage_metadata={'input_tokens': 22, 'output_tokens': 66, 'total_tokens': 88})]}"
      ]
     },
     "execution_count": 11,
     "metadata": {},
     "output_type": "execute_result"
    }
   ],
   "source": [
    "response"
   ]
  },
  {
   "cell_type": "code",
   "execution_count": 12,
   "id": "9db813a5",
   "metadata": {},
   "outputs": [
    {
     "data": {
      "text/plain": [
       "[HumanMessage(content='Hi, how are you? Tell me your model name.', additional_kwargs={}, response_metadata={}, id='0543ec48-a652-42be-abd6-432359a46f92'),\n",
       " AIMessage(content=\"I'm doing well, thanks for asking! I'm LLaMA, a large language model trained by Meta AI that can understand and respond to human input in a conversational manner. I'm here to chat with you, answer your questions, and provide information on a wide range of topics. What's on your mind?\", additional_kwargs={}, response_metadata={'token_usage': {'completion_tokens': 66, 'prompt_tokens': 22, 'total_tokens': 88, 'completion_time': 0.101669788, 'prompt_time': 0.008828433, 'queue_time': 1.5055410100000002, 'total_time': 0.110498221}, 'model_name': 'llama3-8b-8192', 'system_fingerprint': 'fp_6d1c2b0784', 'finish_reason': 'stop', 'logprobs': None}, id='run--1a511fb4-3eb3-4907-9ad0-97c9ff4acc83-0', usage_metadata={'input_tokens': 22, 'output_tokens': 66, 'total_tokens': 88})]"
      ]
     },
     "execution_count": 12,
     "metadata": {},
     "output_type": "execute_result"
    }
   ],
   "source": [
    "response[\"messages\"]"
   ]
  },
  {
   "cell_type": "code",
   "execution_count": 13,
   "id": "0bcc408e",
   "metadata": {},
   "outputs": [
    {
     "data": {
      "text/plain": [
       "{'messages': [HumanMessage(content='what is todays date?', additional_kwargs={}, response_metadata={}, id='88d3626f-e786-43d9-98b1-7b395f2b15d9'),\n",
       "  AIMessage(content=\"I'm just an AI, I don't have real-time access to the current date. I can only provide a response based on my training data, which is a snapshot of the date and time when my training data was last updated.\", additional_kwargs={}, response_metadata={'token_usage': {'completion_tokens': 48, 'prompt_tokens': 16, 'total_tokens': 64, 'completion_time': 0.069801333, 'prompt_time': 0.0060482, 'queue_time': 0.287482384, 'total_time': 0.075849533}, 'model_name': 'llama3-8b-8192', 'system_fingerprint': 'fp_8dc6ecaf8e', 'finish_reason': 'stop', 'logprobs': None}, id='run--7cd4a24c-72cb-4e52-8fb4-e462c49e70c8-0', usage_metadata={'input_tokens': 16, 'output_tokens': 48, 'total_tokens': 64})]}"
      ]
     },
     "execution_count": 13,
     "metadata": {},
     "output_type": "execute_result"
    }
   ],
   "source": [
    "graph.invoke({\"messages\": \"what is todays date?\"})"
   ]
  },
  {
   "cell_type": "code",
   "execution_count": 14,
   "id": "105ca5d3",
   "metadata": {},
   "outputs": [
    {
     "data": {
      "text/plain": [
       "\"I'm doing well, thanks for asking! I'm LLaMA, a large language model trained by Meta AI that can understand and respond to human input in a conversational manner. I'm here to chat with you, answer your questions, and provide information on a wide range of topics. What's on your mind?\""
      ]
     },
     "execution_count": 14,
     "metadata": {},
     "output_type": "execute_result"
    }
   ],
   "source": [
    "response[\"messages\"][-1].content"
   ]
  },
  {
   "cell_type": "markdown",
   "id": "aaee71cc",
   "metadata": {},
   "source": [
    "Streaming the specific data.\n",
    "\n",
    "running the entire graph and displaying the information"
   ]
  },
  {
   "cell_type": "code",
   "execution_count": 15,
   "id": "a3b1bc84",
   "metadata": {},
   "outputs": [
    {
     "name": "stdout",
     "output_type": "stream",
     "text": [
      "{'ChatBot': {'messages': [AIMessage(content='I\\'m doing well, thanks for asking! I\\'m an AI, so I don\\'t have a personal name, but I\\'m often referred to as a \"language model\" or a \"conversational AI.\" I\\'m a large language model trained by a team of researcher at Meta AI, and my primary function is to understand and respond to human language in a helpful and accurate way. I\\'m constantly learning and improving, so please bear with me if I don\\'t always get it right!', additional_kwargs={}, response_metadata={'token_usage': {'completion_tokens': 100, 'prompt_tokens': 22, 'total_tokens': 122, 'completion_time': 0.13887265, 'prompt_time': 0.004140071, 'queue_time': 0.31108058699999996, 'total_time': 0.143012721}, 'model_name': 'llama3-8b-8192', 'system_fingerprint': 'fp_2717d04279', 'finish_reason': 'stop', 'logprobs': None}, id='run--d7f060e4-5bcd-4974-ac27-42079afc885a-0', usage_metadata={'input_tokens': 22, 'output_tokens': 100, 'total_tokens': 122})]}}\n"
     ]
    }
   ],
   "source": [
    "for event in graph.stream({'messages': 'Hi, how are you, what is your model name?'}):\n",
    "    print(event)"
   ]
  },
  {
   "cell_type": "code",
   "execution_count": 16,
   "id": "18cdadc6",
   "metadata": {},
   "outputs": [
    {
     "name": "stdout",
     "output_type": "stream",
     "text": [
      "{'messages': [AIMessage(content=\"I'm doing well, thank you for asking! I'm LLaMA, an AI assistant developed by Meta AI that can understand and respond to human input in a conversational manner. I'm a large language model trained on a massive dataset of text from the internet, which allows me to generate human-like responses to a wide range of topics and questions. I'm constantly learning and improving my abilities, so please bear with me if I make any mistakes or don't quite understand what you're asking. How can I assist you today?\", additional_kwargs={}, response_metadata={'token_usage': {'completion_tokens': 108, 'prompt_tokens': 22, 'total_tokens': 130, 'completion_time': 0.153727875, 'prompt_time': 0.004244388, 'queue_time': 0.2814798, 'total_time': 0.157972263}, 'model_name': 'llama3-8b-8192', 'system_fingerprint': 'fp_8dc6ecaf8e', 'finish_reason': 'stop', 'logprobs': None}, id='run--629cab88-e2b1-4ecf-87c2-7e354420048e-0', usage_metadata={'input_tokens': 22, 'output_tokens': 108, 'total_tokens': 130})]}\n",
      "I'm doing well, thank you for asking! I'm LLaMA, an AI assistant developed by Meta AI that can understand and respond to human input in a conversational manner. I'm a large language model trained on a massive dataset of text from the internet, which allows me to generate human-like responses to a wide range of topics and questions. I'm constantly learning and improving my abilities, so please bear with me if I make any mistakes or don't quite understand what you're asking. How can I assist you today?\n"
     ]
    }
   ],
   "source": [
    "for event in graph.stream({'messages': 'Hi, how are you, what is your model name?'}):\n",
    "    for value in event.values():\n",
    "        print(value)\n",
    "        print(value['messages'][-1].content)"
   ]
  },
  {
   "cell_type": "code",
   "execution_count": 17,
   "id": "668e30ad",
   "metadata": {},
   "outputs": [
    {
     "data": {
      "text/plain": [
       "{'messages': [HumanMessage(content='Provide me the recent AI news with date', additional_kwargs={}, response_metadata={}, id='c555b149-252c-434a-a248-0d3c126df30b'),\n",
       "  AIMessage(content='Here are some recent AI news articles with dates:\\n\\n**March 2023**\\n\\n1. **Google\\'s AI Model Can Generate Realistic Fake Videos**: A new AI model developed by Google can generate realistic fake videos of people performing various actions, raising concerns about deepfakes and their potential misuse. (Source: The Verge, March 14, 2023)\\n2. **Microsoft Acquires AI-Powered Medical Imaging Company**: Microsoft has acquired AI-powered medical imaging company, Nuance Communications, for $19.7 billion, expanding its presence in the healthcare industry. (Source: CNBC, March 12, 2023)\\n\\n**February 2023**\\n\\n1. **AI-Powered Chatbots Can Detect Mental Health Issues**: Researchers have developed AI-powered chatbots that can detect mental health issues such as depression and anxiety, and provide personalized support to users. (Source: ScienceDaily, February 28, 2023)\\n2. **Facebook\\'s AI System Can Generate Music**: Facebook has developed an AI system that can generate music, including songs and soundtracks, using a combination of machine learning and human collaboration. (Source: CNET, February 24, 2023)\\n\\n**January 2023**\\n\\n1. **AI-Powered Skin Cancer Detection System Showcased**: Researchers have developed an AI-powered skin cancer detection system that can diagnose skin cancer with high accuracy, reducing the need for human dermatologists. (Source: Medical News Today, January 25, 2023)\\n2. **Google\\'s AI Model Can Translate 100 Languages**: Google has announced that its AI model can translate 100 languages, including many minority languages, making it a significant step towards global communication. (Source: The New York Times, January 19, 2023)\\n\\n**December 2022**\\n\\n1. **AI-Powered Cybersecurity System Can Detect Attacks**: A new AI-powered cybersecurity system has been developed that can detect cyber attacks in real-time, reducing the risk of data breaches and identity theft. (Source: TechCrunch, December 22, 2022)\\n2. **Microsoft\\'s AI-Powered Productivity Tool Launched**: Microsoft has launched an AI-powered productivity tool called \"Microsoft Viva\", which uses AI to help employees manage their workloads and prioritize tasks. (Source: The Verge, December 15, 2022)\\n\\n**November 2022**\\n\\n1. **AI-Powered Chatbots Can Help Diagnose Rare Diseases**: Researchers have developed AI-powered chatbots that can help diagnose rare diseases by analyzing patient symptoms and medical records. (Source: ScienceDaily, November 28, 2022)\\n2. **Google\\'s AI Model Can Generate Code**: Google has announced that its AI model can generate code, including complex software programs, making it a significant step towards automating software development. (Source: The Information, November 18, 2022)\\n\\nPlease note that these are just a few examples of recent AI news articles, and there may be other significant developments in the AI field that are not listed here.', additional_kwargs={}, response_metadata={'token_usage': {'completion_tokens': 618, 'prompt_tokens': 18, 'total_tokens': 636, 'completion_time': 0.959530751, 'prompt_time': 0.007393376, 'queue_time': 0.280106223, 'total_time': 0.966924127}, 'model_name': 'llama3-8b-8192', 'system_fingerprint': 'fp_8dc6ecaf8e', 'finish_reason': 'stop', 'logprobs': None}, id='run--00aa6c6e-d1ab-4639-89fa-37b40e6ce187-0', usage_metadata={'input_tokens': 18, 'output_tokens': 618, 'total_tokens': 636})]}"
      ]
     },
     "execution_count": 17,
     "metadata": {},
     "output_type": "execute_result"
    }
   ],
   "source": [
    "graph.invoke({\"messages\": \"Provide me the recent AI news with date\"})"
   ]
  },
  {
   "cell_type": "markdown",
   "id": "ec48ce24",
   "metadata": {},
   "source": [
    "# ChatBot with Tool"
   ]
  },
  {
   "cell_type": "code",
   "execution_count": 18,
   "id": "7c5ce157",
   "metadata": {},
   "outputs": [],
   "source": [
    "diagram = '''\n",
    "                                 ---> NODE(tools) --->\n",
    "                                /                     \\\n",
    "input ---> NODE(ToolCallingLLM) --------------------> output\n",
    "\n",
    "Tools => Tavily Search (web search) + Custom Tool\n",
    "\n",
    "'''"
   ]
  },
  {
   "cell_type": "code",
   "execution_count": 19,
   "id": "1e20961c",
   "metadata": {},
   "outputs": [
    {
     "data": {
      "text/plain": [
       "{'query': 'What is langGraph?',\n",
       " 'follow_up_questions': None,\n",
       " 'answer': None,\n",
       " 'images': [],\n",
       " 'results': [{'title': 'What is LangGraph? - IBM',\n",
       "   'url': 'https://www.ibm.com/think/topics/langgraph',\n",
       "   'content': 'LangGraph, created by LangChain, is an open source AI agent framework designed to build, deploy and manage complex generative AI agent workflows. At its core, LangGraph uses the power of graph-based architectures to model and manage the intricate relationships between various components of an AI agent workflow. LangGraph illuminates the processes within an AI workflow, allowing full transparency of the agent’s state. By combining these technologies with a set of APIs and tools, LangGraph provides users with a versatile platform for developing AI solutions and workflows including chatbots, state graphs and other agent-based systems. Nodes: In LangGraph, nodes represent individual components or agents within an AI workflow. LangGraph uses enhanced decision-making by modeling complex relationships between nodes, which means it uses AI agents to analyze their past actions and feedback.',\n",
       "   'score': 0.94956195,\n",
       "   'raw_content': None},\n",
       "  {'title': 'What is LangGraph? - GeeksforGeeks',\n",
       "   'url': 'https://www.geeksforgeeks.org/machine-learning/what-is-langgraph/',\n",
       "   'content': 'LangGraph is a Python library that helps you build applications like chatbots or AI agents by organizing their logic step-by-step using state machine model. This step configures your Gemini API key and then we create a simple function ask_gemini that takes user input, sends it to the Gemini model and returns the AI-generated response. Creates a state structure with three fields: question, classification and response which flows through the LangGraph. import matplotlib.pyplot as plt from langgraph.graph import StateGraph\\u200bbuilder = StateGraph(GraphState)builder.add_node(\"classify\", classify)builder.add_node(\"respond\", respond)builder.set_entry_point(\"classify\")builder.add_edge(\"classify\", \"respond\")builder.set_finish_point(\"respond\")app = builder.compile()\\u200bdef visualize_workflow(builder): G = nx.DiGraph()\\u200b for node in builder.nodes: G.add_node(node) for edge in builder.edges: G.add_edge(edge[0], edge[1])\\u200b pos = nx.spring_layout(G) nx.draw(G, pos, with_labels=True, node_size=3000, node_color=\"skyblue\", font_size=12, font_weight=\"bold\", arrows=True)  plt.title(\"Langchain Workflow Visualization\") plt.show()\\u200bvisualize_workflow(builder)',\n",
       "   'score': 0.9197076,\n",
       "   'raw_content': None}],\n",
       " 'response_time': 1.49}"
      ]
     },
     "execution_count": 19,
     "metadata": {},
     "output_type": "execute_result"
    }
   ],
   "source": [
    "from langchain_tavily import TavilySearch\n",
    "\n",
    "tool = TavilySearch(max_results = 2)\n",
    "tool.invoke(\"What is langGraph?\")"
   ]
  },
  {
   "cell_type": "code",
   "execution_count": 20,
   "id": "4395d643",
   "metadata": {},
   "outputs": [],
   "source": [
    "# creating custom function\n",
    "\n",
    "def multiply(a: int, b: int) -> int:\n",
    "    \"\"\"Multiply a and b\n",
    "\n",
    "    Args:\n",
    "        a (int): first int\n",
    "        b (int): second int\n",
    "\n",
    "    Returns:\n",
    "        int: output int\n",
    "    \"\"\"\n",
    "    # this is called doc string\n",
    "    return a*b"
   ]
  },
  {
   "cell_type": "code",
   "execution_count": 21,
   "id": "144b26b4",
   "metadata": {},
   "outputs": [
    {
     "data": {
      "text/plain": [
       "[TavilySearch(max_results=2, api_wrapper=TavilySearchAPIWrapper(tavily_api_key=SecretStr('**********'))),\n",
       " <function __main__.multiply(a: int, b: int) -> int>]"
      ]
     },
     "execution_count": 21,
     "metadata": {},
     "output_type": "execute_result"
    }
   ],
   "source": [
    "# creating tools\n",
    "tools = [tool, multiply]\n",
    "tools"
   ]
  },
  {
   "cell_type": "code",
   "execution_count": 22,
   "id": "87531f12",
   "metadata": {},
   "outputs": [
    {
     "data": {
      "text/plain": [
       "RunnableBinding(bound=ChatGroq(client=<groq.resources.chat.completions.Completions object at 0x75a9fcd858e0>, async_client=<groq.resources.chat.completions.AsyncCompletions object at 0x75a9fcd86ae0>, model_name='llama3-8b-8192', model_kwargs={}, groq_api_key=SecretStr('**********')), kwargs={'tools': [{'type': 'function', 'function': {'name': 'tavily_search', 'description': 'A search engine optimized for comprehensive, accurate, and trusted results. Useful for when you need to answer questions about current events. It not only retrieves URLs and snippets, but offers advanced search depths, domain management, time range filters, and image search, this tool delivers real-time, accurate, and citation-backed results.Input should be a search query.', 'parameters': {'properties': {'query': {'description': 'Search query to look up', 'type': 'string'}, 'include_domains': {'anyOf': [{'items': {'type': 'string'}, 'type': 'array'}, {'type': 'null'}], 'default': [], 'description': 'A list of domains to restrict search results to.\\n\\n        Use this parameter when:\\n        1. The user explicitly requests information from specific websites (e.g., \"Find climate data from nasa.gov\")\\n        2. The user mentions an organization or company without specifying the domain (e.g., \"Find information about iPhones from Apple\")\\n\\n        In both cases, you should determine the appropriate domains (e.g., [\"nasa.gov\"] or [\"apple.com\"]) and set this parameter.\\n\\n        Results will ONLY come from the specified domains - no other sources will be included.\\n        Default is None (no domain restriction).\\n        '}, 'exclude_domains': {'anyOf': [{'items': {'type': 'string'}, 'type': 'array'}, {'type': 'null'}], 'default': [], 'description': 'A list of domains to exclude from search results.\\n\\n        Use this parameter when:\\n        1. The user explicitly requests to avoid certain websites (e.g., \"Find information about climate change but not from twitter.com\")\\n        2. The user mentions not wanting results from specific organizations without naming the domain (e.g., \"Find phone reviews but nothing from Apple\")\\n\\n        In both cases, you should determine the appropriate domains to exclude (e.g., [\"twitter.com\"] or [\"apple.com\"]) and set this parameter.\\n\\n        Results will filter out all content from the specified domains.\\n        Default is None (no domain exclusion).\\n        '}, 'search_depth': {'anyOf': [{'enum': ['basic', 'advanced'], 'type': 'string'}, {'type': 'null'}], 'default': 'basic', 'description': 'Controls search thoroughness and result comprehensiveness.\\n    \\n        Use \"basic\" for simple queries requiring quick, straightforward answers.\\n        \\n        Use \"advanced\" (default) for complex queries, specialized topics, \\n        rare information, or when in-depth analysis is needed.\\n        '}, 'include_images': {'anyOf': [{'type': 'boolean'}, {'type': 'null'}], 'default': False, 'description': 'Determines if the search returns relevant images along with text results.\\n   \\n        Set to True when the user explicitly requests visuals or when images would \\n        significantly enhance understanding (e.g., \"Show me what black holes look like,\" \\n        \"Find pictures of Renaissance art\").\\n        \\n        Leave as False (default) for most informational queries where text is sufficient.\\n        '}, 'time_range': {'anyOf': [{'enum': ['day', 'week', 'month', 'year'], 'type': 'string'}, {'type': 'null'}], 'default': None, 'description': 'Limits results to content published within a specific timeframe.\\n        \\n        ONLY set this when the user explicitly mentions a time period \\n        (e.g., \"latest AI news,\" \"articles from last week\").\\n        \\n        For less popular or niche topics, use broader time ranges \\n        (\"month\" or \"year\") to ensure sufficient relevant results.\\n   \\n        Options: \"day\" (24h), \"week\" (7d), \"month\" (30d), \"year\" (365d).\\n        \\n        Default is None.\\n        '}, 'topic': {'anyOf': [{'enum': ['general', 'news', 'finance'], 'type': 'string'}, {'type': 'null'}], 'default': 'general', 'description': 'Specifies search category for optimized results.\\n   \\n        Use \"general\" (default) for most queries, INCLUDING those with terms like \\n        \"latest,\" \"newest,\" or \"recent\" when referring to general information.\\n\\n        Use \"finance\" for markets, investments, economic data, or financial news.\\n\\n        Use \"news\" ONLY for politics, sports, or major current events covered by \\n        mainstream media - NOT simply because a query asks for \"new\" information.\\n        '}}, 'required': ['query'], 'type': 'object'}}}, {'type': 'function', 'function': {'name': 'multiply', 'description': 'Multiply a and b', 'parameters': {'properties': {'a': {'description': 'first int', 'type': 'integer'}, 'b': {'description': 'second int', 'type': 'integer'}}, 'required': ['a', 'b'], 'type': 'object'}}}]}, config={}, config_factories=[])"
      ]
     },
     "execution_count": 22,
     "metadata": {},
     "output_type": "execute_result"
    }
   ],
   "source": [
    "# binding tools with llm\n",
    "llm_with_tools = llm.bind_tools(tools = tools)\n",
    "llm_with_tools"
   ]
  },
  {
   "cell_type": "markdown",
   "id": "a2e0af35",
   "metadata": {},
   "source": [
    "Binding ==> LLM + Tools    \n",
    "[helps LLM to know which ara all the tools it has]"
   ]
  },
  {
   "cell_type": "code",
   "execution_count": 23,
   "id": "56a29374",
   "metadata": {},
   "outputs": [
    {
     "data": {
      "image/png": "[encoded data removed]",
      "text/plain": [
       "<langgraph.graph.state.CompiledStateGraph object at 0x75a9fcea58b0>"
      ]
     },
     "execution_count": 23,
     "metadata": {},
     "output_type": "execute_result"
    }
   ],
   "source": [
    "# State Graph\n",
    "from langgraph.graph import StateGraph, START, END\n",
    "from langgraph.prebuilt import ToolNode\n",
    "from langgraph.prebuilt import tools_condition\n",
    "\n",
    "# Node definition\n",
    "def tool_calling_llm(state: State):\n",
    "    return {\n",
    "        'messages': [llm_with_tools.invoke(state['messages'])]\n",
    "    }\n",
    "\n",
    "# building graph\n",
    "builder = StateGraph(State)\n",
    "builder.add_node(\"tool_calling_llm\",tool_calling_llm)\n",
    "builder.add_node(\"tools\", ToolNode(tools = tools))\n",
    "\n",
    "# adding edges\n",
    "builder.add_edge(START, \"tool_calling_llm\")\n",
    "# from tool_calling_llm there are 2 edges one give output and other call tools - this type of edges are called conditional edges\n",
    "builder.add_conditional_edges(\n",
    "    \"tool_calling_llm\",\n",
    "    tools_condition\n",
    "    # What is this tools_condition\n",
    "    # if the latest message (result) from the assistant is a tool call -- tools_condition routes to tools (tools=[], you have to use teh same name)\n",
    "    # if the latest message (result) from the assistant is not a tool call -- tools_condition routes to END\n",
    ")\n",
    "builder.add_edge(\"tools\", END)\n",
    "\n",
    "# compile graph\n",
    "graph = builder.compile()\n",
    "graph"
   ]
  },
  {
   "cell_type": "code",
   "execution_count": 24,
   "id": "4219c5f8",
   "metadata": {},
   "outputs": [
    {
     "data": {
      "text/plain": [
       "{'messages': [HumanMessage(content='WHat is the latest AI news?', additional_kwargs={}, response_metadata={}, id='251ec306-ec9d-429a-887d-06c3dba684c2'),\n",
       "  AIMessage(content='', additional_kwargs={'tool_calls': [{'id': 'zh5vbb6cx', 'function': {'arguments': '{\"query\":\"latest AI news\",\"search_depth\":\"advanced\",\"time_range\":\"day\",\"topic\":\"news\"}', 'name': 'tavily_search'}, 'type': 'function'}]}, response_metadata={'token_usage': {'completion_tokens': 93, 'prompt_tokens': 2196, 'total_tokens': 2289, 'completion_time': 0.134784745, 'prompt_time': 0.247466203, 'queue_time': 0.31249087500000006, 'total_time': 0.382250948}, 'model_name': 'llama3-8b-8192', 'system_fingerprint': 'fp_8b7c3a83f7', 'finish_reason': 'tool_calls', 'logprobs': None}, id='run--860271cf-5a21-47b7-82cb-4e55466b1c0e-0', tool_calls=[{'name': 'tavily_search', 'args': {'query': 'latest AI news', 'search_depth': 'advanced', 'time_range': 'day', 'topic': 'news'}, 'id': 'zh5vbb6cx', 'type': 'tool_call'}], usage_metadata={'input_tokens': 2196, 'output_tokens': 93, 'total_tokens': 2289}),\n",
       "  ToolMessage(content='{\"query\": \"latest AI news\", \"follow_up_questions\": null, \"answer\": null, \"images\": [], \"results\": [{\"url\": \"https://www.startupecosystem.ca/news/ai-and-mvp-optimization-at-techcrunch-all-stage-with-chris-gardner/\", \"title\": \"AI and MVP Optimization at TechCrunch All Stage with Chris Gardner - Startup Ecosystem Canada\", \"score\": 0.57723385, \"published_date\": \"Sat, 28 Jun 2025 09:05:41 GMT\", \"content\": \"acquisitionAI developmentAI infrastructureAI innovationAI integrationAI investmentAI modelsAI technologyAmazonAnthropicAppleArtificial IntelligenceAutonomous vehiclesCanada founder newsCanada startup newscryptocurrencyCybersecurityDeepSeekElectric VehiclesElon MuskentrepreneurshipfintechFunding roundGenerative AIGlobal founder newsGlobal startup newshealthcare innovationInnovationinvestmentIPOMetaMicrosoftNvidiaOntario founder newsOntario startup newsOpenAIQuantum computingSam AltmanSeed [...] ### DeepSeek Faces Global Restrictions Due to Data Security Concerns\\\\n\\\\nImage 12: Startup Eco System\\\\n\\\\nStartup Eco System1 February 2025\\\\n\\\\n2 months ago Image 13: OpenAI’s Interest in Acquiring Google Chrome Amid Antitrust PressureGlobalOpenAI’s Interest in Acquiring Google Chrome Amid Antitrust Pressure\\\\n\\\\n### OpenAI’s Interest in Acquiring Google Chrome Amid Antitrust Pressure\\\\n\\\\nImage 14: Startup Eco System\\\\n\\\\nStartup Eco System23 April 2025\", \"raw_content\": null}, {\"url\": \"https://www.businessinsider.com/sc/ai-desktops-make-workers-productive\", \"title\": \"AI is helping small businesses increase productivity. Here\\'s a look inside the computing hardware helping power it. - Business Insider\", \"score\": 0.57666177, \"published_date\": \"Fri, 27 Jun 2025 23:28:00 GMT\", \"content\": \"Many business owners have questions about the suitability of their legacy systems in this new AI era. According to Wan, MSI\\'s latest technology is designed to help everyday business users take full advantage of AI. The Cubi NUC AI+ 2M, for example, include the next-generation Intel® Lunar Lake processors, featuring on-chip NPU and GPU cores which provide efficient, on-device AI computing. These compact systems also include Microsoft Copilot+, an AI-powered assistant designed to help teams work [...] For example, in marketing, AI is powering smarter, more personalized campaigns. Content teams are creating, tweaking, and repurposing material at incredible speeds. Meanwhile, in law, AI is cutting down the time needed for research and contract reviews. [...] AI is already improving productivity and business outcomes at many organizations. Early adopters in small and mid-sized businesses are seeing real gains by automating repetitive workflows that free up valuable time and resources.\\\\n\\\\n\\\\\"We\\'re hearing about tangible improvements in productivity, customer satisfaction, and even employee engagement as teams are empowered by technology that supports their goals,\\\\\" Wan said.\", \"raw_content\": null}], \"response_time\": 1.21}', name='tavily_search', id='90513483-1bfe-4371-89c1-49ee92b314af', tool_call_id='zh5vbb6cx')]}"
      ]
     },
     "execution_count": 24,
     "metadata": {},
     "output_type": "execute_result"
    }
   ],
   "source": [
    "response = graph.invoke({'messages': 'WHat is the latest AI news?'})\n",
    "response"
   ]
  },
  {
   "cell_type": "code",
   "execution_count": 25,
   "id": "c5d14c73",
   "metadata": {},
   "outputs": [
    {
     "data": {
      "text/plain": [
       "'{\"query\": \"latest AI news\", \"follow_up_questions\": null, \"answer\": null, \"images\": [], \"results\": [{\"url\": \"https://www.startupecosystem.ca/news/ai-and-mvp-optimization-at-techcrunch-all-stage-with-chris-gardner/\", \"title\": \"AI and MVP Optimization at TechCrunch All Stage with Chris Gardner - Startup Ecosystem Canada\", \"score\": 0.57723385, \"published_date\": \"Sat, 28 Jun 2025 09:05:41 GMT\", \"content\": \"acquisitionAI developmentAI infrastructureAI innovationAI integrationAI investmentAI modelsAI technologyAmazonAnthropicAppleArtificial IntelligenceAutonomous vehiclesCanada founder newsCanada startup newscryptocurrencyCybersecurityDeepSeekElectric VehiclesElon MuskentrepreneurshipfintechFunding roundGenerative AIGlobal founder newsGlobal startup newshealthcare innovationInnovationinvestmentIPOMetaMicrosoftNvidiaOntario founder newsOntario startup newsOpenAIQuantum computingSam AltmanSeed [...] ### DeepSeek Faces Global Restrictions Due to Data Security Concerns\\\\n\\\\nImage 12: Startup Eco System\\\\n\\\\nStartup Eco System1 February 2025\\\\n\\\\n2 months ago Image 13: OpenAI’s Interest in Acquiring Google Chrome Amid Antitrust PressureGlobalOpenAI’s Interest in Acquiring Google Chrome Amid Antitrust Pressure\\\\n\\\\n### OpenAI’s Interest in Acquiring Google Chrome Amid Antitrust Pressure\\\\n\\\\nImage 14: Startup Eco System\\\\n\\\\nStartup Eco System23 April 2025\", \"raw_content\": null}, {\"url\": \"https://www.businessinsider.com/sc/ai-desktops-make-workers-productive\", \"title\": \"AI is helping small businesses increase productivity. Here\\'s a look inside the computing hardware helping power it. - Business Insider\", \"score\": 0.57666177, \"published_date\": \"Fri, 27 Jun 2025 23:28:00 GMT\", \"content\": \"Many business owners have questions about the suitability of their legacy systems in this new AI era. According to Wan, MSI\\'s latest technology is designed to help everyday business users take full advantage of AI. The Cubi NUC AI+ 2M, for example, include the next-generation Intel® Lunar Lake processors, featuring on-chip NPU and GPU cores which provide efficient, on-device AI computing. These compact systems also include Microsoft Copilot+, an AI-powered assistant designed to help teams work [...] For example, in marketing, AI is powering smarter, more personalized campaigns. Content teams are creating, tweaking, and repurposing material at incredible speeds. Meanwhile, in law, AI is cutting down the time needed for research and contract reviews. [...] AI is already improving productivity and business outcomes at many organizations. Early adopters in small and mid-sized businesses are seeing real gains by automating repetitive workflows that free up valuable time and resources.\\\\n\\\\n\\\\\"We\\'re hearing about tangible improvements in productivity, customer satisfaction, and even employee engagement as teams are empowered by technology that supports their goals,\\\\\" Wan said.\", \"raw_content\": null}], \"response_time\": 1.21}'"
      ]
     },
     "execution_count": 25,
     "metadata": {},
     "output_type": "execute_result"
    }
   ],
   "source": [
    "response['messages'][-1].content"
   ]
  },
  {
   "cell_type": "code",
   "execution_count": 26,
   "id": "76407ec2",
   "metadata": {},
   "outputs": [
    {
     "name": "stdout",
     "output_type": "stream",
     "text": [
      "================================\u001b[1m Human Message \u001b[0m=================================\n",
      "\n",
      "WHat is the latest AI news?\n",
      "==================================\u001b[1m Ai Message \u001b[0m==================================\n",
      "Tool Calls:\n",
      "  tavily_search (zh5vbb6cx)\n",
      " Call ID: zh5vbb6cx\n",
      "  Args:\n",
      "    query: latest AI news\n",
      "    search_depth: advanced\n",
      "    time_range: day\n",
      "    topic: news\n",
      "=================================\u001b[1m Tool Message \u001b[0m=================================\n",
      "Name: tavily_search\n",
      "\n",
      "{\"query\": \"latest AI news\", \"follow_up_questions\": null, \"answer\": null, \"images\": [], \"results\": [{\"url\": \"https://www.startupecosystem.ca/news/ai-and-mvp-optimization-at-techcrunch-all-stage-with-chris-gardner/\", \"title\": \"AI and MVP Optimization at TechCrunch All Stage with Chris Gardner - Startup Ecosystem Canada\", \"score\": 0.57723385, \"published_date\": \"Sat, 28 Jun 2025 09:05:41 GMT\", \"content\": \"acquisitionAI developmentAI infrastructureAI innovationAI integrationAI investmentAI modelsAI technologyAmazonAnthropicAppleArtificial IntelligenceAutonomous vehiclesCanada founder newsCanada startup newscryptocurrencyCybersecurityDeepSeekElectric VehiclesElon MuskentrepreneurshipfintechFunding roundGenerative AIGlobal founder newsGlobal startup newshealthcare innovationInnovationinvestmentIPOMetaMicrosoftNvidiaOntario founder newsOntario startup newsOpenAIQuantum computingSam AltmanSeed [...] ### DeepSeek Faces Global Restrictions Due to Data Security Concerns\\n\\nImage 12: Startup Eco System\\n\\nStartup Eco System1 February 2025\\n\\n2 months ago Image 13: OpenAI’s Interest in Acquiring Google Chrome Amid Antitrust PressureGlobalOpenAI’s Interest in Acquiring Google Chrome Amid Antitrust Pressure\\n\\n### OpenAI’s Interest in Acquiring Google Chrome Amid Antitrust Pressure\\n\\nImage 14: Startup Eco System\\n\\nStartup Eco System23 April 2025\", \"raw_content\": null}, {\"url\": \"https://www.businessinsider.com/sc/ai-desktops-make-workers-productive\", \"title\": \"AI is helping small businesses increase productivity. Here's a look inside the computing hardware helping power it. - Business Insider\", \"score\": 0.57666177, \"published_date\": \"Fri, 27 Jun 2025 23:28:00 GMT\", \"content\": \"Many business owners have questions about the suitability of their legacy systems in this new AI era. According to Wan, MSI's latest technology is designed to help everyday business users take full advantage of AI. The Cubi NUC AI+ 2M, for example, include the next-generation Intel® Lunar Lake processors, featuring on-chip NPU and GPU cores which provide efficient, on-device AI computing. These compact systems also include Microsoft Copilot+, an AI-powered assistant designed to help teams work [...] For example, in marketing, AI is powering smarter, more personalized campaigns. Content teams are creating, tweaking, and repurposing material at incredible speeds. Meanwhile, in law, AI is cutting down the time needed for research and contract reviews. [...] AI is already improving productivity and business outcomes at many organizations. Early adopters in small and mid-sized businesses are seeing real gains by automating repetitive workflows that free up valuable time and resources.\\n\\n\\\"We're hearing about tangible improvements in productivity, customer satisfaction, and even employee engagement as teams are empowered by technology that supports their goals,\\\" Wan said.\", \"raw_content\": null}], \"response_time\": 1.21}\n"
     ]
    }
   ],
   "source": [
    "for m in response['messages']:\n",
    "    m.pretty_print()"
   ]
  },
  {
   "cell_type": "code",
   "execution_count": 27,
   "id": "4f8737a2",
   "metadata": {},
   "outputs": [
    {
     "name": "stdout",
     "output_type": "stream",
     "text": [
      "================================\u001b[1m Human Message \u001b[0m=================================\n",
      "\n",
      "WHat is 9 multiply by 5?\n",
      "==================================\u001b[1m Ai Message \u001b[0m==================================\n",
      "Tool Calls:\n",
      "  multiply (8qhy17dnh)\n",
      " Call ID: 8qhy17dnh\n",
      "  Args:\n",
      "    a: 9\n",
      "    b: 5\n",
      "=================================\u001b[1m Tool Message \u001b[0m=================================\n",
      "Name: multiply\n",
      "\n",
      "45\n"
     ]
    }
   ],
   "source": [
    "response = graph.invoke({'messages': 'WHat is 9 multiply by 5?'})\n",
    "for m in response['messages']:\n",
    "    m.pretty_print()"
   ]
  },
  {
   "cell_type": "code",
   "execution_count": 28,
   "id": "cd415ca0",
   "metadata": {},
   "outputs": [
    {
     "name": "stdout",
     "output_type": "stream",
     "text": [
      "================================\u001b[1m Human Message \u001b[0m=================================\n",
      "\n",
      "WHat is 9 multiply by 5 then nultiply 2?\n",
      "==================================\u001b[1m Ai Message \u001b[0m==================================\n",
      "Tool Calls:\n",
      "  multiply (tgjqrpse0)\n",
      " Call ID: tgjqrpse0\n",
      "  Args:\n",
      "    a: 9\n",
      "    b: 5\n",
      "  multiply (bybq8mha6)\n",
      " Call ID: bybq8mha6\n",
      "  Args:\n",
      "    a: 45\n",
      "    b: 2\n",
      "=================================\u001b[1m Tool Message \u001b[0m=================================\n",
      "Name: multiply\n",
      "\n",
      "45\n",
      "=================================\u001b[1m Tool Message \u001b[0m=================================\n",
      "Name: multiply\n",
      "\n",
      "90\n"
     ]
    }
   ],
   "source": [
    "response = graph.invoke({'messages': 'WHat is 9 multiply by 5 then nultiply 2?'})\n",
    "for m in response['messages']:\n",
    "    m.pretty_print()"
   ]
  },
  {
   "cell_type": "code",
   "execution_count": 29,
   "id": "4d060b60",
   "metadata": {},
   "outputs": [
    {
     "name": "stdout",
     "output_type": "stream",
     "text": [
      "================================\u001b[1m Human Message \u001b[0m=================================\n",
      "\n",
      "Give me recent ai new by apple and what is multiply 9 and 7\n",
      "==================================\u001b[1m Ai Message \u001b[0m==================================\n",
      "Tool Calls:\n",
      "  tavily_search (fkyz7jvws)\n",
      " Call ID: fkyz7jvws\n",
      "  Args:\n",
      "    query: recent ai news by apple\n",
      "    search_depth: advanced\n",
      "    topic: news\n",
      "  multiply (h53f6ygvm)\n",
      " Call ID: h53f6ygvm\n",
      "  Args:\n",
      "    a: 9\n",
      "    b: 7\n",
      "=================================\u001b[1m Tool Message \u001b[0m=================================\n",
      "Name: tavily_search\n",
      "\n",
      "{\"query\": \"recent ai news by apple\", \"follow_up_questions\": null, \"answer\": null, \"images\": [], \"results\": [{\"url\": \"https://www.forbes.com/sites/ewanspence/2025/06/22/apple-news-headlines-iphone-17-pro-ios-26-ipados-multitasking-macbook-pro-upgrade/\", \"title\": \"Apple Loop: iPhone 17 Pro Release Date, Apple Challenges AI Assumptions, iPad Pro Multitasking Explained - Forbes\", \"score\": 0.8055255, \"published_date\": \"Sun, 22 Jun 2025 20:05:00 GMT\", \"content\": \"Apple continues to lag behind the curve in the use of generative AI—the recent delay announced at WWDC points to nothing practical till 2026. Apple's work on AI has led to a research paper that suggests the promises made by the competition may be too generous: [...] While its Siri team works on the ongoing problems with Apple Intelligence, Apple may look to short-circuit its AI troubles through an acquisition. This weekend, we saw reporting on the potential purchase of Perplexity AI. This would be a deal in the range of $14 billion. While Perplexity is not as all-encompassing as OpenAI or Anthropic, it does have consumer products in the market, the search and conversational AI tools Apple is struggling with, and a small team that should be easier to [...] \\\"In particular, the researchers assail the claims of companies like OpenAI that their most advanced models can now \\\"reason\\\" — a supposed capability that the Sam Altman-led company has increasingly leaned on over the past year for marketing purposes — which the Apple team characterizes as merely an \\\"illusion of thinking.”\\\"\\n\\n(Futurism).\\n\\nUpdate, Sunday June 22, 2025.\", \"raw_content\": null}, {\"url\": \"https://markets.financialcontent.com/stocks/article/accwirecq-2025-6-27-pomerantz-law-firm-announces-the-filing-of-a-class-action-against-apple-inc-and-certain-officers-aapl\", \"title\": \"Pomerantz Law Firm Announces the Filing of a Class Action Against Apple Inc. and Certain Officers - AAPL - FinancialContent\", \"score\": 0.78572035, \"published_date\": \"Fri, 27 Jun 2025 00:35:00 GMT\", \"content\": \"In recent years, several of Apple's competitors have developed and/or launched advanced AI capabilities based on large language models. For example, Google and Microsoft have each launched generative-AI chatbots respectively referred to as Gemini and Copilot. In addition, Amazon has announced that it was introducing Alexa+, a conversational, generative-AI version of its own virtual assistant technology. Accordingly, Apple has felt pressure to introduce AI-based capabilities on its iPhones, and [...] In June 2024, Apple announced advanced AI-based Siri features at its Worldwide Developer Conference (\\\"WWDC\\\") (the \\\"2024 WWDC\\\")-an event designed to showcase the Company's new software and technologies-as the primary reason for consumers to purchase iPhone 16 devices. Specifically, the Company introduced Apple Intelligence, the \\\"personal intelligence system that combines the power of generative models with users' personal context - at the core of iPhone, iPad, and Mac to deliver intelligence\", \"raw_content\": null}], \"response_time\": 1.34}\n",
      "=================================\u001b[1m Tool Message \u001b[0m=================================\n",
      "Name: multiply\n",
      "\n",
      "63\n"
     ]
    }
   ],
   "source": [
    "response = graph.invoke({'messages': 'Give me recent ai new by apple and what is multiply 9 and 7'})\n",
    "for m in response['messages']:\n",
    "    m.pretty_print()"
   ]
  },
  {
   "cell_type": "markdown",
   "id": "3e4dc62d",
   "metadata": {},
   "source": [
    "# ReAct Agent architecture"
   ]
  },
  {
   "cell_type": "code",
   "execution_count": 30,
   "id": "277f492a",
   "metadata": {},
   "outputs": [],
   "source": [
    "diagram = '''\n",
    "input ---> NODE(ToolCallingLLM) <---> NODE(tools)\n",
    "                    |\n",
    "                    -----> output\n",
    "\n",
    "Tools => Tavily Search (web search) + Custom Tool\n",
    "\n",
    "'''"
   ]
  },
  {
   "cell_type": "markdown",
   "id": "a8ad3bf1",
   "metadata": {},
   "source": [
    "3 elements in ReAct Agent\n",
    "\n",
    "- Act = whenever input comes LLM will be able to make the tool call\n",
    "\n",
    "- Observe = when teh output of Tools comes teh LLM will observe\n",
    "\n",
    "- Reason = after getting the output and no input left then what the LLM should do, that LLM is making the decision (Agent behavioud comes into picture)"
   ]
  },
  {
   "cell_type": "code",
   "execution_count": 31,
   "id": "fd81c826",
   "metadata": {},
   "outputs": [
    {
     "data": {
      "image/png": "[encoded data removed]",
      "text/plain": [
       "<langgraph.graph.state.CompiledStateGraph object at 0x75a9fce04fb0>"
      ]
     },
     "execution_count": 31,
     "metadata": {},
     "output_type": "execute_result"
    }
   ],
   "source": [
    "# State Graph\n",
    "from langgraph.graph import StateGraph, START, END\n",
    "from langgraph.prebuilt import ToolNode\n",
    "from langgraph.prebuilt import tools_condition\n",
    "\n",
    "# Node definition\n",
    "def tool_calling_llm(state: State):\n",
    "    return {\n",
    "        'messages': [llm_with_tools.invoke(state['messages'])]\n",
    "    }\n",
    "\n",
    "# building graph\n",
    "builder = StateGraph(State)\n",
    "\n",
    "# adding nodes\n",
    "builder.add_node(\"tool_calling_llm\",tool_calling_llm)\n",
    "builder.add_node(\"tools\", ToolNode(tools = tools))\n",
    "\n",
    "# adding edges\n",
    "builder.add_edge(START, \"tool_calling_llm\")\n",
    "# from tool_calling_llm there are 2 edges one give output and other call tools - this type of edges are called conditional edges\n",
    "builder.add_conditional_edges(\n",
    "    \"tool_calling_llm\",\n",
    "    tools_condition\n",
    "    # What is this tools_condition\n",
    "    # if the latest message (result) from the assistant is a tool call -- tools_condition routes to tools (tools=[], you have to use teh same name)\n",
    "    # if the latest message (result) from the assistant is not a tool call -- tools_condition routes to END\n",
    ")\n",
    "builder.add_edge(\"tools\", \"tool_calling_llm\")\n",
    "\n",
    "# compile graph\n",
    "graph = builder.compile()\n",
    "graph"
   ]
  },
  {
   "cell_type": "code",
   "execution_count": 32,
   "id": "bca5dbf2",
   "metadata": {},
   "outputs": [
    {
     "name": "stdout",
     "output_type": "stream",
     "text": [
      "================================\u001b[1m Human Message \u001b[0m=================================\n",
      "\n",
      "Give me recent ai new by apple and what is multiply 9 and 7\n",
      "==================================\u001b[1m Ai Message \u001b[0m==================================\n",
      "Tool Calls:\n",
      "  tavily_search (52c0bybtz)\n",
      " Call ID: 52c0bybtz\n",
      "  Args:\n",
      "    query: recent ai news by apple\n",
      "    search_depth: advanced\n",
      "    topic: news\n",
      "  multiply (rtmm5a6se)\n",
      " Call ID: rtmm5a6se\n",
      "  Args:\n",
      "    a: 9\n",
      "    b: 7\n",
      "=================================\u001b[1m Tool Message \u001b[0m=================================\n",
      "Name: tavily_search\n",
      "\n",
      "{\"query\": \"recent ai news by apple\", \"follow_up_questions\": null, \"answer\": null, \"images\": [], \"results\": [{\"url\": \"https://www.forbes.com/sites/ewanspence/2025/06/22/apple-news-headlines-iphone-17-pro-ios-26-ipados-multitasking-macbook-pro-upgrade/\", \"title\": \"Apple Loop: iPhone 17 Pro Release Date, Apple Challenges AI Assumptions, iPad Pro Multitasking Explained - Forbes\", \"score\": 0.8055255, \"published_date\": \"Sun, 22 Jun 2025 20:05:00 GMT\", \"content\": \"Apple continues to lag behind the curve in the use of generative AI—the recent delay announced at WWDC points to nothing practical till 2026. Apple's work on AI has led to a research paper that suggests the promises made by the competition may be too generous: [...] While its Siri team works on the ongoing problems with Apple Intelligence, Apple may look to short-circuit its AI troubles through an acquisition. This weekend, we saw reporting on the potential purchase of Perplexity AI. This would be a deal in the range of $14 billion. While Perplexity is not as all-encompassing as OpenAI or Anthropic, it does have consumer products in the market, the search and conversational AI tools Apple is struggling with, and a small team that should be easier to [...] \\\"In particular, the researchers assail the claims of companies like OpenAI that their most advanced models can now \\\"reason\\\" — a supposed capability that the Sam Altman-led company has increasingly leaned on over the past year for marketing purposes — which the Apple team characterizes as merely an \\\"illusion of thinking.”\\\"\\n\\n(Futurism).\\n\\nUpdate, Sunday June 22, 2025.\", \"raw_content\": null}, {\"url\": \"https://markets.financialcontent.com/stocks/article/accwirecq-2025-6-27-pomerantz-law-firm-announces-the-filing-of-a-class-action-against-apple-inc-and-certain-officers-aapl\", \"title\": \"Pomerantz Law Firm Announces the Filing of a Class Action Against Apple Inc. and Certain Officers - AAPL - FinancialContent\", \"score\": 0.78572035, \"published_date\": \"Fri, 27 Jun 2025 00:35:00 GMT\", \"content\": \"In recent years, several of Apple's competitors have developed and/or launched advanced AI capabilities based on large language models. For example, Google and Microsoft have each launched generative-AI chatbots respectively referred to as Gemini and Copilot. In addition, Amazon has announced that it was introducing Alexa+, a conversational, generative-AI version of its own virtual assistant technology. Accordingly, Apple has felt pressure to introduce AI-based capabilities on its iPhones, and [...] In June 2024, Apple announced advanced AI-based Siri features at its Worldwide Developer Conference (\\\"WWDC\\\") (the \\\"2024 WWDC\\\")-an event designed to showcase the Company's new software and technologies-as the primary reason for consumers to purchase iPhone 16 devices. Specifically, the Company introduced Apple Intelligence, the \\\"personal intelligence system that combines the power of generative models with users' personal context - at the core of iPhone, iPad, and Mac to deliver intelligence\", \"raw_content\": null}], \"response_time\": 1.17}\n",
      "=================================\u001b[1m Tool Message \u001b[0m=================================\n",
      "Name: multiply\n",
      "\n",
      "63\n",
      "==================================\u001b[1m Ai Message \u001b[0m==================================\n",
      "\n",
      "Here is the result:\n",
      "\n",
      "<tool-use>{\"tool_calls\": []}</tool-use>\n"
     ]
    }
   ],
   "source": [
    "response = graph.invoke({'messages': 'Give me recent ai new by apple and what is multiply 9 and 7'})\n",
    "for m in response['messages']:\n",
    "    m.pretty_print()"
   ]
  },
  {
   "cell_type": "markdown",
   "id": "40431826",
   "metadata": {},
   "source": [
    "# Adding memory in Agentic Graph"
   ]
  },
  {
   "cell_type": "markdown",
   "id": "26847d66",
   "metadata": {},
   "source": [
    "Memory will be required for \"Chat History\""
   ]
  },
  {
   "cell_type": "code",
   "execution_count": 33,
   "id": "a64c8ecb",
   "metadata": {},
   "outputs": [
    {
     "name": "stdout",
     "output_type": "stream",
     "text": [
      "================================\u001b[1m Human Message \u001b[0m=================================\n",
      "\n",
      "My name is Yash\n",
      "==================================\u001b[1m Ai Message \u001b[0m==================================\n",
      "\n",
      "Nice to meet you, Yash!\n"
     ]
    }
   ],
   "source": [
    "response = graph.invoke({'messages': 'My name is Yash'})\n",
    "for m in response['messages']:\n",
    "    m.pretty_print()"
   ]
  },
  {
   "cell_type": "code",
   "execution_count": 34,
   "id": "f2d2c06e",
   "metadata": {},
   "outputs": [
    {
     "name": "stdout",
     "output_type": "stream",
     "text": [
      "================================\u001b[1m Human Message \u001b[0m=================================\n",
      "\n",
      "What is my name\n",
      "==================================\u001b[1m Ai Message \u001b[0m==================================\n",
      "\n",
      "I'm not aware of any information that would allow me to determine your name. I'm a large language model, I don't have the ability to access personal information or identify individuals. I'm here to provide information and answer questions to the best of my ability, but I don't have the capability to recall or store personal information. If you'd like to provide me with more context or information, I'd be happy to try and help you further.\n"
     ]
    }
   ],
   "source": [
    "response = graph.invoke({'messages': 'What is my name'})\n",
    "for m in response['messages']:\n",
    "    m.pretty_print()"
   ]
  },
  {
   "cell_type": "markdown",
   "id": "0470133a",
   "metadata": {},
   "source": [
    "Here we dont have any memory. Model does knwo about teh previous conversation"
   ]
  },
  {
   "cell_type": "code",
   "execution_count": 35,
   "id": "cf99e888",
   "metadata": {},
   "outputs": [
    {
     "data": {
      "image/png": "[encoded data removed]",
      "text/plain": [
       "<langgraph.graph.state.CompiledStateGraph object at 0x75a9fcaff7d0>"
      ]
     },
     "execution_count": 35,
     "metadata": {},
     "output_type": "execute_result"
    }
   ],
   "source": [
    "# Memory\n",
    "# in-memory checkpoint saver\n",
    "# this memory checkpoint saver will store chekpoints in memory using a defaultDict\n",
    "# w.r.t every NODE that it excutes it will save all the information so that we can recall this memory again and again\n",
    "from langgraph.checkpoint.memory import MemorySaver\n",
    "memory = MemorySaver()\n",
    "\n",
    "\n",
    "# Node definition\n",
    "def tool_calling_llm(state: State):\n",
    "    return {\n",
    "        'messages': [llm_with_tools.invoke(state['messages'])]\n",
    "    }\n",
    "\n",
    "# building graph\n",
    "builder = StateGraph(State)\n",
    "\n",
    "# adding nodes\n",
    "builder.add_node(\"tool_calling_llm\",tool_calling_llm)\n",
    "builder.add_node(\"tools\", ToolNode(tools = tools))\n",
    "\n",
    "# adding edges\n",
    "builder.add_edge(START, \"tool_calling_llm\")\n",
    "builder.add_conditional_edges(\n",
    "    \"tool_calling_llm\",\n",
    "    tools_condition\n",
    ")\n",
    "builder.add_edge(\"tools\", \"tool_calling_llm\")\n",
    "\n",
    "# compile graph = adding memory here\n",
    "graph = builder.compile(checkpointer = memory)\n",
    "graph"
   ]
  },
  {
   "cell_type": "markdown",
   "id": "8c91d59f",
   "metadata": {},
   "source": [
    "creating a thread"
   ]
  },
  {
   "cell_type": "code",
   "execution_count": 36,
   "id": "ad0b3b59",
   "metadata": {},
   "outputs": [
    {
     "name": "stdout",
     "output_type": "stream",
     "text": [
      "================================\u001b[1m Human Message \u001b[0m=================================\n",
      "\n",
      "hi, my name is yash\n",
      "==================================\u001b[1m Ai Message \u001b[0m==================================\n",
      "\n",
      "Nice to meet you, Yash!\n"
     ]
    }
   ],
   "source": [
    "config = {'configurable': {'thread_id': '1'}}\n",
    "\n",
    "response = graph.invoke({'messages': 'hi, my name is yash'}, config = config)\n",
    "for m in response['messages']:\n",
    "    m.pretty_print()"
   ]
  },
  {
   "cell_type": "code",
   "execution_count": 37,
   "id": "49946168",
   "metadata": {},
   "outputs": [
    {
     "name": "stdout",
     "output_type": "stream",
     "text": [
      "================================\u001b[1m Human Message \u001b[0m=================================\n",
      "\n",
      "hi, my name is yash\n",
      "==================================\u001b[1m Ai Message \u001b[0m==================================\n",
      "\n",
      "Nice to meet you, Yash!\n",
      "================================\u001b[1m Human Message \u001b[0m=================================\n",
      "\n",
      "what is my name\n",
      "==================================\u001b[1m Ai Message \u001b[0m==================================\n",
      "\n",
      "Your name is Yash.\n"
     ]
    }
   ],
   "source": [
    "response = graph.invoke({'messages': 'what is my name'}, config = config)\n",
    "for m in response['messages']:\n",
    "    m.pretty_print()"
   ]
  },
  {
   "cell_type": "code",
   "execution_count": 38,
   "id": "723578ed",
   "metadata": {},
   "outputs": [
    {
     "name": "stdout",
     "output_type": "stream",
     "text": [
      "================================\u001b[1m Human Message \u001b[0m=================================\n",
      "\n",
      "hi, my name is yash\n",
      "==================================\u001b[1m Ai Message \u001b[0m==================================\n",
      "\n",
      "Nice to meet you, Yash!\n",
      "================================\u001b[1m Human Message \u001b[0m=================================\n",
      "\n",
      "what is my name\n",
      "==================================\u001b[1m Ai Message \u001b[0m==================================\n",
      "\n",
      "Your name is Yash.\n",
      "================================\u001b[1m Human Message \u001b[0m=================================\n",
      "\n",
      "What is the meaning of my Name?\n",
      "==================================\u001b[1m Ai Message \u001b[0m==================================\n",
      "\n",
      "Yash is a Hindu name, and it means \"victory\" or \"winning\" in Sanskrit. In some cultures, it is also associated with the god of victory, Yama.\n"
     ]
    }
   ],
   "source": [
    "response = graph.invoke({'messages': 'What is the meaning of my Name?'}, config = config)\n",
    "for m in response['messages']:\n",
    "    m.pretty_print()"
   ]
  },
  {
   "cell_type": "markdown",
   "id": "dc0b43db",
   "metadata": {},
   "source": [
    "# Streaming\n",
    "\n",
    "Methods = .stream() and .astream() for streaming back results\n",
    "\n",
    "Parameters\n",
    "- values = streams the full state of the graph after each node is called\n",
    "- updates = stream updates to the state of the graph after each node is called"
   ]
  },
  {
   "cell_type": "code",
   "execution_count": 39,
   "id": "e5410e4a",
   "metadata": {},
   "outputs": [
    {
     "data": {
      "image/png": "[encoded data removed]",
      "text/plain": [
       "<langgraph.graph.state.CompiledStateGraph object at 0x75a9fc93b260>"
      ]
     },
     "execution_count": 39,
     "metadata": {},
     "output_type": "execute_result"
    }
   ],
   "source": [
    "# memory\n",
    "memory = MemorySaver()\n",
    "\n",
    "# node\n",
    "def superbot(state: State):\n",
    "    return {'messages': [llm.invoke(state['messages'])]}\n",
    "\n",
    "# building graph\n",
    "builder = StateGraph(State)\n",
    "\n",
    "# adding node\n",
    "builder.add_node(\"superbot\", superbot)\n",
    "\n",
    "# adding edge\n",
    "builder.add_edge(START, \"superbot\")\n",
    "builder.add_edge(\"superbot\", END)\n",
    "\n",
    "# compile\n",
    "graph = builder.compile(checkpointer = memory)\n",
    "\n",
    "# display\n",
    "graph"
   ]
  },
  {
   "cell_type": "code",
   "execution_count": 40,
   "id": "4fe35cde",
   "metadata": {},
   "outputs": [
    {
     "data": {
      "text/plain": [
       "{'messages': [HumanMessage(content='i am yash and i like tech', additional_kwargs={}, response_metadata={}, id='51de91b6-0e0a-4c17-ba0b-6b13a44f8002'),\n",
       "  AIMessage(content=\"Nice to meet you, Yash! It's great to hear that you're interested in tech! What aspect of tech are you most passionate about? Are you into coding, AI, cybersecurity, or something else?\", additional_kwargs={}, response_metadata={'token_usage': {'completion_tokens': 44, 'prompt_tokens': 18, 'total_tokens': 62, 'completion_time': 0.064452402, 'prompt_time': 0.005750734, 'queue_time': 0.311147355, 'total_time': 0.070203136}, 'model_name': 'llama3-8b-8192', 'system_fingerprint': 'fp_8b7c3a83f7', 'finish_reason': 'stop', 'logprobs': None}, id='run--f8f984df-68ea-4419-836b-53f12048886a-0', usage_metadata={'input_tokens': 18, 'output_tokens': 44, 'total_tokens': 62})]}"
      ]
     },
     "execution_count": 40,
     "metadata": {},
     "output_type": "execute_result"
    }
   ],
   "source": [
    "# creating thread\n",
    "config = {'configurable': {'thread_id': '1'}}\n",
    "\n",
    "graph.invoke({'messages': 'i am yash and i like tech'}, config=config)"
   ]
  },
  {
   "cell_type": "code",
   "execution_count": 41,
   "id": "2ec15c61",
   "metadata": {},
   "outputs": [
    {
     "name": "stdout",
     "output_type": "stream",
     "text": [
      "{'superbot': {'messages': [AIMessage(content=\"Hi Yash! It's great to meet you! It's awesome that you like tech! What kind of tech are you into? Are you more into coding, gadgets, artificial intelligence, or something else?\", additional_kwargs={}, response_metadata={'token_usage': {'completion_tokens': 43, 'prompt_tokens': 20, 'total_tokens': 63, 'completion_time': 0.061955843, 'prompt_time': 0.003894471, 'queue_time': 0.280711018, 'total_time': 0.065850314}, 'model_name': 'llama3-8b-8192', 'system_fingerprint': 'fp_8dc6ecaf8e', 'finish_reason': 'stop', 'logprobs': None}, id='run--0ba6787f-4cf4-4652-83b8-27c11476e06c-0', usage_metadata={'input_tokens': 20, 'output_tokens': 43, 'total_tokens': 63})]}}\n"
     ]
    }
   ],
   "source": [
    "# creating thread\n",
    "config = {'configurable': {'thread_id': '2'}}\n",
    "\n",
    "for chunk in graph.stream({'messages': 'hi, i am yash and i like tech'}, config=config, stream_mode = \"updates\"):\n",
    "    print(chunk)"
   ]
  },
  {
   "cell_type": "markdown",
   "id": "13b6a7d5",
   "metadata": {},
   "source": [
    "Above: only last message will be display for the above one, that is AI message (no human message) in above. only output will be display\n",
    "\n",
    "Below: all the messages will be displayed, human and AI. ALl the conversation is getting updated. Everythin will be display"
   ]
  },
  {
   "cell_type": "code",
   "execution_count": 42,
   "id": "fd63f291",
   "metadata": {},
   "outputs": [
    {
     "name": "stdout",
     "output_type": "stream",
     "text": [
      "{'messages': [HumanMessage(content='hi, i am yash and i like tech', additional_kwargs={}, response_metadata={}, id='87f44413-4085-48fd-8bce-38251b82c49e'), AIMessage(content=\"Hi Yash! It's great to meet you! It's awesome that you like tech! What kind of tech are you into? Are you more into coding, gadgets, artificial intelligence, or something else?\", additional_kwargs={}, response_metadata={'token_usage': {'completion_tokens': 43, 'prompt_tokens': 20, 'total_tokens': 63, 'completion_time': 0.061955843, 'prompt_time': 0.003894471, 'queue_time': 0.280711018, 'total_time': 0.065850314}, 'model_name': 'llama3-8b-8192', 'system_fingerprint': 'fp_8dc6ecaf8e', 'finish_reason': 'stop', 'logprobs': None}, id='run--0ba6787f-4cf4-4652-83b8-27c11476e06c-0', usage_metadata={'input_tokens': 20, 'output_tokens': 43, 'total_tokens': 63}), HumanMessage(content='hi, i am yash and i like tech', additional_kwargs={}, response_metadata={}, id='bd084e97-4c2c-491c-bd4f-146a82632b2b')]}\n",
      "{'messages': [HumanMessage(content='hi, i am yash and i like tech', additional_kwargs={}, response_metadata={}, id='87f44413-4085-48fd-8bce-38251b82c49e'), AIMessage(content=\"Hi Yash! It's great to meet you! It's awesome that you like tech! What kind of tech are you into? Are you more into coding, gadgets, artificial intelligence, or something else?\", additional_kwargs={}, response_metadata={'token_usage': {'completion_tokens': 43, 'prompt_tokens': 20, 'total_tokens': 63, 'completion_time': 0.061955843, 'prompt_time': 0.003894471, 'queue_time': 0.280711018, 'total_time': 0.065850314}, 'model_name': 'llama3-8b-8192', 'system_fingerprint': 'fp_8dc6ecaf8e', 'finish_reason': 'stop', 'logprobs': None}, id='run--0ba6787f-4cf4-4652-83b8-27c11476e06c-0', usage_metadata={'input_tokens': 20, 'output_tokens': 43, 'total_tokens': 63}), HumanMessage(content='hi, i am yash and i like tech', additional_kwargs={}, response_metadata={}, id='bd084e97-4c2c-491c-bd4f-146a82632b2b'), AIMessage(content=\"Hi Yash! It's great to meet you! It's awesome that you like tech! What kind of tech are you into? Are you more into coding, gadgets, artificial intelligence, or something else?\", additional_kwargs={}, response_metadata={'token_usage': {'completion_tokens': 43, 'prompt_tokens': 82, 'total_tokens': 125, 'completion_time': 0.061102682, 'prompt_time': 0.010695219, 'queue_time': 0.3116566, 'total_time': 0.071797901}, 'model_name': 'llama3-8b-8192', 'system_fingerprint': 'fp_6d1c2b0784', 'finish_reason': 'stop', 'logprobs': None}, id='run--7caa55ec-dcef-4546-97be-d104e65c7987-0', usage_metadata={'input_tokens': 82, 'output_tokens': 43, 'total_tokens': 125})]}\n"
     ]
    }
   ],
   "source": [
    "for chunk in graph.stream({'messages': 'hi, i am yash and i like tech'}, config=config, stream_mode = \"values\"):\n",
    "    print(chunk)"
   ]
  },
  {
   "cell_type": "code",
   "execution_count": 43,
   "id": "f7f6c057",
   "metadata": {},
   "outputs": [
    {
     "name": "stdout",
     "output_type": "stream",
     "text": [
      "{'superbot': {'messages': [AIMessage(content=\"Hi Yash! Nice to meet you! It's great to hear that you're interested in tech! What specifically do you like about tech? Are you into programming, gadgets, artificial intelligence, or something else?\", additional_kwargs={}, response_metadata={'token_usage': {'completion_tokens': 44, 'prompt_tokens': 20, 'total_tokens': 64, 'completion_time': 0.062388617, 'prompt_time': 0.004432342, 'queue_time': 0.31260981600000004, 'total_time': 0.066820959}, 'model_name': 'llama3-8b-8192', 'system_fingerprint': 'fp_8b7c3a83f7', 'finish_reason': 'stop', 'logprobs': None}, id='run--c0b5d308-dbb1-4389-8ff9-3f8f17247b06-0', usage_metadata={'input_tokens': 20, 'output_tokens': 44, 'total_tokens': 64})]}}\n"
     ]
    }
   ],
   "source": [
    "# creating thread\n",
    "config = {'configurable': {'thread_id': '3'}}\n",
    "\n",
    "for chunk in graph.stream({'messages': 'hi, i am yash and i like tech'}, config=config, stream_mode = \"updates\"):\n",
    "    print(chunk)"
   ]
  },
  {
   "cell_type": "code",
   "execution_count": 44,
   "id": "04bb6bd2",
   "metadata": {},
   "outputs": [
    {
     "name": "stdout",
     "output_type": "stream",
     "text": [
      "{'messages': [HumanMessage(content='hi, i am yash and i like tech', additional_kwargs={}, response_metadata={}, id='2b652085-217b-41e0-a718-95e6a35e7067'), AIMessage(content=\"Hi Yash! Nice to meet you! It's great to hear that you're interested in tech! What specifically do you like about tech? Are you into programming, gadgets, artificial intelligence, or something else?\", additional_kwargs={}, response_metadata={'token_usage': {'completion_tokens': 44, 'prompt_tokens': 20, 'total_tokens': 64, 'completion_time': 0.062388617, 'prompt_time': 0.004432342, 'queue_time': 0.31260981600000004, 'total_time': 0.066820959}, 'model_name': 'llama3-8b-8192', 'system_fingerprint': 'fp_8b7c3a83f7', 'finish_reason': 'stop', 'logprobs': None}, id='run--c0b5d308-dbb1-4389-8ff9-3f8f17247b06-0', usage_metadata={'input_tokens': 20, 'output_tokens': 44, 'total_tokens': 64}), HumanMessage(content='I also like batminton', additional_kwargs={}, response_metadata={}, id='e92ebf63-fb54-440c-b31b-d49de4c77994')]}\n",
      "{'messages': [HumanMessage(content='hi, i am yash and i like tech', additional_kwargs={}, response_metadata={}, id='2b652085-217b-41e0-a718-95e6a35e7067'), AIMessage(content=\"Hi Yash! Nice to meet you! It's great to hear that you're interested in tech! What specifically do you like about tech? Are you into programming, gadgets, artificial intelligence, or something else?\", additional_kwargs={}, response_metadata={'token_usage': {'completion_tokens': 44, 'prompt_tokens': 20, 'total_tokens': 64, 'completion_time': 0.062388617, 'prompt_time': 0.004432342, 'queue_time': 0.31260981600000004, 'total_time': 0.066820959}, 'model_name': 'llama3-8b-8192', 'system_fingerprint': 'fp_8b7c3a83f7', 'finish_reason': 'stop', 'logprobs': None}, id='run--c0b5d308-dbb1-4389-8ff9-3f8f17247b06-0', usage_metadata={'input_tokens': 20, 'output_tokens': 44, 'total_tokens': 64}), HumanMessage(content='I also like batminton', additional_kwargs={}, response_metadata={}, id='e92ebf63-fb54-440c-b31b-d49de4c77994'), AIMessage(content=\"Cool! Batminton is a great sport! I didn't expect that interest from someone who likes tech! What do you like about batminton? Is it the strategy, the physical activity, or the social aspect of playing with friends?\\n\\nAre you good at it? Do you have any favorite batminton players or teams?\", additional_kwargs={}, response_metadata={'token_usage': {'completion_tokens': 68, 'prompt_tokens': 79, 'total_tokens': 147, 'completion_time': 0.09844801, 'prompt_time': 0.011528613, 'queue_time': 0.31214960599999997, 'total_time': 0.109976623}, 'model_name': 'llama3-8b-8192', 'system_fingerprint': 'fp_6d1c2b0784', 'finish_reason': 'stop', 'logprobs': None}, id='run--3c78215c-871e-4449-9255-f69d80f31cc9-0', usage_metadata={'input_tokens': 79, 'output_tokens': 68, 'total_tokens': 147})]}\n"
     ]
    }
   ],
   "source": [
    "for chunk in graph.stream({'messages': 'I also like batminton'}, config=config, stream_mode = \"values\"):\n",
    "    print(chunk)"
   ]
  },
  {
   "cell_type": "code",
   "execution_count": 45,
   "id": "b264e788",
   "metadata": {},
   "outputs": [
    {
     "name": "stdout",
     "output_type": "stream",
     "text": [
      "{'superbot': {'messages': [AIMessage(content=\"Hi Yash! Nice to meet you! It's great to hear that you're interested in tech. What kind of tech are you into? Are you more into coding, gadgets, AI, or something else?\", additional_kwargs={}, response_metadata={'token_usage': {'completion_tokens': 44, 'prompt_tokens': 20, 'total_tokens': 64, 'completion_time': 0.062610357, 'prompt_time': 0.00527754, 'queue_time': 0.31075587899999996, 'total_time': 0.067887897}, 'model_name': 'llama3-8b-8192', 'system_fingerprint': 'fp_2717d04279', 'finish_reason': 'stop', 'logprobs': None}, id='run--0819d6bc-9457-45e9-a59e-193746b3dae6-0', usage_metadata={'input_tokens': 20, 'output_tokens': 44, 'total_tokens': 64})]}}\n"
     ]
    }
   ],
   "source": [
    "# creating thread\n",
    "config = {'configurable': {'thread_id': '4'}}\n",
    "\n",
    "async for chunk in graph.astream({'messages': 'hi, i am yash and i like tech'}, config=config, stream_mode = \"updates\"):\n",
    "    print(chunk)"
   ]
  },
  {
   "cell_type": "code",
   "execution_count": 46,
   "id": "2aaef10c",
   "metadata": {},
   "outputs": [
    {
     "name": "stdout",
     "output_type": "stream",
     "text": [
      "{'messages': [HumanMessage(content='hi, i am yash and i like tech', additional_kwargs={}, response_metadata={}, id='ff27b1d0-22a8-4e44-be68-005630332a9c'), AIMessage(content=\"Hi Yash! Nice to meet you! It's great to hear that you're interested in tech. What kind of tech are you into? Are you more into coding, gadgets, AI, or something else?\", additional_kwargs={}, response_metadata={'token_usage': {'completion_tokens': 44, 'prompt_tokens': 20, 'total_tokens': 64, 'completion_time': 0.062610357, 'prompt_time': 0.00527754, 'queue_time': 0.31075587899999996, 'total_time': 0.067887897}, 'model_name': 'llama3-8b-8192', 'system_fingerprint': 'fp_2717d04279', 'finish_reason': 'stop', 'logprobs': None}, id='run--0819d6bc-9457-45e9-a59e-193746b3dae6-0', usage_metadata={'input_tokens': 20, 'output_tokens': 44, 'total_tokens': 64}), HumanMessage(content='hi, i am yash and i like tech', additional_kwargs={}, response_metadata={}, id='3bb7f40d-0565-41c6-af47-9b5df78084b1')]}\n",
      "{'messages': [HumanMessage(content='hi, i am yash and i like tech', additional_kwargs={}, response_metadata={}, id='ff27b1d0-22a8-4e44-be68-005630332a9c'), AIMessage(content=\"Hi Yash! Nice to meet you! It's great to hear that you're interested in tech. What kind of tech are you into? Are you more into coding, gadgets, AI, or something else?\", additional_kwargs={}, response_metadata={'token_usage': {'completion_tokens': 44, 'prompt_tokens': 20, 'total_tokens': 64, 'completion_time': 0.062610357, 'prompt_time': 0.00527754, 'queue_time': 0.31075587899999996, 'total_time': 0.067887897}, 'model_name': 'llama3-8b-8192', 'system_fingerprint': 'fp_2717d04279', 'finish_reason': 'stop', 'logprobs': None}, id='run--0819d6bc-9457-45e9-a59e-193746b3dae6-0', usage_metadata={'input_tokens': 20, 'output_tokens': 44, 'total_tokens': 64}), HumanMessage(content='hi, i am yash and i like tech', additional_kwargs={}, response_metadata={}, id='3bb7f40d-0565-41c6-af47-9b5df78084b1'), AIMessage(content=\"Hi Yash! Nice to meet you! It's great to hear that you're interested in tech. What kind of tech are you into? Are you more into coding, gadgets, AI, or something else?\", additional_kwargs={}, response_metadata={'token_usage': {'completion_tokens': 44, 'prompt_tokens': 83, 'total_tokens': 127, 'completion_time': 0.062871206, 'prompt_time': 0.011882628, 'queue_time': 0.31088202, 'total_time': 0.074753834}, 'model_name': 'llama3-8b-8192', 'system_fingerprint': 'fp_8b7c3a83f7', 'finish_reason': 'stop', 'logprobs': None}, id='run--f2e44171-9951-4eed-a826-762e6fd06190-0', usage_metadata={'input_tokens': 83, 'output_tokens': 44, 'total_tokens': 127})]}\n"
     ]
    }
   ],
   "source": [
    "# creating thread\n",
    "config = {'configurable': {'thread_id': '4'}}\n",
    "\n",
    "async for chunk in graph.astream({'messages': 'hi, i am yash and i like tech'}, config=config, stream_mode = \"values\"):\n",
    "    print(chunk)"
   ]
  },
  {
   "cell_type": "code",
   "execution_count": 47,
   "id": "d805089d",
   "metadata": {},
   "outputs": [
    {
     "name": "stdout",
     "output_type": "stream",
     "text": [
      "{'event': 'on_chain_start', 'data': {'input': {'messages': 'hi, i am yash and i like tech'}}, 'name': 'LangGraph', 'tags': [], 'run_id': '7cad732f-72bd-46a5-9abc-123d0cdc5e61', 'metadata': {'thread_id': '5'}, 'parent_ids': []}\n",
      "{'event': 'on_chain_start', 'data': {'input': {'messages': [HumanMessage(content='hi, i am yash and i like tech', additional_kwargs={}, response_metadata={}, id='64f4a662-66bb-49af-b015-b29ad27bd369')]}}, 'name': 'superbot', 'tags': ['graph:step:1'], 'run_id': 'f23da8fa-ef04-4911-b854-bf738839c0df', 'metadata': {'thread_id': '5', 'langgraph_step': 1, 'langgraph_node': 'superbot', 'langgraph_triggers': ('branch:to:superbot',), 'langgraph_path': ('__pregel_pull', 'superbot'), 'langgraph_checkpoint_ns': 'superbot:00510f25-0924-b2dc-4255-c6b0495c9e01'}, 'parent_ids': ['7cad732f-72bd-46a5-9abc-123d0cdc5e61']}\n",
      "{'event': 'on_chat_model_start', 'data': {'input': {'messages': [[HumanMessage(content='hi, i am yash and i like tech', additional_kwargs={}, response_metadata={}, id='64f4a662-66bb-49af-b015-b29ad27bd369')]]}}, 'name': 'ChatGroq', 'tags': ['seq:step:1'], 'run_id': 'b8eae527-7774-4a3a-a05e-04ed3216855a', 'metadata': {'thread_id': '5', 'langgraph_step': 1, 'langgraph_node': 'superbot', 'langgraph_triggers': ('branch:to:superbot',), 'langgraph_path': ('__pregel_pull', 'superbot'), 'langgraph_checkpoint_ns': 'superbot:00510f25-0924-b2dc-4255-c6b0495c9e01', 'checkpoint_ns': 'superbot:00510f25-0924-b2dc-4255-c6b0495c9e01', 'ls_provider': 'groq', 'ls_model_name': 'llama3-8b-8192', 'ls_model_type': 'chat', 'ls_temperature': 0.7}, 'parent_ids': ['7cad732f-72bd-46a5-9abc-123d0cdc5e61', 'f23da8fa-ef04-4911-b854-bf738839c0df']}\n",
      "{'event': 'on_chat_model_stream', 'data': {'chunk': AIMessageChunk(content='', additional_kwargs={}, response_metadata={}, id='run--b8eae527-7774-4a3a-a05e-04ed3216855a')}, 'run_id': 'b8eae527-7774-4a3a-a05e-04ed3216855a', 'name': 'ChatGroq', 'tags': ['seq:step:1'], 'metadata': {'thread_id': '5', 'langgraph_step': 1, 'langgraph_node': 'superbot', 'langgraph_triggers': ('branch:to:superbot',), 'langgraph_path': ('__pregel_pull', 'superbot'), 'langgraph_checkpoint_ns': 'superbot:00510f25-0924-b2dc-4255-c6b0495c9e01', 'checkpoint_ns': 'superbot:00510f25-0924-b2dc-4255-c6b0495c9e01', 'ls_provider': 'groq', 'ls_model_name': 'llama3-8b-8192', 'ls_model_type': 'chat', 'ls_temperature': 0.7}, 'parent_ids': ['7cad732f-72bd-46a5-9abc-123d0cdc5e61', 'f23da8fa-ef04-4911-b854-bf738839c0df']}\n",
      "{'event': 'on_chat_model_stream', 'data': {'chunk': AIMessageChunk(content='Hi', additional_kwargs={}, response_metadata={}, id='run--b8eae527-7774-4a3a-a05e-04ed3216855a')}, 'run_id': 'b8eae527-7774-4a3a-a05e-04ed3216855a', 'name': 'ChatGroq', 'tags': ['seq:step:1'], 'metadata': {'thread_id': '5', 'langgraph_step': 1, 'langgraph_node': 'superbot', 'langgraph_triggers': ('branch:to:superbot',), 'langgraph_path': ('__pregel_pull', 'superbot'), 'langgraph_checkpoint_ns': 'superbot:00510f25-0924-b2dc-4255-c6b0495c9e01', 'checkpoint_ns': 'superbot:00510f25-0924-b2dc-4255-c6b0495c9e01', 'ls_provider': 'groq', 'ls_model_name': 'llama3-8b-8192', 'ls_model_type': 'chat', 'ls_temperature': 0.7}, 'parent_ids': ['7cad732f-72bd-46a5-9abc-123d0cdc5e61', 'f23da8fa-ef04-4911-b854-bf738839c0df']}\n",
      "{'event': 'on_chat_model_stream', 'data': {'chunk': AIMessageChunk(content=' Y', additional_kwargs={}, response_metadata={}, id='run--b8eae527-7774-4a3a-a05e-04ed3216855a')}, 'run_id': 'b8eae527-7774-4a3a-a05e-04ed3216855a', 'name': 'ChatGroq', 'tags': ['seq:step:1'], 'metadata': {'thread_id': '5', 'langgraph_step': 1, 'langgraph_node': 'superbot', 'langgraph_triggers': ('branch:to:superbot',), 'langgraph_path': ('__pregel_pull', 'superbot'), 'langgraph_checkpoint_ns': 'superbot:00510f25-0924-b2dc-4255-c6b0495c9e01', 'checkpoint_ns': 'superbot:00510f25-0924-b2dc-4255-c6b0495c9e01', 'ls_provider': 'groq', 'ls_model_name': 'llama3-8b-8192', 'ls_model_type': 'chat', 'ls_temperature': 0.7}, 'parent_ids': ['7cad732f-72bd-46a5-9abc-123d0cdc5e61', 'f23da8fa-ef04-4911-b854-bf738839c0df']}\n",
      "{'event': 'on_chat_model_stream', 'data': {'chunk': AIMessageChunk(content='ash', additional_kwargs={}, response_metadata={}, id='run--b8eae527-7774-4a3a-a05e-04ed3216855a')}, 'run_id': 'b8eae527-7774-4a3a-a05e-04ed3216855a', 'name': 'ChatGroq', 'tags': ['seq:step:1'], 'metadata': {'thread_id': '5', 'langgraph_step': 1, 'langgraph_node': 'superbot', 'langgraph_triggers': ('branch:to:superbot',), 'langgraph_path': ('__pregel_pull', 'superbot'), 'langgraph_checkpoint_ns': 'superbot:00510f25-0924-b2dc-4255-c6b0495c9e01', 'checkpoint_ns': 'superbot:00510f25-0924-b2dc-4255-c6b0495c9e01', 'ls_provider': 'groq', 'ls_model_name': 'llama3-8b-8192', 'ls_model_type': 'chat', 'ls_temperature': 0.7}, 'parent_ids': ['7cad732f-72bd-46a5-9abc-123d0cdc5e61', 'f23da8fa-ef04-4911-b854-bf738839c0df']}\n",
      "{'event': 'on_chat_model_stream', 'data': {'chunk': AIMessageChunk(content='!', additional_kwargs={}, response_metadata={}, id='run--b8eae527-7774-4a3a-a05e-04ed3216855a')}, 'run_id': 'b8eae527-7774-4a3a-a05e-04ed3216855a', 'name': 'ChatGroq', 'tags': ['seq:step:1'], 'metadata': {'thread_id': '5', 'langgraph_step': 1, 'langgraph_node': 'superbot', 'langgraph_triggers': ('branch:to:superbot',), 'langgraph_path': ('__pregel_pull', 'superbot'), 'langgraph_checkpoint_ns': 'superbot:00510f25-0924-b2dc-4255-c6b0495c9e01', 'checkpoint_ns': 'superbot:00510f25-0924-b2dc-4255-c6b0495c9e01', 'ls_provider': 'groq', 'ls_model_name': 'llama3-8b-8192', 'ls_model_type': 'chat', 'ls_temperature': 0.7}, 'parent_ids': ['7cad732f-72bd-46a5-9abc-123d0cdc5e61', 'f23da8fa-ef04-4911-b854-bf738839c0df']}\n",
      "{'event': 'on_chat_model_stream', 'data': {'chunk': AIMessageChunk(content=' Nice', additional_kwargs={}, response_metadata={}, id='run--b8eae527-7774-4a3a-a05e-04ed3216855a')}, 'run_id': 'b8eae527-7774-4a3a-a05e-04ed3216855a', 'name': 'ChatGroq', 'tags': ['seq:step:1'], 'metadata': {'thread_id': '5', 'langgraph_step': 1, 'langgraph_node': 'superbot', 'langgraph_triggers': ('branch:to:superbot',), 'langgraph_path': ('__pregel_pull', 'superbot'), 'langgraph_checkpoint_ns': 'superbot:00510f25-0924-b2dc-4255-c6b0495c9e01', 'checkpoint_ns': 'superbot:00510f25-0924-b2dc-4255-c6b0495c9e01', 'ls_provider': 'groq', 'ls_model_name': 'llama3-8b-8192', 'ls_model_type': 'chat', 'ls_temperature': 0.7}, 'parent_ids': ['7cad732f-72bd-46a5-9abc-123d0cdc5e61', 'f23da8fa-ef04-4911-b854-bf738839c0df']}\n",
      "{'event': 'on_chat_model_stream', 'data': {'chunk': AIMessageChunk(content=' to', additional_kwargs={}, response_metadata={}, id='run--b8eae527-7774-4a3a-a05e-04ed3216855a')}, 'run_id': 'b8eae527-7774-4a3a-a05e-04ed3216855a', 'name': 'ChatGroq', 'tags': ['seq:step:1'], 'metadata': {'thread_id': '5', 'langgraph_step': 1, 'langgraph_node': 'superbot', 'langgraph_triggers': ('branch:to:superbot',), 'langgraph_path': ('__pregel_pull', 'superbot'), 'langgraph_checkpoint_ns': 'superbot:00510f25-0924-b2dc-4255-c6b0495c9e01', 'checkpoint_ns': 'superbot:00510f25-0924-b2dc-4255-c6b0495c9e01', 'ls_provider': 'groq', 'ls_model_name': 'llama3-8b-8192', 'ls_model_type': 'chat', 'ls_temperature': 0.7}, 'parent_ids': ['7cad732f-72bd-46a5-9abc-123d0cdc5e61', 'f23da8fa-ef04-4911-b854-bf738839c0df']}\n",
      "{'event': 'on_chat_model_stream', 'data': {'chunk': AIMessageChunk(content=' meet', additional_kwargs={}, response_metadata={}, id='run--b8eae527-7774-4a3a-a05e-04ed3216855a')}, 'run_id': 'b8eae527-7774-4a3a-a05e-04ed3216855a', 'name': 'ChatGroq', 'tags': ['seq:step:1'], 'metadata': {'thread_id': '5', 'langgraph_step': 1, 'langgraph_node': 'superbot', 'langgraph_triggers': ('branch:to:superbot',), 'langgraph_path': ('__pregel_pull', 'superbot'), 'langgraph_checkpoint_ns': 'superbot:00510f25-0924-b2dc-4255-c6b0495c9e01', 'checkpoint_ns': 'superbot:00510f25-0924-b2dc-4255-c6b0495c9e01', 'ls_provider': 'groq', 'ls_model_name': 'llama3-8b-8192', 'ls_model_type': 'chat', 'ls_temperature': 0.7}, 'parent_ids': ['7cad732f-72bd-46a5-9abc-123d0cdc5e61', 'f23da8fa-ef04-4911-b854-bf738839c0df']}\n",
      "{'event': 'on_chat_model_stream', 'data': {'chunk': AIMessageChunk(content=' you', additional_kwargs={}, response_metadata={}, id='run--b8eae527-7774-4a3a-a05e-04ed3216855a')}, 'run_id': 'b8eae527-7774-4a3a-a05e-04ed3216855a', 'name': 'ChatGroq', 'tags': ['seq:step:1'], 'metadata': {'thread_id': '5', 'langgraph_step': 1, 'langgraph_node': 'superbot', 'langgraph_triggers': ('branch:to:superbot',), 'langgraph_path': ('__pregel_pull', 'superbot'), 'langgraph_checkpoint_ns': 'superbot:00510f25-0924-b2dc-4255-c6b0495c9e01', 'checkpoint_ns': 'superbot:00510f25-0924-b2dc-4255-c6b0495c9e01', 'ls_provider': 'groq', 'ls_model_name': 'llama3-8b-8192', 'ls_model_type': 'chat', 'ls_temperature': 0.7}, 'parent_ids': ['7cad732f-72bd-46a5-9abc-123d0cdc5e61', 'f23da8fa-ef04-4911-b854-bf738839c0df']}\n",
      "{'event': 'on_chat_model_stream', 'data': {'chunk': AIMessageChunk(content='!', additional_kwargs={}, response_metadata={}, id='run--b8eae527-7774-4a3a-a05e-04ed3216855a')}, 'run_id': 'b8eae527-7774-4a3a-a05e-04ed3216855a', 'name': 'ChatGroq', 'tags': ['seq:step:1'], 'metadata': {'thread_id': '5', 'langgraph_step': 1, 'langgraph_node': 'superbot', 'langgraph_triggers': ('branch:to:superbot',), 'langgraph_path': ('__pregel_pull', 'superbot'), 'langgraph_checkpoint_ns': 'superbot:00510f25-0924-b2dc-4255-c6b0495c9e01', 'checkpoint_ns': 'superbot:00510f25-0924-b2dc-4255-c6b0495c9e01', 'ls_provider': 'groq', 'ls_model_name': 'llama3-8b-8192', 'ls_model_type': 'chat', 'ls_temperature': 0.7}, 'parent_ids': ['7cad732f-72bd-46a5-9abc-123d0cdc5e61', 'f23da8fa-ef04-4911-b854-bf738839c0df']}\n",
      "{'event': 'on_chat_model_stream', 'data': {'chunk': AIMessageChunk(content=' It', additional_kwargs={}, response_metadata={}, id='run--b8eae527-7774-4a3a-a05e-04ed3216855a')}, 'run_id': 'b8eae527-7774-4a3a-a05e-04ed3216855a', 'name': 'ChatGroq', 'tags': ['seq:step:1'], 'metadata': {'thread_id': '5', 'langgraph_step': 1, 'langgraph_node': 'superbot', 'langgraph_triggers': ('branch:to:superbot',), 'langgraph_path': ('__pregel_pull', 'superbot'), 'langgraph_checkpoint_ns': 'superbot:00510f25-0924-b2dc-4255-c6b0495c9e01', 'checkpoint_ns': 'superbot:00510f25-0924-b2dc-4255-c6b0495c9e01', 'ls_provider': 'groq', 'ls_model_name': 'llama3-8b-8192', 'ls_model_type': 'chat', 'ls_temperature': 0.7}, 'parent_ids': ['7cad732f-72bd-46a5-9abc-123d0cdc5e61', 'f23da8fa-ef04-4911-b854-bf738839c0df']}\n",
      "{'event': 'on_chat_model_stream', 'data': {'chunk': AIMessageChunk(content=\"'s\", additional_kwargs={}, response_metadata={}, id='run--b8eae527-7774-4a3a-a05e-04ed3216855a')}, 'run_id': 'b8eae527-7774-4a3a-a05e-04ed3216855a', 'name': 'ChatGroq', 'tags': ['seq:step:1'], 'metadata': {'thread_id': '5', 'langgraph_step': 1, 'langgraph_node': 'superbot', 'langgraph_triggers': ('branch:to:superbot',), 'langgraph_path': ('__pregel_pull', 'superbot'), 'langgraph_checkpoint_ns': 'superbot:00510f25-0924-b2dc-4255-c6b0495c9e01', 'checkpoint_ns': 'superbot:00510f25-0924-b2dc-4255-c6b0495c9e01', 'ls_provider': 'groq', 'ls_model_name': 'llama3-8b-8192', 'ls_model_type': 'chat', 'ls_temperature': 0.7}, 'parent_ids': ['7cad732f-72bd-46a5-9abc-123d0cdc5e61', 'f23da8fa-ef04-4911-b854-bf738839c0df']}\n",
      "{'event': 'on_chat_model_stream', 'data': {'chunk': AIMessageChunk(content=' great', additional_kwargs={}, response_metadata={}, id='run--b8eae527-7774-4a3a-a05e-04ed3216855a')}, 'run_id': 'b8eae527-7774-4a3a-a05e-04ed3216855a', 'name': 'ChatGroq', 'tags': ['seq:step:1'], 'metadata': {'thread_id': '5', 'langgraph_step': 1, 'langgraph_node': 'superbot', 'langgraph_triggers': ('branch:to:superbot',), 'langgraph_path': ('__pregel_pull', 'superbot'), 'langgraph_checkpoint_ns': 'superbot:00510f25-0924-b2dc-4255-c6b0495c9e01', 'checkpoint_ns': 'superbot:00510f25-0924-b2dc-4255-c6b0495c9e01', 'ls_provider': 'groq', 'ls_model_name': 'llama3-8b-8192', 'ls_model_type': 'chat', 'ls_temperature': 0.7}, 'parent_ids': ['7cad732f-72bd-46a5-9abc-123d0cdc5e61', 'f23da8fa-ef04-4911-b854-bf738839c0df']}\n",
      "{'event': 'on_chat_model_stream', 'data': {'chunk': AIMessageChunk(content=' to', additional_kwargs={}, response_metadata={}, id='run--b8eae527-7774-4a3a-a05e-04ed3216855a')}, 'run_id': 'b8eae527-7774-4a3a-a05e-04ed3216855a', 'name': 'ChatGroq', 'tags': ['seq:step:1'], 'metadata': {'thread_id': '5', 'langgraph_step': 1, 'langgraph_node': 'superbot', 'langgraph_triggers': ('branch:to:superbot',), 'langgraph_path': ('__pregel_pull', 'superbot'), 'langgraph_checkpoint_ns': 'superbot:00510f25-0924-b2dc-4255-c6b0495c9e01', 'checkpoint_ns': 'superbot:00510f25-0924-b2dc-4255-c6b0495c9e01', 'ls_provider': 'groq', 'ls_model_name': 'llama3-8b-8192', 'ls_model_type': 'chat', 'ls_temperature': 0.7}, 'parent_ids': ['7cad732f-72bd-46a5-9abc-123d0cdc5e61', 'f23da8fa-ef04-4911-b854-bf738839c0df']}\n",
      "{'event': 'on_chat_model_stream', 'data': {'chunk': AIMessageChunk(content=' hear', additional_kwargs={}, response_metadata={}, id='run--b8eae527-7774-4a3a-a05e-04ed3216855a')}, 'run_id': 'b8eae527-7774-4a3a-a05e-04ed3216855a', 'name': 'ChatGroq', 'tags': ['seq:step:1'], 'metadata': {'thread_id': '5', 'langgraph_step': 1, 'langgraph_node': 'superbot', 'langgraph_triggers': ('branch:to:superbot',), 'langgraph_path': ('__pregel_pull', 'superbot'), 'langgraph_checkpoint_ns': 'superbot:00510f25-0924-b2dc-4255-c6b0495c9e01', 'checkpoint_ns': 'superbot:00510f25-0924-b2dc-4255-c6b0495c9e01', 'ls_provider': 'groq', 'ls_model_name': 'llama3-8b-8192', 'ls_model_type': 'chat', 'ls_temperature': 0.7}, 'parent_ids': ['7cad732f-72bd-46a5-9abc-123d0cdc5e61', 'f23da8fa-ef04-4911-b854-bf738839c0df']}\n",
      "{'event': 'on_chat_model_stream', 'data': {'chunk': AIMessageChunk(content=' that', additional_kwargs={}, response_metadata={}, id='run--b8eae527-7774-4a3a-a05e-04ed3216855a')}, 'run_id': 'b8eae527-7774-4a3a-a05e-04ed3216855a', 'name': 'ChatGroq', 'tags': ['seq:step:1'], 'metadata': {'thread_id': '5', 'langgraph_step': 1, 'langgraph_node': 'superbot', 'langgraph_triggers': ('branch:to:superbot',), 'langgraph_path': ('__pregel_pull', 'superbot'), 'langgraph_checkpoint_ns': 'superbot:00510f25-0924-b2dc-4255-c6b0495c9e01', 'checkpoint_ns': 'superbot:00510f25-0924-b2dc-4255-c6b0495c9e01', 'ls_provider': 'groq', 'ls_model_name': 'llama3-8b-8192', 'ls_model_type': 'chat', 'ls_temperature': 0.7}, 'parent_ids': ['7cad732f-72bd-46a5-9abc-123d0cdc5e61', 'f23da8fa-ef04-4911-b854-bf738839c0df']}\n",
      "{'event': 'on_chat_model_stream', 'data': {'chunk': AIMessageChunk(content=' you', additional_kwargs={}, response_metadata={}, id='run--b8eae527-7774-4a3a-a05e-04ed3216855a')}, 'run_id': 'b8eae527-7774-4a3a-a05e-04ed3216855a', 'name': 'ChatGroq', 'tags': ['seq:step:1'], 'metadata': {'thread_id': '5', 'langgraph_step': 1, 'langgraph_node': 'superbot', 'langgraph_triggers': ('branch:to:superbot',), 'langgraph_path': ('__pregel_pull', 'superbot'), 'langgraph_checkpoint_ns': 'superbot:00510f25-0924-b2dc-4255-c6b0495c9e01', 'checkpoint_ns': 'superbot:00510f25-0924-b2dc-4255-c6b0495c9e01', 'ls_provider': 'groq', 'ls_model_name': 'llama3-8b-8192', 'ls_model_type': 'chat', 'ls_temperature': 0.7}, 'parent_ids': ['7cad732f-72bd-46a5-9abc-123d0cdc5e61', 'f23da8fa-ef04-4911-b854-bf738839c0df']}\n",
      "{'event': 'on_chat_model_stream', 'data': {'chunk': AIMessageChunk(content=\"'re\", additional_kwargs={}, response_metadata={}, id='run--b8eae527-7774-4a3a-a05e-04ed3216855a')}, 'run_id': 'b8eae527-7774-4a3a-a05e-04ed3216855a', 'name': 'ChatGroq', 'tags': ['seq:step:1'], 'metadata': {'thread_id': '5', 'langgraph_step': 1, 'langgraph_node': 'superbot', 'langgraph_triggers': ('branch:to:superbot',), 'langgraph_path': ('__pregel_pull', 'superbot'), 'langgraph_checkpoint_ns': 'superbot:00510f25-0924-b2dc-4255-c6b0495c9e01', 'checkpoint_ns': 'superbot:00510f25-0924-b2dc-4255-c6b0495c9e01', 'ls_provider': 'groq', 'ls_model_name': 'llama3-8b-8192', 'ls_model_type': 'chat', 'ls_temperature': 0.7}, 'parent_ids': ['7cad732f-72bd-46a5-9abc-123d0cdc5e61', 'f23da8fa-ef04-4911-b854-bf738839c0df']}\n",
      "{'event': 'on_chat_model_stream', 'data': {'chunk': AIMessageChunk(content=' interested', additional_kwargs={}, response_metadata={}, id='run--b8eae527-7774-4a3a-a05e-04ed3216855a')}, 'run_id': 'b8eae527-7774-4a3a-a05e-04ed3216855a', 'name': 'ChatGroq', 'tags': ['seq:step:1'], 'metadata': {'thread_id': '5', 'langgraph_step': 1, 'langgraph_node': 'superbot', 'langgraph_triggers': ('branch:to:superbot',), 'langgraph_path': ('__pregel_pull', 'superbot'), 'langgraph_checkpoint_ns': 'superbot:00510f25-0924-b2dc-4255-c6b0495c9e01', 'checkpoint_ns': 'superbot:00510f25-0924-b2dc-4255-c6b0495c9e01', 'ls_provider': 'groq', 'ls_model_name': 'llama3-8b-8192', 'ls_model_type': 'chat', 'ls_temperature': 0.7}, 'parent_ids': ['7cad732f-72bd-46a5-9abc-123d0cdc5e61', 'f23da8fa-ef04-4911-b854-bf738839c0df']}\n",
      "{'event': 'on_chat_model_stream', 'data': {'chunk': AIMessageChunk(content=' in', additional_kwargs={}, response_metadata={}, id='run--b8eae527-7774-4a3a-a05e-04ed3216855a')}, 'run_id': 'b8eae527-7774-4a3a-a05e-04ed3216855a', 'name': 'ChatGroq', 'tags': ['seq:step:1'], 'metadata': {'thread_id': '5', 'langgraph_step': 1, 'langgraph_node': 'superbot', 'langgraph_triggers': ('branch:to:superbot',), 'langgraph_path': ('__pregel_pull', 'superbot'), 'langgraph_checkpoint_ns': 'superbot:00510f25-0924-b2dc-4255-c6b0495c9e01', 'checkpoint_ns': 'superbot:00510f25-0924-b2dc-4255-c6b0495c9e01', 'ls_provider': 'groq', 'ls_model_name': 'llama3-8b-8192', 'ls_model_type': 'chat', 'ls_temperature': 0.7}, 'parent_ids': ['7cad732f-72bd-46a5-9abc-123d0cdc5e61', 'f23da8fa-ef04-4911-b854-bf738839c0df']}\n",
      "{'event': 'on_chat_model_stream', 'data': {'chunk': AIMessageChunk(content=' tech', additional_kwargs={}, response_metadata={}, id='run--b8eae527-7774-4a3a-a05e-04ed3216855a')}, 'run_id': 'b8eae527-7774-4a3a-a05e-04ed3216855a', 'name': 'ChatGroq', 'tags': ['seq:step:1'], 'metadata': {'thread_id': '5', 'langgraph_step': 1, 'langgraph_node': 'superbot', 'langgraph_triggers': ('branch:to:superbot',), 'langgraph_path': ('__pregel_pull', 'superbot'), 'langgraph_checkpoint_ns': 'superbot:00510f25-0924-b2dc-4255-c6b0495c9e01', 'checkpoint_ns': 'superbot:00510f25-0924-b2dc-4255-c6b0495c9e01', 'ls_provider': 'groq', 'ls_model_name': 'llama3-8b-8192', 'ls_model_type': 'chat', 'ls_temperature': 0.7}, 'parent_ids': ['7cad732f-72bd-46a5-9abc-123d0cdc5e61', 'f23da8fa-ef04-4911-b854-bf738839c0df']}\n",
      "{'event': 'on_chat_model_stream', 'data': {'chunk': AIMessageChunk(content='.', additional_kwargs={}, response_metadata={}, id='run--b8eae527-7774-4a3a-a05e-04ed3216855a')}, 'run_id': 'b8eae527-7774-4a3a-a05e-04ed3216855a', 'name': 'ChatGroq', 'tags': ['seq:step:1'], 'metadata': {'thread_id': '5', 'langgraph_step': 1, 'langgraph_node': 'superbot', 'langgraph_triggers': ('branch:to:superbot',), 'langgraph_path': ('__pregel_pull', 'superbot'), 'langgraph_checkpoint_ns': 'superbot:00510f25-0924-b2dc-4255-c6b0495c9e01', 'checkpoint_ns': 'superbot:00510f25-0924-b2dc-4255-c6b0495c9e01', 'ls_provider': 'groq', 'ls_model_name': 'llama3-8b-8192', 'ls_model_type': 'chat', 'ls_temperature': 0.7}, 'parent_ids': ['7cad732f-72bd-46a5-9abc-123d0cdc5e61', 'f23da8fa-ef04-4911-b854-bf738839c0df']}\n",
      "{'event': 'on_chat_model_stream', 'data': {'chunk': AIMessageChunk(content=' What', additional_kwargs={}, response_metadata={}, id='run--b8eae527-7774-4a3a-a05e-04ed3216855a')}, 'run_id': 'b8eae527-7774-4a3a-a05e-04ed3216855a', 'name': 'ChatGroq', 'tags': ['seq:step:1'], 'metadata': {'thread_id': '5', 'langgraph_step': 1, 'langgraph_node': 'superbot', 'langgraph_triggers': ('branch:to:superbot',), 'langgraph_path': ('__pregel_pull', 'superbot'), 'langgraph_checkpoint_ns': 'superbot:00510f25-0924-b2dc-4255-c6b0495c9e01', 'checkpoint_ns': 'superbot:00510f25-0924-b2dc-4255-c6b0495c9e01', 'ls_provider': 'groq', 'ls_model_name': 'llama3-8b-8192', 'ls_model_type': 'chat', 'ls_temperature': 0.7}, 'parent_ids': ['7cad732f-72bd-46a5-9abc-123d0cdc5e61', 'f23da8fa-ef04-4911-b854-bf738839c0df']}\n",
      "{'event': 'on_chat_model_stream', 'data': {'chunk': AIMessageChunk(content=' aspect', additional_kwargs={}, response_metadata={}, id='run--b8eae527-7774-4a3a-a05e-04ed3216855a')}, 'run_id': 'b8eae527-7774-4a3a-a05e-04ed3216855a', 'name': 'ChatGroq', 'tags': ['seq:step:1'], 'metadata': {'thread_id': '5', 'langgraph_step': 1, 'langgraph_node': 'superbot', 'langgraph_triggers': ('branch:to:superbot',), 'langgraph_path': ('__pregel_pull', 'superbot'), 'langgraph_checkpoint_ns': 'superbot:00510f25-0924-b2dc-4255-c6b0495c9e01', 'checkpoint_ns': 'superbot:00510f25-0924-b2dc-4255-c6b0495c9e01', 'ls_provider': 'groq', 'ls_model_name': 'llama3-8b-8192', 'ls_model_type': 'chat', 'ls_temperature': 0.7}, 'parent_ids': ['7cad732f-72bd-46a5-9abc-123d0cdc5e61', 'f23da8fa-ef04-4911-b854-bf738839c0df']}\n",
      "{'event': 'on_chat_model_stream', 'data': {'chunk': AIMessageChunk(content=' of', additional_kwargs={}, response_metadata={}, id='run--b8eae527-7774-4a3a-a05e-04ed3216855a')}, 'run_id': 'b8eae527-7774-4a3a-a05e-04ed3216855a', 'name': 'ChatGroq', 'tags': ['seq:step:1'], 'metadata': {'thread_id': '5', 'langgraph_step': 1, 'langgraph_node': 'superbot', 'langgraph_triggers': ('branch:to:superbot',), 'langgraph_path': ('__pregel_pull', 'superbot'), 'langgraph_checkpoint_ns': 'superbot:00510f25-0924-b2dc-4255-c6b0495c9e01', 'checkpoint_ns': 'superbot:00510f25-0924-b2dc-4255-c6b0495c9e01', 'ls_provider': 'groq', 'ls_model_name': 'llama3-8b-8192', 'ls_model_type': 'chat', 'ls_temperature': 0.7}, 'parent_ids': ['7cad732f-72bd-46a5-9abc-123d0cdc5e61', 'f23da8fa-ef04-4911-b854-bf738839c0df']}\n",
      "{'event': 'on_chat_model_stream', 'data': {'chunk': AIMessageChunk(content=' tech', additional_kwargs={}, response_metadata={}, id='run--b8eae527-7774-4a3a-a05e-04ed3216855a')}, 'run_id': 'b8eae527-7774-4a3a-a05e-04ed3216855a', 'name': 'ChatGroq', 'tags': ['seq:step:1'], 'metadata': {'thread_id': '5', 'langgraph_step': 1, 'langgraph_node': 'superbot', 'langgraph_triggers': ('branch:to:superbot',), 'langgraph_path': ('__pregel_pull', 'superbot'), 'langgraph_checkpoint_ns': 'superbot:00510f25-0924-b2dc-4255-c6b0495c9e01', 'checkpoint_ns': 'superbot:00510f25-0924-b2dc-4255-c6b0495c9e01', 'ls_provider': 'groq', 'ls_model_name': 'llama3-8b-8192', 'ls_model_type': 'chat', 'ls_temperature': 0.7}, 'parent_ids': ['7cad732f-72bd-46a5-9abc-123d0cdc5e61', 'f23da8fa-ef04-4911-b854-bf738839c0df']}\n",
      "{'event': 'on_chat_model_stream', 'data': {'chunk': AIMessageChunk(content=' do', additional_kwargs={}, response_metadata={}, id='run--b8eae527-7774-4a3a-a05e-04ed3216855a')}, 'run_id': 'b8eae527-7774-4a3a-a05e-04ed3216855a', 'name': 'ChatGroq', 'tags': ['seq:step:1'], 'metadata': {'thread_id': '5', 'langgraph_step': 1, 'langgraph_node': 'superbot', 'langgraph_triggers': ('branch:to:superbot',), 'langgraph_path': ('__pregel_pull', 'superbot'), 'langgraph_checkpoint_ns': 'superbot:00510f25-0924-b2dc-4255-c6b0495c9e01', 'checkpoint_ns': 'superbot:00510f25-0924-b2dc-4255-c6b0495c9e01', 'ls_provider': 'groq', 'ls_model_name': 'llama3-8b-8192', 'ls_model_type': 'chat', 'ls_temperature': 0.7}, 'parent_ids': ['7cad732f-72bd-46a5-9abc-123d0cdc5e61', 'f23da8fa-ef04-4911-b854-bf738839c0df']}\n",
      "{'event': 'on_chat_model_stream', 'data': {'chunk': AIMessageChunk(content=' you', additional_kwargs={}, response_metadata={}, id='run--b8eae527-7774-4a3a-a05e-04ed3216855a')}, 'run_id': 'b8eae527-7774-4a3a-a05e-04ed3216855a', 'name': 'ChatGroq', 'tags': ['seq:step:1'], 'metadata': {'thread_id': '5', 'langgraph_step': 1, 'langgraph_node': 'superbot', 'langgraph_triggers': ('branch:to:superbot',), 'langgraph_path': ('__pregel_pull', 'superbot'), 'langgraph_checkpoint_ns': 'superbot:00510f25-0924-b2dc-4255-c6b0495c9e01', 'checkpoint_ns': 'superbot:00510f25-0924-b2dc-4255-c6b0495c9e01', 'ls_provider': 'groq', 'ls_model_name': 'llama3-8b-8192', 'ls_model_type': 'chat', 'ls_temperature': 0.7}, 'parent_ids': ['7cad732f-72bd-46a5-9abc-123d0cdc5e61', 'f23da8fa-ef04-4911-b854-bf738839c0df']}\n",
      "{'event': 'on_chat_model_stream', 'data': {'chunk': AIMessageChunk(content=' enjoy', additional_kwargs={}, response_metadata={}, id='run--b8eae527-7774-4a3a-a05e-04ed3216855a')}, 'run_id': 'b8eae527-7774-4a3a-a05e-04ed3216855a', 'name': 'ChatGroq', 'tags': ['seq:step:1'], 'metadata': {'thread_id': '5', 'langgraph_step': 1, 'langgraph_node': 'superbot', 'langgraph_triggers': ('branch:to:superbot',), 'langgraph_path': ('__pregel_pull', 'superbot'), 'langgraph_checkpoint_ns': 'superbot:00510f25-0924-b2dc-4255-c6b0495c9e01', 'checkpoint_ns': 'superbot:00510f25-0924-b2dc-4255-c6b0495c9e01', 'ls_provider': 'groq', 'ls_model_name': 'llama3-8b-8192', 'ls_model_type': 'chat', 'ls_temperature': 0.7}, 'parent_ids': ['7cad732f-72bd-46a5-9abc-123d0cdc5e61', 'f23da8fa-ef04-4911-b854-bf738839c0df']}\n",
      "{'event': 'on_chat_model_stream', 'data': {'chunk': AIMessageChunk(content=' the', additional_kwargs={}, response_metadata={}, id='run--b8eae527-7774-4a3a-a05e-04ed3216855a')}, 'run_id': 'b8eae527-7774-4a3a-a05e-04ed3216855a', 'name': 'ChatGroq', 'tags': ['seq:step:1'], 'metadata': {'thread_id': '5', 'langgraph_step': 1, 'langgraph_node': 'superbot', 'langgraph_triggers': ('branch:to:superbot',), 'langgraph_path': ('__pregel_pull', 'superbot'), 'langgraph_checkpoint_ns': 'superbot:00510f25-0924-b2dc-4255-c6b0495c9e01', 'checkpoint_ns': 'superbot:00510f25-0924-b2dc-4255-c6b0495c9e01', 'ls_provider': 'groq', 'ls_model_name': 'llama3-8b-8192', 'ls_model_type': 'chat', 'ls_temperature': 0.7}, 'parent_ids': ['7cad732f-72bd-46a5-9abc-123d0cdc5e61', 'f23da8fa-ef04-4911-b854-bf738839c0df']}\n",
      "{'event': 'on_chat_model_stream', 'data': {'chunk': AIMessageChunk(content=' most', additional_kwargs={}, response_metadata={}, id='run--b8eae527-7774-4a3a-a05e-04ed3216855a')}, 'run_id': 'b8eae527-7774-4a3a-a05e-04ed3216855a', 'name': 'ChatGroq', 'tags': ['seq:step:1'], 'metadata': {'thread_id': '5', 'langgraph_step': 1, 'langgraph_node': 'superbot', 'langgraph_triggers': ('branch:to:superbot',), 'langgraph_path': ('__pregel_pull', 'superbot'), 'langgraph_checkpoint_ns': 'superbot:00510f25-0924-b2dc-4255-c6b0495c9e01', 'checkpoint_ns': 'superbot:00510f25-0924-b2dc-4255-c6b0495c9e01', 'ls_provider': 'groq', 'ls_model_name': 'llama3-8b-8192', 'ls_model_type': 'chat', 'ls_temperature': 0.7}, 'parent_ids': ['7cad732f-72bd-46a5-9abc-123d0cdc5e61', 'f23da8fa-ef04-4911-b854-bf738839c0df']}\n",
      "{'event': 'on_chat_model_stream', 'data': {'chunk': AIMessageChunk(content='?', additional_kwargs={}, response_metadata={}, id='run--b8eae527-7774-4a3a-a05e-04ed3216855a')}, 'run_id': 'b8eae527-7774-4a3a-a05e-04ed3216855a', 'name': 'ChatGroq', 'tags': ['seq:step:1'], 'metadata': {'thread_id': '5', 'langgraph_step': 1, 'langgraph_node': 'superbot', 'langgraph_triggers': ('branch:to:superbot',), 'langgraph_path': ('__pregel_pull', 'superbot'), 'langgraph_checkpoint_ns': 'superbot:00510f25-0924-b2dc-4255-c6b0495c9e01', 'checkpoint_ns': 'superbot:00510f25-0924-b2dc-4255-c6b0495c9e01', 'ls_provider': 'groq', 'ls_model_name': 'llama3-8b-8192', 'ls_model_type': 'chat', 'ls_temperature': 0.7}, 'parent_ids': ['7cad732f-72bd-46a5-9abc-123d0cdc5e61', 'f23da8fa-ef04-4911-b854-bf738839c0df']}\n",
      "{'event': 'on_chat_model_stream', 'data': {'chunk': AIMessageChunk(content=' Are', additional_kwargs={}, response_metadata={}, id='run--b8eae527-7774-4a3a-a05e-04ed3216855a')}, 'run_id': 'b8eae527-7774-4a3a-a05e-04ed3216855a', 'name': 'ChatGroq', 'tags': ['seq:step:1'], 'metadata': {'thread_id': '5', 'langgraph_step': 1, 'langgraph_node': 'superbot', 'langgraph_triggers': ('branch:to:superbot',), 'langgraph_path': ('__pregel_pull', 'superbot'), 'langgraph_checkpoint_ns': 'superbot:00510f25-0924-b2dc-4255-c6b0495c9e01', 'checkpoint_ns': 'superbot:00510f25-0924-b2dc-4255-c6b0495c9e01', 'ls_provider': 'groq', 'ls_model_name': 'llama3-8b-8192', 'ls_model_type': 'chat', 'ls_temperature': 0.7}, 'parent_ids': ['7cad732f-72bd-46a5-9abc-123d0cdc5e61', 'f23da8fa-ef04-4911-b854-bf738839c0df']}\n",
      "{'event': 'on_chat_model_stream', 'data': {'chunk': AIMessageChunk(content=' you', additional_kwargs={}, response_metadata={}, id='run--b8eae527-7774-4a3a-a05e-04ed3216855a')}, 'run_id': 'b8eae527-7774-4a3a-a05e-04ed3216855a', 'name': 'ChatGroq', 'tags': ['seq:step:1'], 'metadata': {'thread_id': '5', 'langgraph_step': 1, 'langgraph_node': 'superbot', 'langgraph_triggers': ('branch:to:superbot',), 'langgraph_path': ('__pregel_pull', 'superbot'), 'langgraph_checkpoint_ns': 'superbot:00510f25-0924-b2dc-4255-c6b0495c9e01', 'checkpoint_ns': 'superbot:00510f25-0924-b2dc-4255-c6b0495c9e01', 'ls_provider': 'groq', 'ls_model_name': 'llama3-8b-8192', 'ls_model_type': 'chat', 'ls_temperature': 0.7}, 'parent_ids': ['7cad732f-72bd-46a5-9abc-123d0cdc5e61', 'f23da8fa-ef04-4911-b854-bf738839c0df']}\n",
      "{'event': 'on_chat_model_stream', 'data': {'chunk': AIMessageChunk(content=' into', additional_kwargs={}, response_metadata={}, id='run--b8eae527-7774-4a3a-a05e-04ed3216855a')}, 'run_id': 'b8eae527-7774-4a3a-a05e-04ed3216855a', 'name': 'ChatGroq', 'tags': ['seq:step:1'], 'metadata': {'thread_id': '5', 'langgraph_step': 1, 'langgraph_node': 'superbot', 'langgraph_triggers': ('branch:to:superbot',), 'langgraph_path': ('__pregel_pull', 'superbot'), 'langgraph_checkpoint_ns': 'superbot:00510f25-0924-b2dc-4255-c6b0495c9e01', 'checkpoint_ns': 'superbot:00510f25-0924-b2dc-4255-c6b0495c9e01', 'ls_provider': 'groq', 'ls_model_name': 'llama3-8b-8192', 'ls_model_type': 'chat', 'ls_temperature': 0.7}, 'parent_ids': ['7cad732f-72bd-46a5-9abc-123d0cdc5e61', 'f23da8fa-ef04-4911-b854-bf738839c0df']}\n",
      "{'event': 'on_chat_model_stream', 'data': {'chunk': AIMessageChunk(content=' programming', additional_kwargs={}, response_metadata={}, id='run--b8eae527-7774-4a3a-a05e-04ed3216855a')}, 'run_id': 'b8eae527-7774-4a3a-a05e-04ed3216855a', 'name': 'ChatGroq', 'tags': ['seq:step:1'], 'metadata': {'thread_id': '5', 'langgraph_step': 1, 'langgraph_node': 'superbot', 'langgraph_triggers': ('branch:to:superbot',), 'langgraph_path': ('__pregel_pull', 'superbot'), 'langgraph_checkpoint_ns': 'superbot:00510f25-0924-b2dc-4255-c6b0495c9e01', 'checkpoint_ns': 'superbot:00510f25-0924-b2dc-4255-c6b0495c9e01', 'ls_provider': 'groq', 'ls_model_name': 'llama3-8b-8192', 'ls_model_type': 'chat', 'ls_temperature': 0.7}, 'parent_ids': ['7cad732f-72bd-46a5-9abc-123d0cdc5e61', 'f23da8fa-ef04-4911-b854-bf738839c0df']}\n",
      "{'event': 'on_chat_model_stream', 'data': {'chunk': AIMessageChunk(content=',', additional_kwargs={}, response_metadata={}, id='run--b8eae527-7774-4a3a-a05e-04ed3216855a')}, 'run_id': 'b8eae527-7774-4a3a-a05e-04ed3216855a', 'name': 'ChatGroq', 'tags': ['seq:step:1'], 'metadata': {'thread_id': '5', 'langgraph_step': 1, 'langgraph_node': 'superbot', 'langgraph_triggers': ('branch:to:superbot',), 'langgraph_path': ('__pregel_pull', 'superbot'), 'langgraph_checkpoint_ns': 'superbot:00510f25-0924-b2dc-4255-c6b0495c9e01', 'checkpoint_ns': 'superbot:00510f25-0924-b2dc-4255-c6b0495c9e01', 'ls_provider': 'groq', 'ls_model_name': 'llama3-8b-8192', 'ls_model_type': 'chat', 'ls_temperature': 0.7}, 'parent_ids': ['7cad732f-72bd-46a5-9abc-123d0cdc5e61', 'f23da8fa-ef04-4911-b854-bf738839c0df']}\n",
      "{'event': 'on_chat_model_stream', 'data': {'chunk': AIMessageChunk(content=' AI', additional_kwargs={}, response_metadata={}, id='run--b8eae527-7774-4a3a-a05e-04ed3216855a')}, 'run_id': 'b8eae527-7774-4a3a-a05e-04ed3216855a', 'name': 'ChatGroq', 'tags': ['seq:step:1'], 'metadata': {'thread_id': '5', 'langgraph_step': 1, 'langgraph_node': 'superbot', 'langgraph_triggers': ('branch:to:superbot',), 'langgraph_path': ('__pregel_pull', 'superbot'), 'langgraph_checkpoint_ns': 'superbot:00510f25-0924-b2dc-4255-c6b0495c9e01', 'checkpoint_ns': 'superbot:00510f25-0924-b2dc-4255-c6b0495c9e01', 'ls_provider': 'groq', 'ls_model_name': 'llama3-8b-8192', 'ls_model_type': 'chat', 'ls_temperature': 0.7}, 'parent_ids': ['7cad732f-72bd-46a5-9abc-123d0cdc5e61', 'f23da8fa-ef04-4911-b854-bf738839c0df']}\n",
      "{'event': 'on_chat_model_stream', 'data': {'chunk': AIMessageChunk(content=',', additional_kwargs={}, response_metadata={}, id='run--b8eae527-7774-4a3a-a05e-04ed3216855a')}, 'run_id': 'b8eae527-7774-4a3a-a05e-04ed3216855a', 'name': 'ChatGroq', 'tags': ['seq:step:1'], 'metadata': {'thread_id': '5', 'langgraph_step': 1, 'langgraph_node': 'superbot', 'langgraph_triggers': ('branch:to:superbot',), 'langgraph_path': ('__pregel_pull', 'superbot'), 'langgraph_checkpoint_ns': 'superbot:00510f25-0924-b2dc-4255-c6b0495c9e01', 'checkpoint_ns': 'superbot:00510f25-0924-b2dc-4255-c6b0495c9e01', 'ls_provider': 'groq', 'ls_model_name': 'llama3-8b-8192', 'ls_model_type': 'chat', 'ls_temperature': 0.7}, 'parent_ids': ['7cad732f-72bd-46a5-9abc-123d0cdc5e61', 'f23da8fa-ef04-4911-b854-bf738839c0df']}\n",
      "{'event': 'on_chat_model_stream', 'data': {'chunk': AIMessageChunk(content=' robotics', additional_kwargs={}, response_metadata={}, id='run--b8eae527-7774-4a3a-a05e-04ed3216855a')}, 'run_id': 'b8eae527-7774-4a3a-a05e-04ed3216855a', 'name': 'ChatGroq', 'tags': ['seq:step:1'], 'metadata': {'thread_id': '5', 'langgraph_step': 1, 'langgraph_node': 'superbot', 'langgraph_triggers': ('branch:to:superbot',), 'langgraph_path': ('__pregel_pull', 'superbot'), 'langgraph_checkpoint_ns': 'superbot:00510f25-0924-b2dc-4255-c6b0495c9e01', 'checkpoint_ns': 'superbot:00510f25-0924-b2dc-4255-c6b0495c9e01', 'ls_provider': 'groq', 'ls_model_name': 'llama3-8b-8192', 'ls_model_type': 'chat', 'ls_temperature': 0.7}, 'parent_ids': ['7cad732f-72bd-46a5-9abc-123d0cdc5e61', 'f23da8fa-ef04-4911-b854-bf738839c0df']}\n",
      "{'event': 'on_chat_model_stream', 'data': {'chunk': AIMessageChunk(content=',', additional_kwargs={}, response_metadata={}, id='run--b8eae527-7774-4a3a-a05e-04ed3216855a')}, 'run_id': 'b8eae527-7774-4a3a-a05e-04ed3216855a', 'name': 'ChatGroq', 'tags': ['seq:step:1'], 'metadata': {'thread_id': '5', 'langgraph_step': 1, 'langgraph_node': 'superbot', 'langgraph_triggers': ('branch:to:superbot',), 'langgraph_path': ('__pregel_pull', 'superbot'), 'langgraph_checkpoint_ns': 'superbot:00510f25-0924-b2dc-4255-c6b0495c9e01', 'checkpoint_ns': 'superbot:00510f25-0924-b2dc-4255-c6b0495c9e01', 'ls_provider': 'groq', 'ls_model_name': 'llama3-8b-8192', 'ls_model_type': 'chat', 'ls_temperature': 0.7}, 'parent_ids': ['7cad732f-72bd-46a5-9abc-123d0cdc5e61', 'f23da8fa-ef04-4911-b854-bf738839c0df']}\n",
      "{'event': 'on_chat_model_stream', 'data': {'chunk': AIMessageChunk(content=' or', additional_kwargs={}, response_metadata={}, id='run--b8eae527-7774-4a3a-a05e-04ed3216855a')}, 'run_id': 'b8eae527-7774-4a3a-a05e-04ed3216855a', 'name': 'ChatGroq', 'tags': ['seq:step:1'], 'metadata': {'thread_id': '5', 'langgraph_step': 1, 'langgraph_node': 'superbot', 'langgraph_triggers': ('branch:to:superbot',), 'langgraph_path': ('__pregel_pull', 'superbot'), 'langgraph_checkpoint_ns': 'superbot:00510f25-0924-b2dc-4255-c6b0495c9e01', 'checkpoint_ns': 'superbot:00510f25-0924-b2dc-4255-c6b0495c9e01', 'ls_provider': 'groq', 'ls_model_name': 'llama3-8b-8192', 'ls_model_type': 'chat', 'ls_temperature': 0.7}, 'parent_ids': ['7cad732f-72bd-46a5-9abc-123d0cdc5e61', 'f23da8fa-ef04-4911-b854-bf738839c0df']}\n",
      "{'event': 'on_chat_model_stream', 'data': {'chunk': AIMessageChunk(content=' something', additional_kwargs={}, response_metadata={}, id='run--b8eae527-7774-4a3a-a05e-04ed3216855a')}, 'run_id': 'b8eae527-7774-4a3a-a05e-04ed3216855a', 'name': 'ChatGroq', 'tags': ['seq:step:1'], 'metadata': {'thread_id': '5', 'langgraph_step': 1, 'langgraph_node': 'superbot', 'langgraph_triggers': ('branch:to:superbot',), 'langgraph_path': ('__pregel_pull', 'superbot'), 'langgraph_checkpoint_ns': 'superbot:00510f25-0924-b2dc-4255-c6b0495c9e01', 'checkpoint_ns': 'superbot:00510f25-0924-b2dc-4255-c6b0495c9e01', 'ls_provider': 'groq', 'ls_model_name': 'llama3-8b-8192', 'ls_model_type': 'chat', 'ls_temperature': 0.7}, 'parent_ids': ['7cad732f-72bd-46a5-9abc-123d0cdc5e61', 'f23da8fa-ef04-4911-b854-bf738839c0df']}\n",
      "{'event': 'on_chat_model_stream', 'data': {'chunk': AIMessageChunk(content=' else', additional_kwargs={}, response_metadata={}, id='run--b8eae527-7774-4a3a-a05e-04ed3216855a')}, 'run_id': 'b8eae527-7774-4a3a-a05e-04ed3216855a', 'name': 'ChatGroq', 'tags': ['seq:step:1'], 'metadata': {'thread_id': '5', 'langgraph_step': 1, 'langgraph_node': 'superbot', 'langgraph_triggers': ('branch:to:superbot',), 'langgraph_path': ('__pregel_pull', 'superbot'), 'langgraph_checkpoint_ns': 'superbot:00510f25-0924-b2dc-4255-c6b0495c9e01', 'checkpoint_ns': 'superbot:00510f25-0924-b2dc-4255-c6b0495c9e01', 'ls_provider': 'groq', 'ls_model_name': 'llama3-8b-8192', 'ls_model_type': 'chat', 'ls_temperature': 0.7}, 'parent_ids': ['7cad732f-72bd-46a5-9abc-123d0cdc5e61', 'f23da8fa-ef04-4911-b854-bf738839c0df']}\n",
      "{'event': 'on_chat_model_stream', 'data': {'chunk': AIMessageChunk(content='?', additional_kwargs={}, response_metadata={}, id='run--b8eae527-7774-4a3a-a05e-04ed3216855a')}, 'run_id': 'b8eae527-7774-4a3a-a05e-04ed3216855a', 'name': 'ChatGroq', 'tags': ['seq:step:1'], 'metadata': {'thread_id': '5', 'langgraph_step': 1, 'langgraph_node': 'superbot', 'langgraph_triggers': ('branch:to:superbot',), 'langgraph_path': ('__pregel_pull', 'superbot'), 'langgraph_checkpoint_ns': 'superbot:00510f25-0924-b2dc-4255-c6b0495c9e01', 'checkpoint_ns': 'superbot:00510f25-0924-b2dc-4255-c6b0495c9e01', 'ls_provider': 'groq', 'ls_model_name': 'llama3-8b-8192', 'ls_model_type': 'chat', 'ls_temperature': 0.7}, 'parent_ids': ['7cad732f-72bd-46a5-9abc-123d0cdc5e61', 'f23da8fa-ef04-4911-b854-bf738839c0df']}\n",
      "{'event': 'on_chat_model_stream', 'data': {'chunk': AIMessageChunk(content='', additional_kwargs={}, response_metadata={'finish_reason': 'stop', 'model_name': 'llama3-8b-8192', 'system_fingerprint': 'fp_8dc6ecaf8e'}, id='run--b8eae527-7774-4a3a-a05e-04ed3216855a', usage_metadata={'input_tokens': 20, 'output_tokens': 45, 'total_tokens': 65})}, 'run_id': 'b8eae527-7774-4a3a-a05e-04ed3216855a', 'name': 'ChatGroq', 'tags': ['seq:step:1'], 'metadata': {'thread_id': '5', 'langgraph_step': 1, 'langgraph_node': 'superbot', 'langgraph_triggers': ('branch:to:superbot',), 'langgraph_path': ('__pregel_pull', 'superbot'), 'langgraph_checkpoint_ns': 'superbot:00510f25-0924-b2dc-4255-c6b0495c9e01', 'checkpoint_ns': 'superbot:00510f25-0924-b2dc-4255-c6b0495c9e01', 'ls_provider': 'groq', 'ls_model_name': 'llama3-8b-8192', 'ls_model_type': 'chat', 'ls_temperature': 0.7}, 'parent_ids': ['7cad732f-72bd-46a5-9abc-123d0cdc5e61', 'f23da8fa-ef04-4911-b854-bf738839c0df']}\n",
      "{'event': 'on_chat_model_end', 'data': {'output': AIMessage(content=\"Hi Yash! Nice to meet you! It's great to hear that you're interested in tech. What aspect of tech do you enjoy the most? Are you into programming, AI, robotics, or something else?\", additional_kwargs={}, response_metadata={'finish_reason': 'stop', 'model_name': 'llama3-8b-8192', 'system_fingerprint': 'fp_8dc6ecaf8e'}, id='run--b8eae527-7774-4a3a-a05e-04ed3216855a', usage_metadata={'input_tokens': 20, 'output_tokens': 45, 'total_tokens': 65}), 'input': {'messages': [[HumanMessage(content='hi, i am yash and i like tech', additional_kwargs={}, response_metadata={}, id='64f4a662-66bb-49af-b015-b29ad27bd369')]]}}, 'run_id': 'b8eae527-7774-4a3a-a05e-04ed3216855a', 'name': 'ChatGroq', 'tags': ['seq:step:1'], 'metadata': {'thread_id': '5', 'langgraph_step': 1, 'langgraph_node': 'superbot', 'langgraph_triggers': ('branch:to:superbot',), 'langgraph_path': ('__pregel_pull', 'superbot'), 'langgraph_checkpoint_ns': 'superbot:00510f25-0924-b2dc-4255-c6b0495c9e01', 'checkpoint_ns': 'superbot:00510f25-0924-b2dc-4255-c6b0495c9e01', 'ls_provider': 'groq', 'ls_model_name': 'llama3-8b-8192', 'ls_model_type': 'chat', 'ls_temperature': 0.7}, 'parent_ids': ['7cad732f-72bd-46a5-9abc-123d0cdc5e61', 'f23da8fa-ef04-4911-b854-bf738839c0df']}\n",
      "{'event': 'on_chain_stream', 'run_id': 'f23da8fa-ef04-4911-b854-bf738839c0df', 'name': 'superbot', 'tags': ['graph:step:1'], 'metadata': {'thread_id': '5', 'langgraph_step': 1, 'langgraph_node': 'superbot', 'langgraph_triggers': ('branch:to:superbot',), 'langgraph_path': ('__pregel_pull', 'superbot'), 'langgraph_checkpoint_ns': 'superbot:00510f25-0924-b2dc-4255-c6b0495c9e01'}, 'data': {'chunk': {'messages': [AIMessage(content=\"Hi Yash! Nice to meet you! It's great to hear that you're interested in tech. What aspect of tech do you enjoy the most? Are you into programming, AI, robotics, or something else?\", additional_kwargs={}, response_metadata={'finish_reason': 'stop', 'model_name': 'llama3-8b-8192', 'system_fingerprint': 'fp_8dc6ecaf8e'}, id='run--b8eae527-7774-4a3a-a05e-04ed3216855a', usage_metadata={'input_tokens': 20, 'output_tokens': 45, 'total_tokens': 65})]}}, 'parent_ids': ['7cad732f-72bd-46a5-9abc-123d0cdc5e61']}\n",
      "{'event': 'on_chain_end', 'data': {'output': {'messages': [AIMessage(content=\"Hi Yash! Nice to meet you! It's great to hear that you're interested in tech. What aspect of tech do you enjoy the most? Are you into programming, AI, robotics, or something else?\", additional_kwargs={}, response_metadata={'finish_reason': 'stop', 'model_name': 'llama3-8b-8192', 'system_fingerprint': 'fp_8dc6ecaf8e'}, id='run--b8eae527-7774-4a3a-a05e-04ed3216855a', usage_metadata={'input_tokens': 20, 'output_tokens': 45, 'total_tokens': 65})]}, 'input': {'messages': [HumanMessage(content='hi, i am yash and i like tech', additional_kwargs={}, response_metadata={}, id='64f4a662-66bb-49af-b015-b29ad27bd369')]}}, 'run_id': 'f23da8fa-ef04-4911-b854-bf738839c0df', 'name': 'superbot', 'tags': ['graph:step:1'], 'metadata': {'thread_id': '5', 'langgraph_step': 1, 'langgraph_node': 'superbot', 'langgraph_triggers': ('branch:to:superbot',), 'langgraph_path': ('__pregel_pull', 'superbot'), 'langgraph_checkpoint_ns': 'superbot:00510f25-0924-b2dc-4255-c6b0495c9e01'}, 'parent_ids': ['7cad732f-72bd-46a5-9abc-123d0cdc5e61']}\n",
      "{'event': 'on_chain_stream', 'run_id': '7cad732f-72bd-46a5-9abc-123d0cdc5e61', 'name': 'LangGraph', 'tags': [], 'metadata': {'thread_id': '5'}, 'data': {'chunk': {'superbot': {'messages': [AIMessage(content=\"Hi Yash! Nice to meet you! It's great to hear that you're interested in tech. What aspect of tech do you enjoy the most? Are you into programming, AI, robotics, or something else?\", additional_kwargs={}, response_metadata={'finish_reason': 'stop', 'model_name': 'llama3-8b-8192', 'system_fingerprint': 'fp_8dc6ecaf8e'}, id='run--b8eae527-7774-4a3a-a05e-04ed3216855a', usage_metadata={'input_tokens': 20, 'output_tokens': 45, 'total_tokens': 65})]}}}, 'parent_ids': []}\n",
      "{'event': 'on_chain_end', 'data': {'output': {'messages': [HumanMessage(content='hi, i am yash and i like tech', additional_kwargs={}, response_metadata={}, id='64f4a662-66bb-49af-b015-b29ad27bd369'), AIMessage(content=\"Hi Yash! Nice to meet you! It's great to hear that you're interested in tech. What aspect of tech do you enjoy the most? Are you into programming, AI, robotics, or something else?\", additional_kwargs={}, response_metadata={'finish_reason': 'stop', 'model_name': 'llama3-8b-8192', 'system_fingerprint': 'fp_8dc6ecaf8e'}, id='run--b8eae527-7774-4a3a-a05e-04ed3216855a', usage_metadata={'input_tokens': 20, 'output_tokens': 45, 'total_tokens': 65})]}}, 'run_id': '7cad732f-72bd-46a5-9abc-123d0cdc5e61', 'name': 'LangGraph', 'tags': [], 'metadata': {'thread_id': '5'}, 'parent_ids': []}\n"
     ]
    }
   ],
   "source": [
    "# creating thread\n",
    "config = {'configurable': {'thread_id': '5'}}\n",
    "\n",
    "async for event in graph.astream_events({'messages': 'hi, i am yash and i like tech'}, config=config, version='v2'):\n",
    "    print(event)"
   ]
  },
  {
   "cell_type": "markdown",
   "id": "77d81e07",
   "metadata": {},
   "source": [
    "# Human in the Loop"
   ]
  },
  {
   "cell_type": "code",
   "execution_count": 140,
   "id": "89e96bfe",
   "metadata": {},
   "outputs": [],
   "source": [
    "from langgraph.types import interrupt, Command\n",
    "from langchain_core.tools import tool"
   ]
  },
  {
   "cell_type": "code",
   "execution_count": 141,
   "id": "500b2d15",
   "metadata": {},
   "outputs": [],
   "source": [
    "# human assistant\n",
    "\n",
    "@tool\n",
    "def human_assistant(query: str) -> str:\n",
    "    \"\"\"Request assistant from the human\"\"\"\n",
    "    human_response = interrupt({'query': query})\n",
    "    return human_response['data']"
   ]
  },
  {
   "cell_type": "code",
   "execution_count": 142,
   "id": "f5ffdaeb",
   "metadata": {},
   "outputs": [],
   "source": [
    "travily_search = TavilySearch(max_results = 2)"
   ]
  },
  {
   "cell_type": "code",
   "execution_count": 143,
   "id": "b25defc6",
   "metadata": {},
   "outputs": [],
   "source": [
    "# defining tools\n",
    "tools = [travily_search, human_assistant]"
   ]
  },
  {
   "cell_type": "code",
   "execution_count": 144,
   "id": "3286d541",
   "metadata": {},
   "outputs": [],
   "source": [
    "# binding llm with tools\n",
    "llm_with_tools = llm.bind_tools(tools)"
   ]
  },
  {
   "cell_type": "code",
   "execution_count": 145,
   "id": "50e1e3fd",
   "metadata": {},
   "outputs": [],
   "source": [
    "# Node\n",
    "def chatbot(state: State):\n",
    "    return {\n",
    "        'messages': [llm_with_tools.invoke(state['messages'])]\n",
    "    }"
   ]
  },
  {
   "cell_type": "code",
   "execution_count": 146,
   "id": "46837184",
   "metadata": {},
   "outputs": [],
   "source": [
    "# Memory\n",
    "memory = MemorySaver()"
   ]
  },
  {
   "cell_type": "code",
   "execution_count": 147,
   "id": "6f8cb14d",
   "metadata": {},
   "outputs": [
    {
     "data": {
      "image/png": "[encoded data removed]",
      "text/plain": [
       "<langgraph.graph.state.CompiledStateGraph object at 0x75a9eee73b00>"
      ]
     },
     "execution_count": 147,
     "metadata": {},
     "output_type": "execute_result"
    }
   ],
   "source": [
    "# Building graph\n",
    "builder = StateGraph(State)\n",
    "\n",
    "# adding nodes\n",
    "builder.add_node('chatbot', chatbot)\n",
    "tool_node = ToolNode(tools = tools)\n",
    "builder.add_node('tools', tool_node)\n",
    "\n",
    "# adding edges\n",
    "builder.add_edge(START, 'chatbot')\n",
    "builder.add_conditional_edges('chatbot', tools_condition)\n",
    "builder.add_edge('tools', 'chatbot')\n",
    "\n",
    "# compile\n",
    "graph = builder.compile(checkpointer = memory)\n",
    "graph"
   ]
  },
  {
   "cell_type": "code",
   "execution_count": 148,
   "id": "04307ea3",
   "metadata": {},
   "outputs": [
    {
     "name": "stdout",
     "output_type": "stream",
     "text": [
      "================================\u001b[1m Human Message \u001b[0m=================================\n",
      "\n",
      "I need some expert guidance and assistance for building an AI agent. Can you please request assistant for me?\n",
      "==================================\u001b[1m Ai Message \u001b[0m==================================\n",
      "Tool Calls:\n",
      "  human_assistant (g45tz8637)\n",
      " Call ID: g45tz8637\n",
      "  Args:\n",
      "    query: I need some expert guidance and assistance for building an AI agent. Can you please request assistant for me?\n"
     ]
    }
   ],
   "source": [
    "# config\n",
    "config = {'configurable': {'thread_id': '1'}}\n",
    "\n",
    "# running the graph\n",
    "events = graph.stream(\n",
    "    {'messages': 'I need some expert guidance and assistance for building an AI agent. Can you please request assistant for me?'},\n",
    "    config = config,\n",
    "    stream_mode = 'values',\n",
    ")\n",
    "for event in events:\n",
    "    if 'messages' in event:\n",
    "        event['messages'][-1].pretty_print()"
   ]
  },
  {
   "cell_type": "code",
   "execution_count": 149,
   "id": "8bfce13d",
   "metadata": {},
   "outputs": [
    {
     "name": "stdout",
     "output_type": "stream",
     "text": [
      "==================================\u001b[1m Ai Message \u001b[0m==================================\n",
      "Tool Calls:\n",
      "  human_assistant (g45tz8637)\n",
      " Call ID: g45tz8637\n",
      "  Args:\n",
      "    query: I need some expert guidance and assistance for building an AI agent. Can you please request assistant for me?\n",
      "=================================\u001b[1m Tool Message \u001b[0m=================================\n",
      "Name: human_assistant\n",
      "\n",
      "{'We can use langGraph and n8n to build the ai agents. You can seach on web reagrding these tools'}\n",
      "==================================\u001b[1m Ai Message \u001b[0m==================================\n",
      "Tool Calls:\n",
      "  tavily_search (0cm0ftx91)\n",
      " Call ID: 0cm0ftx91\n",
      "  Args:\n",
      "    exclude_domains: None\n",
      "    include_domains: None\n",
      "    include_images: False\n",
      "    query: How to use langGraph and n8n to build AI agents\n",
      "    search_depth: advanced\n",
      "    time_range: None\n",
      "    topic: general\n",
      "=================================\u001b[1m Tool Message \u001b[0m=================================\n",
      "Name: tavily_search\n",
      "\n",
      "{\"query\": \"How to use langGraph and n8n to build AI agents\", \"follow_up_questions\": null, \"answer\": null, \"images\": [], \"results\": [{\"title\": \"Building AI Agents with LangGraph and n8n: A Hands-On Comparison\", \"url\": \"https://orangeloops.com/2025/06/building-ai-agents-with-langgraph-and-n8n-a-hands-on-comparison/\", \"content\": \"Both LangGraph and n8n offer powerful ways to build workflows that integrate AI agents, but they serve different needs and audiences.\\n\\nLangGraph shines when you need complete control over your agent’s behavior, including memory management, dynamic tool usage, and nuanced flow logic. It’s better suited for developers comfortable with code who want to build sophisticated, custom agent systems. [...] In our case, we found that LangGraph gave us fine-tuned control for prototyping our HR agent’s reasoning, while n8n made it easy to deploy that logic into production-ready workflows and integrate it with platforms like Slack. The combination of both turned out to be a pragmatic and effective solution, leveraging LangGraph for precision and n8n for execution. [...] In this article, we’ll explore two different approaches to orchestrating OLivIA’s workflow:\\n\\n   One using LangGraph, a library for building stateful, agent-based workflows in code.\\n\\n   The other using n8n, a visual low-code platform for building automation flows.\\n\\nBy replicating the exact same logic in both systems, we aim to provide a clear, hands-on comparison between these tools in terms of flexibility, complexity, developer experience, and integration with LLMs.\", \"score\": 0.90289277, \"raw_content\": null}, {\"url\": \"https://www.reddit.com/r/AI_Agents/comments/1lkxlv9/is_it_really_complicated_to_integrate_n8n_with/\", \"title\": \"Is it really complicated to integrate n8n with langraph? : r/AI_Agents\", \"content\": \"Not complicated at all! Just use n8n's webhook node to receive data from LangGraph and HTTP Request node to call LangGraph APIs. I do this with\", \"score\": 0.8834878, \"raw_content\": null}], \"response_time\": 2.27}\n",
      "==================================\u001b[1m Ai Message \u001b[0m==================================\n",
      "Tool Calls:\n",
      "  tavily_search (j3af0tgwr)\n",
      " Call ID: j3af0tgwr\n",
      "  Args:\n",
      "    exclude_domains: None\n",
      "    include_domains: None\n",
      "    include_images: False\n",
      "    query: What are the key differences between LangGraph and n8n for building AI agents\n",
      "    search_depth: advanced\n",
      "    time_range: None\n",
      "    topic: general\n",
      "  tavily_search (12x8769r9)\n",
      " Call ID: 12x8769r9\n",
      "  Args:\n",
      "    exclude_domains: None\n",
      "    include_domains: None\n",
      "    include_images: False\n",
      "    query: What are the key differences between LangGraph and n8n for building AI agents\n",
      "    search_depth: advanced\n",
      "    time_range: None\n",
      "    topic: general\n",
      "=================================\u001b[1m Tool Message \u001b[0m=================================\n",
      "Name: tavily_search\n",
      "\n",
      "{\"query\": \"What are the key differences between LangGraph and n8n for building AI agents\", \"follow_up_questions\": null, \"answer\": null, \"images\": [], \"results\": [{\"url\": \"https://www.analyticsvidhya.com/blog/2025/06/n8n-vs-langgraph/\", \"title\": \"n8n vs LangGraph: Which is Better? - Analytics Vidhya\", \"content\": \"n8n and LangGraph can serve different but complementary purposes in the stack of AI workflow tools. Use n8n for fast, visual automation that connects tools and manages business logic without the need for extensive coding. Use LangGraph when you need memory, complex decision-making, and even collaboration across multiple agents. Instead of choosing one or the other, think about the possibilities of coupling the two together. Where, n8n handles orchestration across systems, LangGraph provides the [...] Graph-Based Architecture: Represents workflows as directed graphs of LLM agents, facilitating complex logic such as branching, loops, and conditionals.\\n   Stateful Workflows: Built-in state management allows agents to preserve context, track progress, and adapt dynamically at every stage of the workflow.\\n   Multi-Agent Coordination: Allows collaborative agents to perform tasks in parallel while enabling state and network routing to be decentralized, creating scalable and efficient systems. [...] LangGraph uses Python to create intelligent AI agents that can conduct research on topics from web searches and generate matching LinkedIn content. Appropriately, address errors automatically. It has powerful decision-making abilities with multi-node processing, which makes it the best option for developers. Also, for people who want a smarter programmatic content generation system that provides customization, conditional logic, and state management.\\n\\nInput code: Click here to view the code\", \"score\": 0.885404, \"raw_content\": null}, {\"url\": \"https://orangeloops.com/2025/06/building-ai-agents-with-langgraph-vs-n8n-a-hands-on-comparison/\", \"title\": \"Building AI Agents with LangGraph vs n8n: A Hands-On Comparison\", \"content\": \"LangGraph and n8n both performed well in terms of average score, but LangGraph showed a higher number of questions marked as excellent, while n8n showed a\", \"score\": 0.8765607, \"raw_content\": null}], \"response_time\": 2.83}\n",
      "==================================\u001b[1m Ai Message \u001b[0m==================================\n",
      "\n",
      "I think I can provide a direct response now.\n",
      "\n",
      "From the results, it's clear that both LangGraph and n8n are powerful tools for building AI agents, but they serve different purposes. LangGraph is ideal for complex decision-making, memory management, and collaboration across multiple agents, while n8n is better suited for fast, visual automation and orchestration across systems.\n",
      "\n",
      "If you're looking to build a sophisticated AI agent with advanced logic and state management, LangGraph might be the better choice. However, if you need a more streamlined and visual approach to building workflows, n8n could be the way to go.\n",
      "\n",
      "Ultimately, the decision between LangGraph and n8n comes down to your specific needs and the type of AI agent you're trying to build.\n"
     ]
    }
   ],
   "source": [
    "# human intervension\n",
    "human_response = {\n",
    "    \"We can use langGraph and n8n to build the ai agents. You can seach on web reagrding these tools\"\n",
    "}\n",
    "human_command = Command(resume = {'data': human_response})\n",
    "\n",
    "# run after human intervention\n",
    "events = graph.stream(human_command, config = config, stream_mode = 'values')\n",
    "for event in events:\n",
    "    if 'messages' in event:\n",
    "        event['messages'][-1].pretty_print()"
   ]
  },
  {
   "cell_type": "code",
   "execution_count": null,
   "id": "60cdf0ee",
   "metadata": {},
   "outputs": [],
   "source": []
  }
 ],
 "metadata": {
  "kernelspec": {
   "display_name": "myenv",
   "language": "python",
   "name": "python3"
  },
  "language_info": {
   "codemirror_mode": {
    "name": "ipython",
    "version": 3
   },
   "file_extension": ".py",
   "mimetype": "text/x-python",
   "name": "python",
   "nbconvert_exporter": "python",
   "pygments_lexer": "ipython3",
   "version": "3.12.3"
  }
 },
 "nbformat": 4,
 "nbformat_minor": 5
}
